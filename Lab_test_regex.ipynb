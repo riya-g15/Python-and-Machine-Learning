{
 "cells": [
  {
   "cell_type": "code",
   "execution_count": 2,
   "id": "208da0d3",
   "metadata": {},
   "outputs": [
    {
     "name": "stdout",
     "output_type": "stream",
     "text": [
      "Here are the .net/in emails:  riyagoyal@gmail.net \n",
      "\n",
      "Here are the .net/in emails:  ramesh@orkut.in \n",
      "\n",
      "Here are the .net/in emails:  rimin@facebook.in \n",
      "\n",
      "Here are the .net/in emails:  gauri@newdf.net \n",
      "\n",
      "Here are the .net/in emails:  pakhi@female.in \n",
      "\n",
      "Here are the .net/in emails:  prerna@facebook.in \n",
      "\n"
     ]
    }
   ],
   "source": [
    "#EMAIL VALIDATION\n",
    "\n",
    "import regex as re; \n",
    "\n",
    "list1=(\"riyagoyal@gmail.net\", \"rithika@yahoo.com\",\"ramesh@orkut.in\", \"rimin@facebook.in\", \"rashika@gmail.com\",\"shaurya@dksjs.org\",\"gauri@newdf.net\",\"lakshay@gmail.org\",\"pakhi@female.in\",\"prerna@facebook.in\")\n",
    "patt =\"(\\w+)@(\\w+\\.)+(net|in)\"\n",
    "for i in list1:\n",
    "    email = re.match(patt,i)\n",
    "    if email:\n",
    "        print(\"Here are the .net/in emails: \",email.group(),'\\n')"
   ]
  },
  {
   "cell_type": "code",
   "execution_count": 4,
   "id": "3b1e4df9",
   "metadata": {},
   "outputs": [
    {
     "name": "stdout",
     "output_type": "stream",
     "text": [
      "No match\n",
      "No match\n",
      "Match found! ramesh@orkut.in\n",
      "Match found! rimin@facebook.in\n",
      "No match\n",
      "No match\n",
      "No match\n",
      "No match\n",
      "Match found! pakhi@female.in\n",
      "Match found! prerna@facebook.in\n"
     ]
    }
   ],
   "source": [
    "#CHECKING FOR IN IN EMAILS\n",
    "\n",
    "for i in list1:\n",
    "    x = re.findall(\"in\", i)\n",
    "\n",
    "    if x:\n",
    "        print(\"Match found!\", i)\n",
    "    else:\n",
    "        print(\"No match\")"
   ]
  },
  {
   "cell_type": "code",
   "execution_count": 12,
   "id": "a1024b55",
   "metadata": {},
   "outputs": [
    {
     "name": "stdout",
     "output_type": "stream",
     "text": [
      "Invalid date:   43/12/20\n",
      "Valid date:   22/09/21\n",
      "Valid date:   15/07/18\n",
      "Valid date:   30/02/19\n"
     ]
    }
   ],
   "source": [
    "import re   \n",
    "\n",
    "# for validating a Date\n",
    "\n",
    "patt= '^([0]?[1-9]|[1|2][0-9]|[3][0|1])[./-]([0]?[1-9]|[1][0-2])[./-]([0-9]{2})$'  \n",
    "  \n",
    "def validate(date):     \n",
    "    if(re.search(patt,date)):   \n",
    "        print(\"Valid date:  \", date)   \n",
    "    else:  \n",
    "        print(\"Invalid date:  \", date) \n",
    "        \n",
    "\n",
    "date=\"43/12/20\"\n",
    "validate(date)\n",
    "\n",
    "date=\"22/09/21\"\n",
    "validate(date)\n",
    "\n",
    "date=\"15/07/18\"\n",
    "validate(date)\n",
    "\n",
    "date=\"30/02/19\"\n",
    "validate(date)\n"
   ]
  },
  {
   "cell_type": "code",
   "execution_count": 14,
   "id": "eafecbca",
   "metadata": {},
   "outputs": [
    {
     "name": "stdout",
     "output_type": "stream",
     "text": [
      "Valid date:   22/02/21\n",
      "Invalid date:   30/02/19\n"
     ]
    }
   ],
   "source": [
    "#for february\n",
    "\n",
    "patt = '^([0]?[1-9]|[1|2][0-9])[./-]([0][2])[./-]([0-9]{2})$'\n",
    "\n",
    "def validate(date):     \n",
    "    if(re.search(patt,date)):   \n",
    "        print(\"Valid date:  \", date)   \n",
    "    else:  \n",
    "        print(\"Invalid date:  \", date)\n",
    "        \n",
    "        \n",
    "date=\"22/02/21\"\n",
    "validate(date)\n",
    "\n",
    "date=\"30/02/19\"\n",
    "validate(date)\n",
    "        \n",
    "        "
   ]
  },
  {
   "cell_type": "code",
   "execution_count": null,
   "id": "f3374fba",
   "metadata": {},
   "outputs": [],
   "source": []
  }
 ],
 "metadata": {
  "kernelspec": {
   "display_name": "Python 3",
   "language": "python",
   "name": "python3"
  },
  "language_info": {
   "codemirror_mode": {
    "name": "ipython",
    "version": 3
   },
   "file_extension": ".py",
   "mimetype": "text/x-python",
   "name": "python",
   "nbconvert_exporter": "python",
   "pygments_lexer": "ipython3",
   "version": "3.8.8"
  }
 },
 "nbformat": 4,
 "nbformat_minor": 5
}
