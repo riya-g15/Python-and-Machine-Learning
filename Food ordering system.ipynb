{
 "cells": [
  {
   "cell_type": "code",
   "execution_count": 33,
   "id": "b8ea58be",
   "metadata": {},
   "outputs": [
    {
     "ename": "SyntaxError",
     "evalue": "invalid syntax (<ipython-input-33-2ba85bcda77b>, line 2)",
     "output_type": "error",
     "traceback": [
      "\u001b[1;36m  File \u001b[1;32m\"<ipython-input-33-2ba85bcda77b>\"\u001b[1;36m, line \u001b[1;32m2\u001b[0m\n\u001b[1;33m    1teamname= \"Riya\"\u001b[0m\n\u001b[1;37m     ^\u001b[0m\n\u001b[1;31mSyntaxError\u001b[0m\u001b[1;31m:\u001b[0m invalid syntax\n"
     ]
    }
   ],
   "source": [
    "#exploring variables\n",
    "1teamname= \"Riya\"  \n",
    "#error because invalid variable name"
   ]
  },
  {
   "cell_type": "code",
   "execution_count": 7,
   "id": "8d93a3f2",
   "metadata": {},
   "outputs": [
    {
     "name": "stdout",
     "output_type": "stream",
     "text": [
      "['Parag', 'Waris', 'Riya', 'Priya', 'Mehul', 'Anya', 'Dazy', 'Sona', 'Akash', 'Sid', 'Ayush', 'Aarna', 'Paresh']\n",
      "Parag Order- 1\n",
      "Waris Order- 2\n",
      "Riya Order- 3\n",
      "Priya Order- 4\n",
      "Mehul Order- 5\n",
      "Anya Order- 6\n",
      "Dazy Order- 7\n",
      "Sona Order- 8\n",
      "Akash Order- 9\n",
      "Sid Order- 10\n",
      "Ayush Order- 11\n",
      "Aarna Order- 12\n",
      "Paresh Order- 13\n"
     ]
    }
   ],
   "source": [
    "#storing customer names using list\n",
    "customer= [\"Parag\",\"Waris\",\"Riya\",\"Priya\",\"Mehul\", \"Anya\",\"Dazy\", \"Sona\", \"Akash\", \"Sid\", \"Ayush\", \"Aarna\", \"Paresh\"]\n",
    "print (customer)\n",
    "l=len(customer)\n",
    "\n",
    "#to find out number of customers and orders\n",
    "#using 'for' loop\n",
    "for i in range (l):\n",
    "        print(customer[i],\"Order-\", i+1)"
   ]
  },
  {
   "cell_type": "code",
   "execution_count": 2,
   "id": "f9eea12d",
   "metadata": {},
   "outputs": [
    {
     "name": "stdout",
     "output_type": "stream",
     "text": [
      "Would you like to order? Y/N  Y\n",
      "Which item would you like to order : 1.Pizza 2.Burger 3.Pasta 4.Nothing \n",
      "Enter choice1\n",
      "Hello! Please choose pizza size.\n",
      "1.Large 2.Medium 3.Small1\n",
      "Order accepted!!\n",
      "Your large pizza would be ready\n"
     ]
    }
   ],
   "source": [
    "#Using functions to make a little ordering system\n",
    "\n",
    "\n",
    "# import the time module\n",
    "import time\n",
    "  \n",
    "# defining the countdown func.\n",
    "#using while loop \n",
    "def countdown(t):\n",
    "    \n",
    "    while t:\n",
    "        mins, secs = divmod(t,60)\n",
    "        timer = '{:02d}:{:02d}'.format(mins, secs)\n",
    "        print(timer, end=\"\\r\")\n",
    "        time.sleep(1)\n",
    "        t -= 1\n",
    "      \n",
    "    print('Order accepted!!')\n",
    "\n",
    "#function using if and elif statements\n",
    "def pizza():\n",
    "    print(\"Hello! Please choose pizza size.\")\n",
    "    size= int(input(\"1.Large 2.Medium 3.Small\"))\n",
    "    if (size==1):\n",
    "        countdown(10)\n",
    "        print(\"Your large pizza would be ready\")\n",
    "        \n",
    "    elif (size==2):\n",
    "        countdown(10)\n",
    "        print(\"Your medium pizza would be ready\")\n",
    "    elif (size==3):\n",
    "        countdown(10)\n",
    "        print(\"Your small pizza would be ready\")\n",
    "    else:\n",
    "        print(\"Wrong choice\")\n",
    "        menu()\n",
    "\n",
    "        \n",
    "def burger():\n",
    "    print(\"Hello! Which burger would you want to have?\")\n",
    "    type= int(input(\"1.Cheese 2.Island 3.Peri-Peri \"))\n",
    "    if (type==1):\n",
    "        countdown(10)\n",
    "        print(\"Your cheese burger would be ready\")\n",
    "    elif (type==2):\n",
    "        countdown(10)\n",
    "        print(\"Your island burger would be ready\")\n",
    "    elif (type==3):\n",
    "        countdown(10)\n",
    "        print(\"Your peri-peri burger would be ready\")\n",
    "    else:\n",
    "        print(\"Wrong choice\")\n",
    "        menu()\n",
    "\n",
    "\n",
    "\n",
    "def pasta():\n",
    "    print(\"Hello! Which sauce would you want to have?\")\n",
    "    type= int(input(\"1.Red 2.Mixed 3.White \"))\n",
    "    if (type==1):\n",
    "        countdown(10)\n",
    "        print(\"Your Red sauce pasta would be ready\")\n",
    "    elif (type==2):\n",
    "        countdown(10)\n",
    "        print(\"Your Mixed Sauce pasta would be ready\")\n",
    "    elif (type==3):\n",
    "        countdown(10)\n",
    "        print(\"Your White Sauce pasta would be ready\")\n",
    "    else:\n",
    "        print(\"Wrong choice\")\n",
    "        menu()\n",
    "\n",
    "        \n",
    "#fucntion with one argument\n",
    "def food(i):\n",
    "    if(i==1):\n",
    "        pizza()\n",
    "    elif(i==2):\n",
    "        burger()\n",
    "    elif (i==3):\n",
    "        pasta()\n",
    "    elif (i==4) :\n",
    "        print(\"Okay! See you next time\")\n",
    "    else:\n",
    "        print(\"Oops! Wrong choice. Order again.\")\n",
    "        menu()\n",
    "\n",
    "def menu():       \n",
    "    print(\"Which item would you like to order : 1.Pizza 2.Burger 3.Pasta 4.Nothing \")\n",
    "    order=int(input(\"Enter choice\"))\n",
    "    food(order)\n",
    "\n",
    "ans=input(\"Would you like to order? Y/N  \")\n",
    "if(ans==\"Y\"):\n",
    "    menu()\n",
    "else:\n",
    "    print(\" Okay! See you next time\")\n"
   ]
  },
  {
   "cell_type": "code",
   "execution_count": null,
   "id": "1bc9f60d",
   "metadata": {},
   "outputs": [],
   "source": []
  },
  {
   "cell_type": "code",
   "execution_count": null,
   "id": "b27eb435",
   "metadata": {},
   "outputs": [],
   "source": []
  }
 ],
 "metadata": {
  "kernelspec": {
   "display_name": "Python 3",
   "language": "python",
   "name": "python3"
  },
  "language_info": {
   "codemirror_mode": {
    "name": "ipython",
    "version": 3
   },
   "file_extension": ".py",
   "mimetype": "text/x-python",
   "name": "python",
   "nbconvert_exporter": "python",
   "pygments_lexer": "ipython3",
   "version": "3.8.8"
  }
 },
 "nbformat": 4,
 "nbformat_minor": 5
}
