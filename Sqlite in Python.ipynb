{
 "cells": [
  {
   "cell_type": "code",
   "execution_count": 1,
   "id": "681bc6c6",
   "metadata": {},
   "outputs": [
    {
     "name": "stdout",
     "output_type": "stream",
     "text": [
      "Connected to the Student database\n"
     ]
    }
   ],
   "source": [
    "import sqlite3\n",
    "\n",
    "def connect():    \n",
    "    # connecting to the database\n",
    "    connection = sqlite3.connect(\"Student.db\")\n",
    "    \n",
    "    # cursor\n",
    "    crsr = connection.cursor()\n",
    "\n",
    "    # print statement will execute if there are no errors\n",
    "    print(\"Connected to the Student database\")\n",
    "    \n",
    "    connection.close()\n",
    "    \n",
    "connect()"
   ]
  },
  {
   "cell_type": "code",
   "execution_count": 2,
   "id": "eb720643",
   "metadata": {},
   "outputs": [],
   "source": [
    "def createtable():\n",
    "    # connecting to the database\n",
    "    connection = sqlite3.connect(\"Student.db\")\n",
    "    \n",
    "    # cursor\n",
    "    crsr = connection.cursor()\n",
    "  \n",
    "    com1= \"\"\"CREATE TABLE CLASS2\n",
    "    (SNAME VARCHAR(15),\n",
    "    REGNUM CHAR(6) PRIMARY KEY,\n",
    "    GENDER VARCHAR(15) CHECK (GENDER IN('MALE','FEMALE','TRANSGENDER')) NOT NULL,\n",
    "    PROGRAM VARCHAR(12) NOT NULL,\n",
    "    SUB1 NUMBER(3) NOT NULL CHECK (SUB1<200),\n",
    "    SUB2 NUMBER(3) NOT NULL CHECK (SUB2<200),\n",
    "    SUB3 NUMBER(3) NOT NULL CHECK (SUB3<200), \n",
    "    CL_TEACHER VARCHAR(15) NOT NULL,\n",
    "    FAV_SUB VARCHAR(15) NOT NULL);\"\"\"\n",
    "    \n",
    "    crsr.execute(com1) \n",
    "    \n",
    "    # close the connection\n",
    "    connection.close()\n",
    "    \n",
    "    \n",
    "createtable()"
   ]
  },
  {
   "cell_type": "code",
   "execution_count": 3,
   "id": "ca8d4305",
   "metadata": {},
   "outputs": [],
   "source": [
    "def Insert():\n",
    "    # connecting to the database\n",
    "    connection = sqlite3.connect(\"Student.db\")\n",
    "    \n",
    "    #cursor\n",
    "    crsr = connection.cursor()\n",
    "    \n",
    "    try:\n",
    "    \n",
    "        # SQL command to insert the data in the table\n",
    "        com1 = \"\"\"INSERT INTO CLASS2 VALUES('RIYA','214804','FEMALE','MDS', 154,123,180,'SEENA','INFERENCE');\"\"\"\n",
    "        crsr.execute(com1)\n",
    "    \n",
    "        com2 =\"\"\"INSERT INTO CLASS2 VALUES('PARESH','214805','MALE','MCA', 87,113,145,'RAM','PYTHON');\"\"\"\n",
    "        crsr.execute(com2)\n",
    "    \n",
    "        com3 = \"\"\"INSERT INTO CLASS2 VALUES('NYRA','214806','TRANSGENDER','MSTAT', 152,91,190,'MEERA','CALCULUS');\"\"\"\n",
    "        crsr.execute(com3)\n",
    "\n",
    "        com4=\"\"\"INSERT INTO CLASS2 VALUES('MAHIMA','214807','FEMALE','MDS', 122,170,155,'SEENA','PROGRAMMING');\"\"\"\n",
    "        crsr.execute(com4)\n",
    "    \n",
    "        com5=\"\"\"INSERT INTO CLASS2 VALUES('GAURAV','214808','MALE','MCA', 31,112,133,'RAM','C++');\"\"\"\n",
    "        crsr.execute(com5)\n",
    "        \n",
    "        connection.commit()\n",
    "        connection.close()\n",
    "    \n",
    "    except:\n",
    "        print(\"Error\")\n",
    "        connection.close()\n",
    "        \n",
    "        \n",
    "\n",
    " \n",
    "Insert()"
   ]
  },
  {
   "cell_type": "code",
   "execution_count": 4,
   "id": "5a31d9c8",
   "metadata": {},
   "outputs": [],
   "source": [
    "def Total():\n",
    "    \n",
    "    # connecting to the database\n",
    "    connection = sqlite3.connect(\"Student.db\")\n",
    "    \n",
    "    #cursor\n",
    "    crsr = connection.cursor()\n",
    "    \n",
    "    com1 = \"\"\"ALTER TABLE CLASS2 ADD TOTAL NUMBER(3);\"\"\"\n",
    "    crsr.execute(com1)\n",
    "        \n",
    "    com2 = \"\"\"UPDATE CLASS2 SET TOTAL=SUB1+SUB2+SUB3;\"\"\"\n",
    "    crsr.execute(com2) \n",
    "    \n",
    "    connection.commit()\n",
    "    connection.close()\n",
    "        \n",
    "    \n",
    "\n",
    "        \n",
    "        \n",
    "        "
   ]
  },
  {
   "cell_type": "code",
   "execution_count": 5,
   "id": "aa31face",
   "metadata": {},
   "outputs": [],
   "source": [
    "Total()"
   ]
  },
  {
   "cell_type": "code",
   "execution_count": 9,
   "id": "42a84c36",
   "metadata": {},
   "outputs": [
    {
     "name": "stdout",
     "output_type": "stream",
     "text": [
      "('RIYA', '214804', 'FEMALE', 'MDS', 154, 123, 180, 'SEENA', 'INFERENCE', 457) \n",
      "\n",
      "('PARESH', '214805', 'MALE', 'MCA', 87, 113, 145, 'RAM', 'PYTHON', 345) \n",
      "\n",
      "('NYRA', '214806', 'TRANSGENDER', 'MSTAT', 152, 91, 190, 'MEERA', 'CALCULUS', 433) \n",
      "\n",
      "('MAHIMA', '214807', 'FEMALE', 'MDS', 122, 170, 155, 'SEENA', 'PROGRAMMING', 447) \n",
      "\n",
      "('GAURAV', '214808', 'MALE', 'MCA', 31, 112, 133, 'RAM', 'C++', 276) \n",
      "\n"
     ]
    }
   ],
   "source": [
    "def display_main():\n",
    "    conn = sqlite3.connect('Student.db')\n",
    "\n",
    "    ans = conn.execute(\"SELECT * FROM CLASS2;\")\n",
    "  \n",
    "    for r in ans:\n",
    "        print(r,'\\n')\n",
    "\n",
    "    conn.close()\n",
    "display_main()"
   ]
  },
  {
   "cell_type": "code",
   "execution_count": 27,
   "id": "0b527d85",
   "metadata": {},
   "outputs": [],
   "source": [
    "def tot400():\n",
    "    \n",
    "    # connecting to the database\n",
    "    connection = sqlite3.connect(\"Student.db\")\n",
    "    \n",
    "    #cursor\n",
    "    crsr = connection.cursor()\n",
    "    \n",
    "    \n",
    "    com=\"\"\" SELECT * FROM CLASS2 WHERE TOTAL>400 and GENDER LIKE 'FEMALE' ;\"\"\"\n",
    "    \n",
    "    print(\"\\nThe following females have marks >400 \\n \")\n",
    "    \n",
    "    ans=crsr.execute(com)\n",
    "    \n",
    "    for r in ans:\n",
    "        print(r,'\\n')"
   ]
  },
  {
   "cell_type": "code",
   "execution_count": 28,
   "id": "7fd6130e",
   "metadata": {},
   "outputs": [
    {
     "name": "stdout",
     "output_type": "stream",
     "text": [
      "\n",
      "The following females have marks >400 \n",
      " \n",
      "('RIYA', '214804', 'FEMALE', 'MDS', 154, 123, 180, 'SEENA', 'INFERENCE', 457) \n",
      "\n",
      "('MAHIMA', '214807', 'FEMALE', 'MDS', 122, 170, 155, 'SEENA', 'PROGRAMMING', 447) \n",
      "\n"
     ]
    }
   ],
   "source": [
    "tot400()"
   ]
  },
  {
   "cell_type": "code",
   "execution_count": 32,
   "id": "5a37dce7",
   "metadata": {},
   "outputs": [],
   "source": [
    "def subjectin():\n",
    "    \n",
    "    # connecting to the database\n",
    "    connection = sqlite3.connect(\"Student.db\")\n",
    "    \n",
    "    #cursor\n",
    "    crsr = connection.cursor()\n",
    "    \n",
    "    \n",
    "    com=\"\"\" SELECT SNAME,FAV_SUB FROM CLASS2 WHERE FAV_SUB LIKE '%in%' ;\"\"\"\n",
    "    \n",
    "    print(\"\\nThe following people have faourite subjects containing 'in' \\n \")\n",
    "    \n",
    "    ans=crsr.execute(com)\n",
    "    \n",
    "    for r in ans:\n",
    "        print(r,'\\n')"
   ]
  },
  {
   "cell_type": "code",
   "execution_count": 33,
   "id": "8eef90ad",
   "metadata": {},
   "outputs": [
    {
     "name": "stdout",
     "output_type": "stream",
     "text": [
      "\n",
      "The following people have faourite subjects containing 'in' \n",
      " \n",
      "('RIYA', 'INFERENCE') \n",
      "\n",
      "('MAHIMA', 'PROGRAMMING') \n",
      "\n"
     ]
    }
   ],
   "source": [
    "subjectin()"
   ]
  },
  {
   "cell_type": "code",
   "execution_count": 50,
   "id": "6a706f52",
   "metadata": {},
   "outputs": [],
   "source": [
    "def GROUPBY():\n",
    "    \n",
    "    # connecting to the database\n",
    "    connection = sqlite3.connect(\"Student.db\")\n",
    "    \n",
    "    #cursor\n",
    "    crsr = connection.cursor()\n",
    "    \n",
    "    \n",
    "    com4=\"\"\"select sum(total),program from class2 group by program having sum(total)>700;\"\"\"\n",
    " \n",
    "    print(\"\\nThe following subjects have a total marks by all students > 700 'in' \\n \")\n",
    "    \n",
    "    ans=crsr.execute(com4)\n",
    "    \n",
    "    for r in ans:\n",
    "        print(r,'\\n')\n"
   ]
  },
  {
   "cell_type": "code",
   "execution_count": 51,
   "id": "6fcae0cf",
   "metadata": {},
   "outputs": [
    {
     "name": "stdout",
     "output_type": "stream",
     "text": [
      "\n",
      "The following subjects have a total marks by all students > 700 'in' \n",
      " \n",
      "(904, 'MDS') \n",
      "\n"
     ]
    }
   ],
   "source": [
    "GROUPBY()"
   ]
  },
  {
   "cell_type": "code",
   "execution_count": 54,
   "id": "103948f3",
   "metadata": {},
   "outputs": [],
   "source": [
    "def desc():\n",
    "    \n",
    "    # connecting to the database\n",
    "    connection = sqlite3.connect(\"Student.db\")\n",
    "    \n",
    "    #cursor\n",
    "    crsr = connection.cursor()\n",
    "    \n",
    "    \n",
    "    com4=\"\"\"Select * from class2 Order by Total Desc;\"\"\"\n",
    " \n",
    "    print(\"\\n Ordered by Total marks : 'in' \\n \")\n",
    "    \n",
    "    ans=crsr.execute(com4)\n",
    "    \n",
    "    for r in ans:\n",
    "        print(r,'\\n')"
   ]
  },
  {
   "cell_type": "code",
   "execution_count": 55,
   "id": "556fafcd",
   "metadata": {},
   "outputs": [
    {
     "name": "stdout",
     "output_type": "stream",
     "text": [
      "\n",
      " Ordered by Total marks : 'in' \n",
      " \n",
      "('RIYA', '214804', 'FEMALE', 'MDS', 154, 123, 180, 'SEENA', 'INFERENCE', 457) \n",
      "\n",
      "('MAHIMA', '214807', 'FEMALE', 'MDS', 122, 170, 155, 'SEENA', 'PROGRAMMING', 447) \n",
      "\n",
      "('NYRA', '214806', 'TRANSGENDER', 'MSTAT', 152, 91, 190, 'MEERA', 'CALCULUS', 433) \n",
      "\n",
      "('PARESH', '214805', 'MALE', 'MCA', 87, 113, 145, 'RAM', 'PYTHON', 345) \n",
      "\n",
      "('GAURAV', '214808', 'MALE', 'MCA', 31, 112, 133, 'RAM', 'C++', 276) \n",
      "\n"
     ]
    }
   ],
   "source": [
    "desc()"
   ]
  },
  {
   "cell_type": "code",
   "execution_count": null,
   "id": "5c6e5848",
   "metadata": {},
   "outputs": [],
   "source": []
  }
 ],
 "metadata": {
  "kernelspec": {
   "display_name": "Python 3",
   "language": "python",
   "name": "python3"
  },
  "language_info": {
   "codemirror_mode": {
    "name": "ipython",
    "version": 3
   },
   "file_extension": ".py",
   "mimetype": "text/x-python",
   "name": "python",
   "nbconvert_exporter": "python",
   "pygments_lexer": "ipython3",
   "version": "3.8.8"
  }
 },
 "nbformat": 4,
 "nbformat_minor": 5
}
