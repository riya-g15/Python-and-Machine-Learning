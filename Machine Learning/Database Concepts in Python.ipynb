{
  "nbformat": 4,
  "nbformat_minor": 0,
  "metadata": {
    "colab": {
      "name": "2148028_Practical_lab_DataBaseConcepts.ipynb",
      "provenance": []
    },
    "kernelspec": {
      "name": "python3",
      "display_name": "Python 3"
    },
    "language_info": {
      "name": "python"
    }
  },
  "cells": [
    {
      "cell_type": "code",
      "metadata": {
        "id": "7Eh5x1H-9EWb"
      },
      "source": [
        "import sqlite3"
      ],
      "execution_count": 1,
      "outputs": []
    },
    {
      "cell_type": "code",
      "metadata": {
        "id": "ToqQRePh95yR"
      },
      "source": [
        "def c_table():\n",
        "\n",
        "  conn = sqlite3.connect('team.db',timeout=10)\n",
        "  print(\"Opened database successfully\\n\")\n",
        "\n",
        "  conn.execute('''CREATE TABLE TEAM_INDIA\n",
        "         (JID INT PRIMARY KEY,\n",
        "         NAME TEXT    NOT NULL,\n",
        "         TYPE_OF_PLAYER CHAR(50),\n",
        "         MATCHES INT NOT NULL,\n",
        "         INNINGS INT NOT NULL,\n",
        "         RUNS INT NOT NULL,\n",
        "         HIGHEST INT NOT NULL,\n",
        "         BAT_AVG REAL NOT NULL,\n",
        "         SR REAL NOT NULL,\n",
        "         HUNDREDS INT,\n",
        "         WKTS INT NOT NULL,\n",
        "         ECON REAL NOT NULL,\n",
        "         BOWL_AVG REAL);''')\n",
        "  print(\"Table created successfully\\n\")\n",
        "\n",
        "  conn.close()\n",
        "\n",
        "c_table()"
      ],
      "execution_count": null,
      "outputs": []
    },
    {
      "cell_type": "code",
      "metadata": {
        "colab": {
          "base_uri": "https://localhost:8080/",
          "height": 0
        },
        "id": "YhOtrKHgEMu0",
        "outputId": "7f75c9cb-5d7b-49e3-a5ba-daa75f473ae2"
      },
      "source": [
        "def ins_v():\n",
        "  conn = sqlite3.connect('team.db',timeout=10)\n",
        "  print(\"Opened database successfully\\n\")\n",
        "\n",
        "  try:\n",
        "    conn.execute(\"INSERT INTO TEAM_INDIA VALUES (1,'VIRAT KOHLI','BATSMAN',91,86,3225,94,52.02,137.94,0,4,8.25,49.5);\")\n",
        "\n",
        "    conn.execute(\"INSERT INTO TEAM_INDIA VALUES (2, 'ROHIT SHARMA','BATSMAN',114,106,2894,118,31.8,138.8,4,1,10.27,113);\")\n",
        "\n",
        "    conn.execute(\"INSERT INTO TEAM_INDIA VALUES (3, 'SHIKHAR DHAWAN','BATSMAN',67,66,1759,92,27.92,126.36,0,0,0.0,0.0);\")\n",
        "\n",
        "    conn.execute(\"INSERT INTO TEAM_INDIA VALUES (4, 'SHUBMAN GILL','BATSMAN',0,0,0,0,0.0,0.0,0,0,0.0,0.0);\")\n",
        "\n",
        "    conn.execute(\"INSERT INTO TEAM_INDIA VALUES (5, 'SHREYAS IYER','BATSMAN',28,26,550,67,28.95,133.82,0,0,0.0,0.0);\")\n",
        "  \n",
        "    conn.execute(\"INSERT INTO TEAM_INDIA VALUES (6, 'MANISH PANDEY','BATSMAN',39,33,709,79,44.31,126.16,0,0,0.0,0.0);\")\n",
        "\n",
        "    conn.execute(\"INSERT INTO TEAM_INDIA VALUES (7, 'MAYANK AGARWAL','BATSMAN',0,0,0,0,0.0,0.0,0,0,0.0,0.0);\")\n",
        "\n",
        "    conn.execute(\"INSERT INTO TEAM_INDIA VALUES (8, 'PRITHVI SHAW','BATSMAN',1,1,0,0,0.0,0.0,0,0,0.0,0.0);\")\n",
        "\n",
        "    conn.execute(\"INSERT INTO TEAM_INDIA VALUES (9, 'CHETESHWAR PUJARA','BATSMAN',0,0,0,0,0.0,0.0,0,0,0.0,0.0);\")\n",
        "\n",
        "    conn.execute(\"INSERT INTO TEAM_INDIA VALUES (10, 'AJINKYA RAHANE','BATSMAN',20,20,375,61,20.83,113.29,0,0,0.0,0.0);\")\n",
        "\n",
        "    conn.execute(\"INSERT INTO TEAM_INDIA VALUES (11, 'KL RAHUL','WK_BATSMAN',51,48,1600,110,39.02,140.85,2,0,0.0,0.0);\")\n",
        "\n",
        "    conn.execute(\"INSERT INTO TEAM_INDIA VALUES (12, 'SANJU SAMSON','WK_BATSMAN',10,10,117,27,11.7,110.38,0,0,0.0,0.0);\")\n",
        "  \n",
        "    conn.execute(\"INSERT INTO TEAM_INDIA VALUES (13, 'WRIDDHIMAN SAHA','WK_BATSMAN',0,0,0,0,0.0,0.0,0,0,0.0,0.0);\")\n",
        "  \n",
        "    conn.execute(\"INSERT INTO TEAM_INDIA VALUES (14, 'RISHABH PANT','WK_BATSMAN',35,31,563,65,21.65,121.34,0,0,0.0,0.0);\")\n",
        "  \n",
        "    conn.execute(\"INSERT INTO TEAM_INDIA VALUES (15, 'HARDIK PANDYA','ALL ROUNDER',52,35,518,42,19.19,141.92,0,42,8.23,26.86);\")\n",
        "  \n",
        "    conn.execute(\"INSERT INTO TEAM_INDIA VALUES (16, 'HANUMA VIHARI','ALL ROUNDER',0,0,0,0,0.0,0.0,0,0,0.0,0.0);\")\n",
        "\n",
        "    conn.execute(\"INSERT INTO TEAM_INDIA VALUES (17, 'RAVINDRA JADEJA','ALL ROUNDER',53,26,256,44,17.07,113.78,0,39,7.16,30.85);\")\n",
        "\n",
        "    conn.execute(\"INSERT INTO TEAM_INDIA VALUES (18, 'RAVICHANDRAN ASHWIN','ALL ROUNDER',47,11,123,31,30.75,106.96,0,52,6.98,22.94);\")\n",
        "  \n",
        "    conn.execute(\"INSERT INTO TEAM_INDIA VALUES (19, 'MOHAMMED SHAMI','BOWLER',15,2,0,0,0.0,0.0,0,12,10.04,40.17);\")\n",
        "\n",
        "    conn.execute(\"INSERT INTO TEAM_INDIA VALUES (20, 'JASPRIT BUMRAH','BOWLER',52,6,8,7,4.0,61.54,0,61,6.65,20.26);\")\n",
        "\n",
        "    conn.execute(\"INSERT INTO TEAM_INDIA VALUES (21, 'KULDEEP YADAV','SPINNER',22,3,43,23,43.0,89.58,0,41,7.15,14.22);\")\n",
        "\n",
        "    conn.execute(\"INSERT INTO TEAM_INDIA VALUES (22, 'YUZVENDRA CHAHAL','SPINNER',49,4,5,3,2.5,45.45,0,63,8.32,25.3);\")\n",
        "\n",
        "    conn.execute(\"INSERT INTO TEAM_INDIA VALUES (23, 'NAVDEEP SAINI','BOWLER',10,3,12,11,0.0,109.09,0,13,7.16,18.08);\")\n",
        "\n",
        "    conn.execute(\"INSERT INTO TEAM_INDIA VALUES (24, 'SHRADUL THAKUR','BOWLER',23,6,69,22,23.00,181.58,0,31,9.19,22.84);\")\n",
        "\n",
        "    conn.execute(\"INSERT INTO TEAM_INDIA VALUES (25, 'UMESH YADAV','BOWLER',7,1,2,2,2.0,50.0,0,9,8.76,24.33);\")\n",
        "\n",
        "    conn.execute(\"INSERT INTO TEAM_INDIA VALUES (26, 'MOHAMMED SIRAJ','BOWLER',3,0,0,0,0.0,0.0,0,3,12.33,49.33);\")\n",
        "\n",
        "    conn.commit()\n",
        "\n",
        "    print(\"Records created successfully\")\n",
        "  \n",
        "    conn.close()\n",
        "    \n",
        "  except:\n",
        "    print('\\nError Occured!!')\n",
        "    conn.close()\n",
        "    \n",
        "ins_v()"
      ],
      "execution_count": 2,
      "outputs": [
        {
          "output_type": "stream",
          "name": "stdout",
          "text": [
            "Opened database successfully\n",
            "\n",
            "Records created successfully\n"
          ]
        }
      ]
    },
    {
      "cell_type": "code",
      "metadata": {
        "id": "SFy5UjfTPfn-",
        "colab": {
          "base_uri": "https://localhost:8080/",
          "height": 0
        },
        "outputId": "2576d8c3-bcae-458a-9662-20ac7416c6b2"
      },
      "source": [
        "def disp_data():\n",
        "  conn = sqlite3.connect('team.db',timeout=10)\n",
        "  print(\"Opened database successfully\\n\");\n",
        "\n",
        "  ans = conn.execute(\"SELECT * FROM TEAM_INDIA;\")\n",
        "  \n",
        "  for row in ans:\n",
        "   print(row,'\\n')\n",
        "\n",
        "  conn.close()\n",
        "\n",
        "disp_data()"
      ],
      "execution_count": 5,
      "outputs": [
        {
          "output_type": "stream",
          "name": "stdout",
          "text": [
            "Opened database successfully\n",
            "\n",
            "(1, 'VIRAT KOHLI', 'BATSMAN', 91, 86, 3225, 94, 52.02, 137.94, 0, 4, 8.25, 49.5) \n",
            "\n",
            "(2, 'ROHIT SHARMA', 'BATSMAN', 114, 106, 2894, 118, 31.8, 138.8, 4, 1, 10.27, 113.0) \n",
            "\n",
            "(3, 'SHIKHAR DHAWAN', 'BATSMAN', 67, 66, 1759, 92, 27.92, 126.36, 0, 0, 0.0, 0.0) \n",
            "\n",
            "(4, 'SHUBMAN GILL', 'BATSMAN', 0, 0, 0, 0, 0.0, 0.0, 0, 0, 0.0, 0.0) \n",
            "\n",
            "(5, 'SHREYAS IYER', 'BATSMAN', 28, 26, 550, 67, 28.95, 133.82, 0, 0, 0.0, 0.0) \n",
            "\n",
            "(6, 'MANISH PANDEY', 'BATSMAN', 39, 33, 709, 79, 44.31, 126.16, 0, 0, 0.0, 0.0) \n",
            "\n",
            "(7, 'MAYANK AGARWAL', 'BATSMAN', 0, 0, 0, 0, 0.0, 0.0, 0, 0, 0.0, 0.0) \n",
            "\n",
            "(8, 'PRITHVI SHAW', 'BATSMAN', 1, 1, 0, 0, 0.0, 0.0, 0, 0, 0.0, 0.0) \n",
            "\n",
            "(9, 'CHETESHWAR PUJARA', 'BATSMAN', 0, 0, 0, 0, 0.0, 0.0, 0, 0, 0.0, 0.0) \n",
            "\n",
            "(10, 'AJINKYA RAHANE', 'BATSMAN', 20, 20, 375, 61, 20.83, 113.29, 0, 0, 0.0, 0.0) \n",
            "\n",
            "(11, 'KL RAHUL', 'WK_BATSMAN', 51, 48, 1600, 110, 39.02, 140.85, 2, 0, 0.0, 0.0) \n",
            "\n",
            "(12, 'SANJU SAMSON', 'WK_BATSMAN', 10, 10, 117, 27, 11.7, 110.38, 0, 0, 0.0, 0.0) \n",
            "\n",
            "(13, 'WRIDDHIMAN SAHA', 'WK_BATSMAN', 0, 0, 0, 0, 0.0, 0.0, 0, 0, 0.0, 0.0) \n",
            "\n",
            "(14, 'RISHABH PANT', 'WK_BATSMAN', 35, 31, 563, 65, 21.65, 121.34, 0, 0, 0.0, 0.0) \n",
            "\n",
            "(15, 'HARDIK PANDYA', 'ALL ROUNDER', 52, 35, 518, 42, 19.19, 141.92, 0, 42, 8.23, 26.86) \n",
            "\n",
            "(16, 'HANUMA VIHARI', 'ALL ROUNDER', 0, 0, 0, 0, 0.0, 0.0, 0, 0, 0.0, 0.0) \n",
            "\n",
            "(17, 'RAVINDRA JADEJA', 'ALL ROUNDER', 53, 26, 256, 44, 17.07, 113.78, 0, 39, 7.16, 30.85) \n",
            "\n",
            "(18, 'RAVICHANDRAN ASHWIN', 'ALL ROUNDER', 47, 11, 123, 31, 30.75, 106.96, 0, 52, 6.98, 22.94) \n",
            "\n",
            "(19, 'MOHAMMED SHAMI', 'BOWLER', 15, 2, 0, 0, 0.0, 0.0, 0, 12, 10.04, 40.17) \n",
            "\n",
            "(20, 'JASPRIT BUMRAH', 'BOWLER', 52, 6, 8, 7, 4.0, 61.54, 0, 61, 6.65, 20.26) \n",
            "\n",
            "(21, 'KULDEEP YADAV', 'SPINNER', 22, 3, 43, 23, 43.0, 89.58, 0, 41, 7.15, 14.22) \n",
            "\n",
            "(22, 'YUZVENDRA CHAHAL', 'SPINNER', 49, 4, 5, 3, 2.5, 45.45, 0, 63, 8.32, 25.3) \n",
            "\n",
            "(23, 'NAVDEEP SAINI', 'BOWLER', 10, 3, 12, 11, 0.0, 109.09, 0, 13, 7.16, 18.08) \n",
            "\n",
            "(24, 'SHRADUL THAKUR', 'BOWLER', 23, 6, 69, 22, 23.0, 181.58, 0, 31, 9.19, 22.84) \n",
            "\n",
            "(25, 'UMESH YADAV', 'BOWLER', 7, 1, 2, 2, 2.0, 50.0, 0, 9, 8.76, 24.33) \n",
            "\n",
            "(26, 'MOHAMMED SIRAJ', 'BOWLER', 3, 0, 0, 0, 0.0, 0.0, 0, 3, 12.33, 49.33) \n",
            "\n"
          ]
        }
      ]
    },
    {
      "cell_type": "code",
      "metadata": {
        "colab": {
          "base_uri": "https://localhost:8080/",
          "height": 0
        },
        "id": "b9kJi6MWpxnN",
        "outputId": "aa708990-7440-4d32-9e29-f8acc35fe5fc"
      },
      "source": [
        "def players_having_exp():\n",
        "  conn = sqlite3.connect('team.db',timeout=10)\n",
        "  print(\"Opened database successfully\\n\");\n",
        "\n",
        "  ans = conn.execute(\"SELECT NAME FROM TEAM_INDIA WHERE MATCHES >= 10;\")\n",
        "  \n",
        "  for row in ans:\n",
        "   print(row[0],'\\n')\n",
        "\n",
        "  conn.execute(\"CREATE TABLE TEAM_EXP AS SELECT * FROM TEAM_INDIA WHERE MATCHES >= 10;\")\n",
        "\n",
        "  conn.commit()\n",
        "  conn.close()\n",
        "\n",
        "print(\"\\nThese are the players Having Adequate International Experience : \")\n",
        "players_having_exp()\n"
      ],
      "execution_count": 23,
      "outputs": [
        {
          "output_type": "stream",
          "name": "stdout",
          "text": [
            "\n",
            "These are the players Having Adequate International Experience : \n",
            "Opened database successfully\n",
            "\n",
            "VIRAT KOHLI \n",
            "\n",
            "ROHIT SHARMA \n",
            "\n",
            "SHIKHAR DHAWAN \n",
            "\n",
            "SHREYAS IYER \n",
            "\n",
            "MANISH PANDEY \n",
            "\n",
            "AJINKYA RAHANE \n",
            "\n",
            "KL RAHUL \n",
            "\n",
            "SANJU SAMSON \n",
            "\n",
            "RISHABH PANT \n",
            "\n",
            "HARDIK PANDYA \n",
            "\n",
            "RAVINDRA JADEJA \n",
            "\n",
            "RAVICHANDRAN ASHWIN \n",
            "\n",
            "MOHAMMED SHAMI \n",
            "\n",
            "JASPRIT BUMRAH \n",
            "\n",
            "KULDEEP YADAV \n",
            "\n",
            "YUZVENDRA CHAHAL \n",
            "\n",
            "NAVDEEP SAINI \n",
            "\n",
            "SHRADUL THAKUR \n",
            "\n"
          ]
        }
      ]
    },
    {
      "cell_type": "code",
      "metadata": {
        "id": "kNTHTRRNtYLN"
      },
      "source": [
        ""
      ],
      "execution_count": null,
      "outputs": []
    },
    {
      "cell_type": "code",
      "metadata": {
        "id": "dmxDVr5ac7Rj"
      },
      "source": [
        "conn = sqlite3.connect('team.db',timeout=10)\n",
        "conn.close()"
      ],
      "execution_count": 3,
      "outputs": []
    },
    {
      "cell_type": "code",
      "metadata": {
        "id": "xgDZ5242c8a6",
        "colab": {
          "base_uri": "https://localhost:8080/",
          "height": 0
        },
        "outputId": "abba7133-64b5-4d06-9f7b-fd0a069224e5"
      },
      "source": [
        "conn = sqlite3.connect('team.db',timeout=10)\n",
        "print(\"Opened database successfully\\n\")\n",
        "bat = conn.execute('SELECT * FROM TEAM_EXP WHERE TYPE_OF_PLAYER=\\'BATSMAN\\' AND SR >= 130.0;')\n",
        "for a in bat:\n",
        "  print(a)\n",
        "conn.close()"
      ],
      "execution_count": 39,
      "outputs": [
        {
          "output_type": "stream",
          "name": "stdout",
          "text": [
            "Opened database successfully\n",
            "\n",
            "(1, 'VIRAT KOHLI', 'BATSMAN', 91, 86, 3225, 94, 52.02, 137.94, 0, 4, 8.25, 49.5)\n",
            "(2, 'ROHIT SHARMA', 'BATSMAN', 114, 106, 2894, 118, 31.8, 138.8, 4, 1, 10.27, 113.0)\n",
            "(5, 'SHREYAS IYER', 'BATSMAN', 28, 26, 550, 67, 28.95, 133.82, 0, 0, 0.0, 0.0)\n"
          ]
        }
      ]
    },
    {
      "cell_type": "code",
      "metadata": {
        "colab": {
          "base_uri": "https://localhost:8080/",
          "height": 0
        },
        "id": "xXf_CIXAwWMM",
        "outputId": "974a9616-b369-44ca-d442-4d101d1c287a"
      },
      "source": [
        "conn = sqlite3.connect('team.db',timeout=10)\n",
        "print(\"Opened database successfully\\n\")\n",
        "wkbat = conn.execute('SELECT * FROM TEAM_EXP WHERE TYPE_OF_PLAYER=\\'WK_BATSMAN\\' AND RUNS>500 AND SR >= 120.0;')\n",
        "for a in wkbat:\n",
        "  print(a)\n",
        "conn.close()"
      ],
      "execution_count": 43,
      "outputs": [
        {
          "output_type": "stream",
          "name": "stdout",
          "text": [
            "Opened database successfully\n",
            "\n",
            "(11, 'KL RAHUL', 'WK_BATSMAN', 51, 48, 1600, 110, 39.02, 140.85, 2, 0, 0.0, 0.0)\n",
            "(14, 'RISHABH PANT', 'WK_BATSMAN', 35, 31, 563, 65, 21.65, 121.34, 0, 0, 0.0, 0.0)\n"
          ]
        }
      ]
    },
    {
      "cell_type": "code",
      "metadata": {
        "colab": {
          "base_uri": "https://localhost:8080/",
          "height": 0
        },
        "id": "UzWDof6Px7nx",
        "outputId": "b006f2e3-5b17-4267-8872-a465d2935f28"
      },
      "source": [
        "conn = sqlite3.connect('team.db',timeout=10)\n",
        "print(\"Opened database successfully\\n\")\n",
        "sp = conn.execute('SELECT * FROM TEAM_EXP WHERE TYPE_OF_PLAYER=\\'SPINNER\\' AND WKTS >= 30 AND ECON < 8.5;')\n",
        "for a in sp:\n",
        "  print(a)\n",
        "conn.close()"
      ],
      "execution_count": 44,
      "outputs": [
        {
          "output_type": "stream",
          "name": "stdout",
          "text": [
            "Opened database successfully\n",
            "\n",
            "(21, 'KULDEEP YADAV', 'SPINNER', 22, 3, 43, 23, 43.0, 89.58, 0, 41, 7.15, 14.22)\n",
            "(22, 'YUZVENDRA CHAHAL', 'SPINNER', 49, 4, 5, 3, 2.5, 45.45, 0, 63, 8.32, 25.3)\n"
          ]
        }
      ]
    },
    {
      "cell_type": "code",
      "metadata": {
        "colab": {
          "base_uri": "https://localhost:8080/",
          "height": 0
        },
        "id": "Nj6DrPECyH7E",
        "outputId": "1519719e-d7de-4bd7-cca8-70ddc436195f"
      },
      "source": [
        "conn = sqlite3.connect('team.db',timeout=10)\n",
        "print(\"Opened database successfully\\n\")\n",
        "ar= conn.execute('SELECT * FROM TEAM_EXP WHERE TYPE_OF_PLAYER=\\'ALL ROUNDER\\' AND SR >= 110.0 AND WKTS>20;')\n",
        "for a in ar:\n",
        "  print(a)\n",
        "conn.close()"
      ],
      "execution_count": 45,
      "outputs": [
        {
          "output_type": "stream",
          "name": "stdout",
          "text": [
            "Opened database successfully\n",
            "\n",
            "(15, 'HARDIK PANDYA', 'ALL ROUNDER', 52, 35, 518, 42, 19.19, 141.92, 0, 42, 8.23, 26.86)\n",
            "(17, 'RAVINDRA JADEJA', 'ALL ROUNDER', 53, 26, 256, 44, 17.07, 113.78, 0, 39, 7.16, 30.85)\n"
          ]
        }
      ]
    },
    {
      "cell_type": "code",
      "metadata": {
        "colab": {
          "base_uri": "https://localhost:8080/",
          "height": 0
        },
        "id": "Tdw9kqSZyflE",
        "outputId": "d06c03f6-c06e-4000-e634-1d43abf8db7d"
      },
      "source": [
        "conn = sqlite3.connect('team.db',timeout=10)\n",
        "print(\"Opened database successfully\\n\")\n",
        "bowl = conn.execute('SELECT * FROM TEAM_EXP WHERE TYPE_OF_PLAYER=\\'BOWLER\\' AND WKTS >= 15 AND ECON<10 ;')\n",
        "for a in bowl:\n",
        "  print(a)\n",
        "conn.close()"
      ],
      "execution_count": 55,
      "outputs": [
        {
          "output_type": "stream",
          "name": "stdout",
          "text": [
            "Opened database successfully\n",
            "\n",
            "(20, 'JASPRIT BUMRAH', 'BOWLER', 52, 6, 8, 7, 4.0, 61.54, 0, 61, 6.65, 20.26)\n",
            "(24, 'SHRADUL THAKUR', 'BOWLER', 23, 6, 69, 22, 23.0, 181.58, 0, 31, 9.19, 22.84)\n"
          ]
        }
      ]
    },
    {
      "cell_type": "code",
      "metadata": {
        "colab": {
          "base_uri": "https://localhost:8080/",
          "height": 0
        },
        "id": "Df4f_5ve3lHm",
        "outputId": "1370fa0a-912b-4e75-8ce6-168340889005"
      },
      "source": [
        "conn = sqlite3.connect('team.db',timeout=10)\n",
        "\n",
        "print('\\nPlayers Selected For Playing 11 in Team India : ')\n",
        "for i in conn.execute('SELECT * FROM TEAM_EXP WHERE TYPE_OF_PLAYER=\\'BATSMAN\\' AND SR >= 130.0;'):\n",
        "  print('\\nBatsman : ' ,i)\n",
        "\n",
        "for i in conn.execute('SELECT * FROM TEAM_EXP WHERE TYPE_OF_PLAYER=\\'WK_BATSMAN\\' AND RUNS>500 AND SR >= 120.0;'):\n",
        "  print('\\nWicket-Keeper Batsman : ',i)\n",
        "\n",
        "for i in conn.execute('SELECT * FROM TEAM_EXP WHERE TYPE_OF_PLAYER=\\'ALL ROUNDER\\' AND SR >= 110.0 AND WKTS>20;'):\n",
        "  print('\\nAll Rounder : ',i)\n",
        "\n",
        "for i in conn.execute('SELECT * FROM TEAM_EXP WHERE TYPE_OF_PLAYER=\\'SPINNER\\' AND WKTS >= 30 AND ECON < 8.5;'):\n",
        "  print('\\nSpinner : ',i)\n",
        "\n",
        "for i in conn.execute('SELECT * FROM TEAM_EXP WHERE TYPE_OF_PLAYER=\\'BOWLER\\' AND WKTS >= 15 AND ECON<10 ;'):\n",
        "  print('\\nBowler : ',i)\n",
        "\n",
        "conn.close()"
      ],
      "execution_count": 58,
      "outputs": [
        {
          "output_type": "stream",
          "name": "stdout",
          "text": [
            "\n",
            "Players Selected For Playing 11 in Team India : \n",
            "\n",
            "Batsman :  (1, 'VIRAT KOHLI', 'BATSMAN', 91, 86, 3225, 94, 52.02, 137.94, 0, 4, 8.25, 49.5)\n",
            "\n",
            "Batsman :  (2, 'ROHIT SHARMA', 'BATSMAN', 114, 106, 2894, 118, 31.8, 138.8, 4, 1, 10.27, 113.0)\n",
            "\n",
            "Batsman :  (5, 'SHREYAS IYER', 'BATSMAN', 28, 26, 550, 67, 28.95, 133.82, 0, 0, 0.0, 0.0)\n",
            "\n",
            "Wicket-Keeper Batsman :  (11, 'KL RAHUL', 'WK_BATSMAN', 51, 48, 1600, 110, 39.02, 140.85, 2, 0, 0.0, 0.0)\n",
            "\n",
            "Wicket-Keeper Batsman :  (14, 'RISHABH PANT', 'WK_BATSMAN', 35, 31, 563, 65, 21.65, 121.34, 0, 0, 0.0, 0.0)\n",
            "\n",
            "All Rounder :  (15, 'HARDIK PANDYA', 'ALL ROUNDER', 52, 35, 518, 42, 19.19, 141.92, 0, 42, 8.23, 26.86)\n",
            "\n",
            "All Rounder :  (17, 'RAVINDRA JADEJA', 'ALL ROUNDER', 53, 26, 256, 44, 17.07, 113.78, 0, 39, 7.16, 30.85)\n",
            "\n",
            "Spinner :  (21, 'KULDEEP YADAV', 'SPINNER', 22, 3, 43, 23, 43.0, 89.58, 0, 41, 7.15, 14.22)\n",
            "\n",
            "Spinner :  (22, 'YUZVENDRA CHAHAL', 'SPINNER', 49, 4, 5, 3, 2.5, 45.45, 0, 63, 8.32, 25.3)\n",
            "\n",
            "Bowler :  (20, 'JASPRIT BUMRAH', 'BOWLER', 52, 6, 8, 7, 4.0, 61.54, 0, 61, 6.65, 20.26)\n",
            "\n",
            "Bowler :  (24, 'SHRADUL THAKUR', 'BOWLER', 23, 6, 69, 22, 23.0, 181.58, 0, 31, 9.19, 22.84)\n"
          ]
        }
      ]
    },
    {
      "cell_type": "code",
      "metadata": {
        "id": "46eNA-JU74Db"
      },
      "source": [
        ""
      ],
      "execution_count": null,
      "outputs": []
    }
  ]
}