{
  "cells": [
    {
      "cell_type": "code",
      "execution_count": null,
      "id": "1e7fc86a",
      "metadata": {
        "_cell_guid": "b1076dfc-b9ad-4769-8c92-a6c4dae69d19",
        "_uuid": "8f2839f25d086af736a60e9eeb907d3b93b6e0e5",
        "execution": {
          "iopub.execute_input": "2022-03-07T07:09:58.333890Z",
          "iopub.status.busy": "2022-03-07T07:09:58.333065Z",
          "iopub.status.idle": "2022-03-07T07:09:58.341822Z",
          "shell.execute_reply": "2022-03-07T07:09:58.342939Z",
          "shell.execute_reply.started": "2022-03-07T06:59:25.840054Z"
        },
        "papermill": {
          "duration": 0.048153,
          "end_time": "2022-03-07T07:09:58.343426",
          "exception": false,
          "start_time": "2022-03-07T07:09:58.295273",
          "status": "completed"
        },
        "tags": [],
        "id": "1e7fc86a",
        "outputId": "0e9fa302-de05-4e23-d06d-de07ce46d43e"
      },
      "outputs": [
        {
          "name": "stdout",
          "output_type": "stream",
          "text": [
            "/kaggle/input/adult-census-income/adult.csv\n"
          ]
        }
      ],
      "source": [
        "# This Python 3 environment comes with many helpful analytics libraries installed\n",
        "# It is defined by the kaggle/python Docker image: https://github.com/kaggle/docker-python\n",
        "# For example, here's several helpful packages to load\n",
        "\n",
        "import numpy as np # linear algebra\n",
        "import pandas as pd # data processing, CSV file I/O (e.g. pd.read_csv)\n",
        "\n",
        "# Input data files are available in the read-only \"../input/\" directory\n",
        "# For example, running this (by clicking run or pressing Shift+Enter) will list all files under the input directory\n",
        "\n",
        "import os\n",
        "for dirname, _, filenames in os.walk('/kaggle/input'):\n",
        "    for filename in filenames:\n",
        "        print(os.path.join(dirname, filename))\n",
        "\n",
        "# You can write up to 20GB to the current directory (/kaggle/working/) that gets preserved as output when you create a version using \"Save & Run All\" \n",
        "# You can also write temporary files to /kaggle/temp/, but they won't be saved outside of the current session"
      ]
    },
    {
      "cell_type": "markdown",
      "id": "bc7f0a31",
      "metadata": {
        "papermill": {
          "duration": 0.024681,
          "end_time": "2022-03-07T07:09:58.393834",
          "exception": false,
          "start_time": "2022-03-07T07:09:58.369153",
          "status": "completed"
        },
        "tags": [],
        "id": "bc7f0a31"
      },
      "source": [
        "## **Data Set Information:**\n",
        "\n",
        "Extraction was done by **Barry Becker from the 1994 Census database**. A set of reasonably clean records was extracted using the following conditions: ((AAGE>16) && (AGI>100) && (AFNLWGT>1)&& (HRSWK>0))\n",
        "\n",
        "Prediction task is to determine whether a person makes over 50K a year.\n",
        "\n",
        "\n",
        "## **Attribute Information:**\n",
        "\n",
        "### **Listing of attributes:**\n",
        "\n",
        "1) **age:** continuous.\n",
        "\n",
        "2) **workclass:** Private, Self-emp-not-inc, Self-emp-inc, Federal-gov, Local-gov, State-gov, Without-pay, Never-worked.\n",
        "\n",
        "3) **fnlwgt:** continuous.\n",
        "\n",
        "4) **education:** Bachelors, Some-college, 11th, HS-grad, Prof-school, Assoc-acdm, Assoc-voc, 9th, 7th-8th, 12th, Masters, 1st-4th, 10th, Doctorate, 5th-6th, Preschool.\n",
        "\n",
        "5) **education-num:** continuous.\n",
        "\n",
        "6) **marital-status:** Married-civ-spouse, Divorced, Never-married, Separated, Widowed, Married-spouse-absent, Married-AF-spouse.\n",
        "\n",
        "7) **occupation:** Tech-support, Craft-repair, Other-service, Sales, Exec-managerial, Prof-specialty, Handlers-cleaners, Machine-op-inspct, Adm-clerical, Farming-fishing, Transport-moving, Priv-house-serv, Protective-serv, Armed-Forces.\n",
        "\n",
        "8) **relationship:** Wife, Own-child, Husband, Not-in-family, Other-relative, Unmarried.\n",
        "\n",
        "9) **race:** White, Asian-Pac-Islander, Amer-Indian-Eskimo, Other, Black.\n",
        "\n",
        "10) **sex:** Female, Male.\n",
        "\n",
        "11) **capital-gain:** continuous.\n",
        "\n",
        "12) **capital-loss:** continuous.\n",
        "\n",
        "13) **hours-per-week:** continuous.\n",
        "\n",
        "14) **native-country:** United-States, Cambodia, England, Puerto-Rico, Canada, Germany, Outlying-US(Guam-USVI-etc), India, Japan, Greece, South, China, Cuba, Iran, Honduras, Philippines, Italy, Poland, Jamaica, Vietnam, Mexico, Portugal, Ireland, France, Dominican-Republic, Laos, Ecuador, Taiwan, Haiti, Columbia, Hungary, Guatemala, Nicaragua, Scotland, Thailand, Yugoslavia, El-Salvador, Trinadad&Tobago, Peru, Hong, Holand-Netherlands.\n",
        " \n",
        "15) **income** = >50K, <=50K."
      ]
    },
    {
      "cell_type": "markdown",
      "id": "d2be0f40",
      "metadata": {
        "papermill": {
          "duration": 0.024005,
          "end_time": "2022-03-07T07:09:58.442647",
          "exception": false,
          "start_time": "2022-03-07T07:09:58.418642",
          "status": "completed"
        },
        "tags": [],
        "id": "d2be0f40"
      },
      "source": [
        "## **Importing the Libraries**"
      ]
    },
    {
      "cell_type": "code",
      "execution_count": null,
      "id": "db400253",
      "metadata": {
        "execution": {
          "iopub.execute_input": "2022-03-07T07:09:58.498859Z",
          "iopub.status.busy": "2022-03-07T07:09:58.497955Z",
          "iopub.status.idle": "2022-03-07T07:10:00.937463Z",
          "shell.execute_reply": "2022-03-07T07:10:00.936497Z",
          "shell.execute_reply.started": "2022-03-07T06:59:25.857735Z"
        },
        "papermill": {
          "duration": 2.470126,
          "end_time": "2022-03-07T07:10:00.937602",
          "exception": false,
          "start_time": "2022-03-07T07:09:58.467476",
          "status": "completed"
        },
        "tags": [],
        "id": "db400253"
      },
      "outputs": [],
      "source": [
        "import numpy as np\n",
        "import pandas as pd\n",
        "import regex as re\n",
        "import matplotlib.pyplot as plt\n",
        "import seaborn as sns\n",
        "import plotly.express as px\n",
        "\n",
        "from matplotlib.colors import ListedColormap\n",
        "from sklearn.preprocessing import StandardScaler, LabelEncoder\n",
        "from sklearn.model_selection import train_test_split\n",
        "from sklearn.impute import SimpleImputer\n",
        "from sklearn.metrics import confusion_matrix, classification_report"
      ]
    },
    {
      "cell_type": "markdown",
      "id": "6b3b157d",
      "metadata": {
        "papermill": {
          "duration": 0.030776,
          "end_time": "2022-03-07T07:10:00.998092",
          "exception": false,
          "start_time": "2022-03-07T07:10:00.967316",
          "status": "completed"
        },
        "tags": [],
        "id": "6b3b157d"
      },
      "source": [
        "## **Importing the Dataset**"
      ]
    },
    {
      "cell_type": "code",
      "execution_count": null,
      "id": "e8c7d511",
      "metadata": {
        "execution": {
          "iopub.execute_input": "2022-03-07T07:10:01.061531Z",
          "iopub.status.busy": "2022-03-07T07:10:01.060880Z",
          "iopub.status.idle": "2022-03-07T07:10:01.195768Z",
          "shell.execute_reply": "2022-03-07T07:10:01.196266Z",
          "shell.execute_reply.started": "2022-03-07T06:59:25.868137Z"
        },
        "papermill": {
          "duration": 0.170463,
          "end_time": "2022-03-07T07:10:01.196436",
          "exception": false,
          "start_time": "2022-03-07T07:10:01.025973",
          "status": "completed"
        },
        "tags": [],
        "id": "e8c7d511",
        "outputId": "5cc5d4ef-9f91-4ed2-b1bd-12b929c7d21a"
      },
      "outputs": [
        {
          "data": {
            "text/html": [
              "<div>\n",
              "<style scoped>\n",
              "    .dataframe tbody tr th:only-of-type {\n",
              "        vertical-align: middle;\n",
              "    }\n",
              "\n",
              "    .dataframe tbody tr th {\n",
              "        vertical-align: top;\n",
              "    }\n",
              "\n",
              "    .dataframe thead th {\n",
              "        text-align: right;\n",
              "    }\n",
              "</style>\n",
              "<table border=\"1\" class=\"dataframe\">\n",
              "  <thead>\n",
              "    <tr style=\"text-align: right;\">\n",
              "      <th></th>\n",
              "      <th>age</th>\n",
              "      <th>workclass</th>\n",
              "      <th>fnlwgt</th>\n",
              "      <th>education</th>\n",
              "      <th>education.num</th>\n",
              "      <th>marital.status</th>\n",
              "      <th>occupation</th>\n",
              "      <th>relationship</th>\n",
              "      <th>race</th>\n",
              "      <th>sex</th>\n",
              "      <th>capital.gain</th>\n",
              "      <th>capital.loss</th>\n",
              "      <th>hours.per.week</th>\n",
              "      <th>native.country</th>\n",
              "      <th>income</th>\n",
              "    </tr>\n",
              "  </thead>\n",
              "  <tbody>\n",
              "    <tr>\n",
              "      <th>0</th>\n",
              "      <td>90</td>\n",
              "      <td>?</td>\n",
              "      <td>77053</td>\n",
              "      <td>HS-grad</td>\n",
              "      <td>9</td>\n",
              "      <td>Widowed</td>\n",
              "      <td>?</td>\n",
              "      <td>Not-in-family</td>\n",
              "      <td>White</td>\n",
              "      <td>Female</td>\n",
              "      <td>0</td>\n",
              "      <td>4356</td>\n",
              "      <td>40</td>\n",
              "      <td>United-States</td>\n",
              "      <td>&lt;=50K</td>\n",
              "    </tr>\n",
              "    <tr>\n",
              "      <th>1</th>\n",
              "      <td>82</td>\n",
              "      <td>Private</td>\n",
              "      <td>132870</td>\n",
              "      <td>HS-grad</td>\n",
              "      <td>9</td>\n",
              "      <td>Widowed</td>\n",
              "      <td>Exec-managerial</td>\n",
              "      <td>Not-in-family</td>\n",
              "      <td>White</td>\n",
              "      <td>Female</td>\n",
              "      <td>0</td>\n",
              "      <td>4356</td>\n",
              "      <td>18</td>\n",
              "      <td>United-States</td>\n",
              "      <td>&lt;=50K</td>\n",
              "    </tr>\n",
              "    <tr>\n",
              "      <th>2</th>\n",
              "      <td>66</td>\n",
              "      <td>?</td>\n",
              "      <td>186061</td>\n",
              "      <td>Some-college</td>\n",
              "      <td>10</td>\n",
              "      <td>Widowed</td>\n",
              "      <td>?</td>\n",
              "      <td>Unmarried</td>\n",
              "      <td>Black</td>\n",
              "      <td>Female</td>\n",
              "      <td>0</td>\n",
              "      <td>4356</td>\n",
              "      <td>40</td>\n",
              "      <td>United-States</td>\n",
              "      <td>&lt;=50K</td>\n",
              "    </tr>\n",
              "    <tr>\n",
              "      <th>3</th>\n",
              "      <td>54</td>\n",
              "      <td>Private</td>\n",
              "      <td>140359</td>\n",
              "      <td>7th-8th</td>\n",
              "      <td>4</td>\n",
              "      <td>Divorced</td>\n",
              "      <td>Machine-op-inspct</td>\n",
              "      <td>Unmarried</td>\n",
              "      <td>White</td>\n",
              "      <td>Female</td>\n",
              "      <td>0</td>\n",
              "      <td>3900</td>\n",
              "      <td>40</td>\n",
              "      <td>United-States</td>\n",
              "      <td>&lt;=50K</td>\n",
              "    </tr>\n",
              "    <tr>\n",
              "      <th>4</th>\n",
              "      <td>41</td>\n",
              "      <td>Private</td>\n",
              "      <td>264663</td>\n",
              "      <td>Some-college</td>\n",
              "      <td>10</td>\n",
              "      <td>Separated</td>\n",
              "      <td>Prof-specialty</td>\n",
              "      <td>Own-child</td>\n",
              "      <td>White</td>\n",
              "      <td>Female</td>\n",
              "      <td>0</td>\n",
              "      <td>3900</td>\n",
              "      <td>40</td>\n",
              "      <td>United-States</td>\n",
              "      <td>&lt;=50K</td>\n",
              "    </tr>\n",
              "  </tbody>\n",
              "</table>\n",
              "</div>"
            ],
            "text/plain": [
              "   age workclass  fnlwgt     education  education.num marital.status  \\\n",
              "0   90         ?   77053       HS-grad              9        Widowed   \n",
              "1   82   Private  132870       HS-grad              9        Widowed   \n",
              "2   66         ?  186061  Some-college             10        Widowed   \n",
              "3   54   Private  140359       7th-8th              4       Divorced   \n",
              "4   41   Private  264663  Some-college             10      Separated   \n",
              "\n",
              "          occupation   relationship   race     sex  capital.gain  \\\n",
              "0                  ?  Not-in-family  White  Female             0   \n",
              "1    Exec-managerial  Not-in-family  White  Female             0   \n",
              "2                  ?      Unmarried  Black  Female             0   \n",
              "3  Machine-op-inspct      Unmarried  White  Female             0   \n",
              "4     Prof-specialty      Own-child  White  Female             0   \n",
              "\n",
              "   capital.loss  hours.per.week native.country income  \n",
              "0          4356              40  United-States  <=50K  \n",
              "1          4356              18  United-States  <=50K  \n",
              "2          4356              40  United-States  <=50K  \n",
              "3          3900              40  United-States  <=50K  \n",
              "4          3900              40  United-States  <=50K  "
            ]
          },
          "execution_count": 3,
          "metadata": {},
          "output_type": "execute_result"
        }
      ],
      "source": [
        "df = pd.read_csv('/kaggle/input/adult-census-income/adult.csv')\n",
        "df.head()"
      ]
    },
    {
      "cell_type": "code",
      "execution_count": null,
      "id": "98493755",
      "metadata": {
        "execution": {
          "iopub.execute_input": "2022-03-07T07:10:01.255291Z",
          "iopub.status.busy": "2022-03-07T07:10:01.251432Z",
          "iopub.status.idle": "2022-03-07T07:10:01.304607Z",
          "shell.execute_reply": "2022-03-07T07:10:01.305229Z",
          "shell.execute_reply.started": "2022-03-07T06:59:25.983553Z"
        },
        "papermill": {
          "duration": 0.084054,
          "end_time": "2022-03-07T07:10:01.305404",
          "exception": false,
          "start_time": "2022-03-07T07:10:01.221350",
          "status": "completed"
        },
        "tags": [],
        "id": "98493755",
        "outputId": "4023cfc0-b115-4fc5-efc2-ee0cb019d284"
      },
      "outputs": [
        {
          "name": "stdout",
          "output_type": "stream",
          "text": [
            "<class 'pandas.core.frame.DataFrame'>\n",
            "RangeIndex: 32561 entries, 0 to 32560\n",
            "Data columns (total 15 columns):\n",
            " #   Column          Non-Null Count  Dtype \n",
            "---  ------          --------------  ----- \n",
            " 0   age             32561 non-null  int64 \n",
            " 1   workclass       32561 non-null  object\n",
            " 2   fnlwgt          32561 non-null  int64 \n",
            " 3   education       32561 non-null  object\n",
            " 4   education.num   32561 non-null  int64 \n",
            " 5   marital.status  32561 non-null  object\n",
            " 6   occupation      32561 non-null  object\n",
            " 7   relationship    32561 non-null  object\n",
            " 8   race            32561 non-null  object\n",
            " 9   sex             32561 non-null  object\n",
            " 10  capital.gain    32561 non-null  int64 \n",
            " 11  capital.loss    32561 non-null  int64 \n",
            " 12  hours.per.week  32561 non-null  int64 \n",
            " 13  native.country  32561 non-null  object\n",
            " 14  income          32561 non-null  object\n",
            "dtypes: int64(6), object(9)\n",
            "memory usage: 3.7+ MB\n"
          ]
        }
      ],
      "source": [
        "df.info()"
      ]
    },
    {
      "cell_type": "code",
      "execution_count": null,
      "id": "32327eda",
      "metadata": {
        "execution": {
          "iopub.execute_input": "2022-03-07T07:10:01.364901Z",
          "iopub.status.busy": "2022-03-07T07:10:01.363896Z",
          "iopub.status.idle": "2022-03-07T07:10:01.366095Z",
          "shell.execute_reply": "2022-03-07T07:10:01.366644Z",
          "shell.execute_reply.started": "2022-03-07T06:59:26.03884Z"
        },
        "papermill": {
          "duration": 0.035068,
          "end_time": "2022-03-07T07:10:01.366808",
          "exception": false,
          "start_time": "2022-03-07T07:10:01.331740",
          "status": "completed"
        },
        "tags": [],
        "id": "32327eda"
      },
      "outputs": [],
      "source": [
        "cols = list(df.columns.values)\n",
        "str_cols = []\n",
        "num_cols = []\n",
        "for i in range(0,15):\n",
        "    if df.iloc[:,i].dtype == 'object':\n",
        "        str_cols.append(cols[i])\n",
        "    else:\n",
        "        num_cols.append(cols[i])"
      ]
    },
    {
      "cell_type": "code",
      "execution_count": null,
      "id": "f4d9e09c",
      "metadata": {
        "execution": {
          "iopub.execute_input": "2022-03-07T07:10:01.421161Z",
          "iopub.status.busy": "2022-03-07T07:10:01.420278Z",
          "iopub.status.idle": "2022-03-07T07:10:01.612281Z",
          "shell.execute_reply": "2022-03-07T07:10:01.612773Z",
          "shell.execute_reply.started": "2022-03-07T06:59:26.051127Z"
        },
        "papermill": {
          "duration": 0.221292,
          "end_time": "2022-03-07T07:10:01.612954",
          "exception": false,
          "start_time": "2022-03-07T07:10:01.391662",
          "status": "completed"
        },
        "tags": [],
        "id": "f4d9e09c",
        "outputId": "34196797-eeef-44ad-e886-b4ff83e055ba"
      },
      "outputs": [
        {
          "name": "stdout",
          "output_type": "stream",
          "text": [
            "False    30725\n",
            "True      1836\n",
            "Name: workclass, dtype: int64 \n",
            "\n",
            "----------------------------------------\n",
            "False    32561\n",
            "Name: education, dtype: int64 \n",
            "\n",
            "----------------------------------------\n",
            "False    32561\n",
            "Name: marital.status, dtype: int64 \n",
            "\n",
            "----------------------------------------\n",
            "False    30718\n",
            "True      1843\n",
            "Name: occupation, dtype: int64 \n",
            "\n",
            "----------------------------------------\n",
            "False    32561\n",
            "Name: relationship, dtype: int64 \n",
            "\n",
            "----------------------------------------\n",
            "False    32561\n",
            "Name: race, dtype: int64 \n",
            "\n",
            "----------------------------------------\n",
            "False    32561\n",
            "Name: sex, dtype: int64 \n",
            "\n",
            "----------------------------------------\n",
            "False    31978\n",
            "True       583\n",
            "Name: native.country, dtype: int64 \n",
            "\n",
            "----------------------------------------\n",
            "False    32561\n",
            "Name: income, dtype: int64 \n",
            "\n",
            "----------------------------------------\n"
          ]
        }
      ],
      "source": [
        "for i in str_cols:\n",
        "    print(df[i].str.contains('\\?').value_counts(),'\\n')\n",
        "    print('-'*40)"
      ]
    },
    {
      "cell_type": "code",
      "execution_count": null,
      "id": "b3313948",
      "metadata": {
        "execution": {
          "iopub.execute_input": "2022-03-07T07:10:01.710819Z",
          "iopub.status.busy": "2022-03-07T07:10:01.710141Z",
          "iopub.status.idle": "2022-03-07T07:10:01.715765Z",
          "shell.execute_reply": "2022-03-07T07:10:01.716233Z",
          "shell.execute_reply.started": "2022-03-07T06:59:26.288782Z"
        },
        "papermill": {
          "duration": 0.077265,
          "end_time": "2022-03-07T07:10:01.716432",
          "exception": false,
          "start_time": "2022-03-07T07:10:01.639167",
          "status": "completed"
        },
        "tags": [],
        "id": "b3313948",
        "outputId": "ed5b9851-38a2-4107-9a90-9026ef36afc7"
      },
      "outputs": [
        {
          "name": "stdout",
          "output_type": "stream",
          "text": [
            "Private    22696\n",
            "Name: workclass, dtype: int64 \n",
            "\n",
            "----------------------------------------\n",
            "Prof-specialty    4140\n",
            "Name: occupation, dtype: int64 \n",
            "\n",
            "----------------------------------------\n",
            "United-States    29170\n",
            "Name: native.country, dtype: int64 \n",
            "\n",
            "----------------------------------------\n"
          ]
        }
      ],
      "source": [
        "for i in ('workclass', 'occupation', 'native.country'):\n",
        "    print(df[i].value_counts()[df[i].value_counts() == df[i].value_counts().max()],'\\n')\n",
        "    print('-'*40)"
      ]
    },
    {
      "cell_type": "code",
      "execution_count": null,
      "id": "570cc1f9",
      "metadata": {
        "execution": {
          "iopub.execute_input": "2022-03-07T07:10:01.791237Z",
          "iopub.status.busy": "2022-03-07T07:10:01.780875Z",
          "iopub.status.idle": "2022-03-07T07:10:01.870567Z",
          "shell.execute_reply": "2022-03-07T07:10:01.870026Z",
          "shell.execute_reply.started": "2022-03-07T06:59:26.345957Z"
        },
        "papermill": {
          "duration": 0.126433,
          "end_time": "2022-03-07T07:10:01.870719",
          "exception": false,
          "start_time": "2022-03-07T07:10:01.744286",
          "status": "completed"
        },
        "tags": [],
        "id": "570cc1f9",
        "outputId": "ee650db3-eca6-487c-a194-0ac2a4a34dfc"
      },
      "outputs": [
        {
          "data": {
            "text/html": [
              "<div>\n",
              "<style scoped>\n",
              "    .dataframe tbody tr th:only-of-type {\n",
              "        vertical-align: middle;\n",
              "    }\n",
              "\n",
              "    .dataframe tbody tr th {\n",
              "        vertical-align: top;\n",
              "    }\n",
              "\n",
              "    .dataframe thead th {\n",
              "        text-align: right;\n",
              "    }\n",
              "</style>\n",
              "<table border=\"1\" class=\"dataframe\">\n",
              "  <thead>\n",
              "    <tr style=\"text-align: right;\">\n",
              "      <th></th>\n",
              "      <th>age</th>\n",
              "      <th>workclass</th>\n",
              "      <th>fnlwgt</th>\n",
              "      <th>education</th>\n",
              "      <th>education.num</th>\n",
              "      <th>marital.status</th>\n",
              "      <th>occupation</th>\n",
              "      <th>relationship</th>\n",
              "      <th>race</th>\n",
              "      <th>sex</th>\n",
              "      <th>capital.gain</th>\n",
              "      <th>capital.loss</th>\n",
              "      <th>hours.per.week</th>\n",
              "      <th>native.country</th>\n",
              "      <th>income</th>\n",
              "    </tr>\n",
              "  </thead>\n",
              "  <tbody>\n",
              "    <tr>\n",
              "      <th>0</th>\n",
              "      <td>90</td>\n",
              "      <td>Private</td>\n",
              "      <td>77053</td>\n",
              "      <td>HS-grad</td>\n",
              "      <td>9</td>\n",
              "      <td>Widowed</td>\n",
              "      <td>Prof-specialty</td>\n",
              "      <td>Not-in-family</td>\n",
              "      <td>White</td>\n",
              "      <td>Female</td>\n",
              "      <td>0</td>\n",
              "      <td>4356</td>\n",
              "      <td>40</td>\n",
              "      <td>United-States</td>\n",
              "      <td>&lt;=50K</td>\n",
              "    </tr>\n",
              "    <tr>\n",
              "      <th>1</th>\n",
              "      <td>82</td>\n",
              "      <td>Private</td>\n",
              "      <td>132870</td>\n",
              "      <td>HS-grad</td>\n",
              "      <td>9</td>\n",
              "      <td>Widowed</td>\n",
              "      <td>Exec-managerial</td>\n",
              "      <td>Not-in-family</td>\n",
              "      <td>White</td>\n",
              "      <td>Female</td>\n",
              "      <td>0</td>\n",
              "      <td>4356</td>\n",
              "      <td>18</td>\n",
              "      <td>United-States</td>\n",
              "      <td>&lt;=50K</td>\n",
              "    </tr>\n",
              "    <tr>\n",
              "      <th>2</th>\n",
              "      <td>66</td>\n",
              "      <td>Private</td>\n",
              "      <td>186061</td>\n",
              "      <td>Some-college</td>\n",
              "      <td>10</td>\n",
              "      <td>Widowed</td>\n",
              "      <td>Prof-specialty</td>\n",
              "      <td>Unmarried</td>\n",
              "      <td>Black</td>\n",
              "      <td>Female</td>\n",
              "      <td>0</td>\n",
              "      <td>4356</td>\n",
              "      <td>40</td>\n",
              "      <td>United-States</td>\n",
              "      <td>&lt;=50K</td>\n",
              "    </tr>\n",
              "    <tr>\n",
              "      <th>3</th>\n",
              "      <td>54</td>\n",
              "      <td>Private</td>\n",
              "      <td>140359</td>\n",
              "      <td>7th-8th</td>\n",
              "      <td>4</td>\n",
              "      <td>Divorced</td>\n",
              "      <td>Machine-op-inspct</td>\n",
              "      <td>Unmarried</td>\n",
              "      <td>White</td>\n",
              "      <td>Female</td>\n",
              "      <td>0</td>\n",
              "      <td>3900</td>\n",
              "      <td>40</td>\n",
              "      <td>United-States</td>\n",
              "      <td>&lt;=50K</td>\n",
              "    </tr>\n",
              "    <tr>\n",
              "      <th>4</th>\n",
              "      <td>41</td>\n",
              "      <td>Private</td>\n",
              "      <td>264663</td>\n",
              "      <td>Some-college</td>\n",
              "      <td>10</td>\n",
              "      <td>Separated</td>\n",
              "      <td>Prof-specialty</td>\n",
              "      <td>Own-child</td>\n",
              "      <td>White</td>\n",
              "      <td>Female</td>\n",
              "      <td>0</td>\n",
              "      <td>3900</td>\n",
              "      <td>40</td>\n",
              "      <td>United-States</td>\n",
              "      <td>&lt;=50K</td>\n",
              "    </tr>\n",
              "  </tbody>\n",
              "</table>\n",
              "</div>"
            ],
            "text/plain": [
              "   age workclass  fnlwgt     education  education.num marital.status  \\\n",
              "0   90   Private   77053       HS-grad              9        Widowed   \n",
              "1   82   Private  132870       HS-grad              9        Widowed   \n",
              "2   66   Private  186061  Some-college             10        Widowed   \n",
              "3   54   Private  140359       7th-8th              4       Divorced   \n",
              "4   41   Private  264663  Some-college             10      Separated   \n",
              "\n",
              "          occupation   relationship   race     sex  capital.gain  \\\n",
              "0     Prof-specialty  Not-in-family  White  Female             0   \n",
              "1    Exec-managerial  Not-in-family  White  Female             0   \n",
              "2     Prof-specialty      Unmarried  Black  Female             0   \n",
              "3  Machine-op-inspct      Unmarried  White  Female             0   \n",
              "4     Prof-specialty      Own-child  White  Female             0   \n",
              "\n",
              "   capital.loss  hours.per.week native.country income  \n",
              "0          4356              40  United-States  <=50K  \n",
              "1          4356              18  United-States  <=50K  \n",
              "2          4356              40  United-States  <=50K  \n",
              "3          3900              40  United-States  <=50K  \n",
              "4          3900              40  United-States  <=50K  "
            ]
          },
          "execution_count": 8,
          "metadata": {},
          "output_type": "execute_result"
        }
      ],
      "source": [
        "df['workclass'] = df['workclass'].str.replace('\\?','Private',regex = True)\n",
        "df['occupation'] = df['occupation'].str.replace('\\?','Prof-specialty',regex = True)\n",
        "df['native.country'] = df['native.country'].str.replace('\\?','United-States',regex = True)\n",
        "df.head()"
      ]
    },
    {
      "cell_type": "code",
      "execution_count": null,
      "id": "3e1be5da",
      "metadata": {
        "execution": {
          "iopub.execute_input": "2022-03-07T07:10:01.929408Z",
          "iopub.status.busy": "2022-03-07T07:10:01.928820Z",
          "iopub.status.idle": "2022-03-07T07:10:01.936200Z",
          "shell.execute_reply": "2022-03-07T07:10:01.936735Z",
          "shell.execute_reply.started": "2022-03-07T06:59:26.46414Z"
        },
        "papermill": {
          "duration": 0.037551,
          "end_time": "2022-03-07T07:10:01.936884",
          "exception": false,
          "start_time": "2022-03-07T07:10:01.899333",
          "status": "completed"
        },
        "tags": [],
        "id": "3e1be5da",
        "outputId": "1da95b19-1f61-459b-b169-608de97ffad2"
      },
      "outputs": [
        {
          "data": {
            "text/plain": [
              "array(['HS-grad', 'Some-college', '7th-8th', '10th', 'Doctorate',\n",
              "       'Prof-school', 'Bachelors', 'Masters', '11th', 'Assoc-acdm',\n",
              "       'Assoc-voc', '1st-4th', '5th-6th', '12th', '9th', 'Preschool'],\n",
              "      dtype=object)"
            ]
          },
          "execution_count": 9,
          "metadata": {},
          "output_type": "execute_result"
        }
      ],
      "source": [
        "df['education'].unique()"
      ]
    },
    {
      "cell_type": "code",
      "execution_count": null,
      "id": "3ab4799f",
      "metadata": {
        "execution": {
          "iopub.execute_input": "2022-03-07T07:10:01.997730Z",
          "iopub.status.busy": "2022-03-07T07:10:01.993595Z",
          "iopub.status.idle": "2022-03-07T07:10:02.143960Z",
          "shell.execute_reply": "2022-03-07T07:10:02.144432Z",
          "shell.execute_reply.started": "2022-03-07T06:59:26.477497Z"
        },
        "papermill": {
          "duration": 0.180187,
          "end_time": "2022-03-07T07:10:02.144606",
          "exception": false,
          "start_time": "2022-03-07T07:10:01.964419",
          "status": "completed"
        },
        "tags": [],
        "id": "3ab4799f",
        "outputId": "254579bc-6e5e-445f-dfea-05ce31fe438d"
      },
      "outputs": [
        {
          "name": "stdout",
          "output_type": "stream",
          "text": [
            "HS-grad :\n",
            " income\n",
            "<=50K    8826\n",
            ">50K     1675\n",
            "dtype: int64 \n",
            "\n",
            "--------------------\n",
            "Some-college :\n",
            " income\n",
            "<=50K    5904\n",
            ">50K     1387\n",
            "dtype: int64 \n",
            "\n",
            "--------------------\n",
            "7th-8th :\n",
            " income\n",
            "<=50K    606\n",
            ">50K      40\n",
            "dtype: int64 \n",
            "\n",
            "--------------------\n",
            "10th :\n",
            " income\n",
            "<=50K    871\n",
            ">50K      62\n",
            "dtype: int64 \n",
            "\n",
            "--------------------\n",
            "Doctorate :\n",
            " income\n",
            ">50K     306\n",
            "<=50K    107\n",
            "dtype: int64 \n",
            "\n",
            "--------------------\n",
            "Prof-school :\n",
            " income\n",
            ">50K     423\n",
            "<=50K    153\n",
            "dtype: int64 \n",
            "\n",
            "--------------------\n",
            "Bachelors :\n",
            " income\n",
            "<=50K    3134\n",
            ">50K     2221\n",
            "dtype: int64 \n",
            "\n",
            "--------------------\n",
            "Masters :\n",
            " income\n",
            ">50K     959\n",
            "<=50K    764\n",
            "dtype: int64 \n",
            "\n",
            "--------------------\n",
            "11th :\n",
            " income\n",
            "<=50K    1115\n",
            ">50K       60\n",
            "dtype: int64 \n",
            "\n",
            "--------------------\n",
            "Assoc-acdm :\n",
            " income\n",
            "<=50K    802\n",
            ">50K     265\n",
            "dtype: int64 \n",
            "\n",
            "--------------------\n",
            "Assoc-voc :\n",
            " income\n",
            "<=50K    1021\n",
            ">50K      361\n",
            "dtype: int64 \n",
            "\n",
            "--------------------\n",
            "1st-4th :\n",
            " income\n",
            "<=50K    162\n",
            ">50K       6\n",
            "dtype: int64 \n",
            "\n",
            "--------------------\n",
            "5th-6th :\n",
            " income\n",
            "<=50K    317\n",
            ">50K      16\n",
            "dtype: int64 \n",
            "\n",
            "--------------------\n",
            "12th :\n",
            " income\n",
            "<=50K    400\n",
            ">50K      33\n",
            "dtype: int64 \n",
            "\n",
            "--------------------\n",
            "9th :\n",
            " income\n",
            "<=50K    487\n",
            ">50K      27\n",
            "dtype: int64 \n",
            "\n",
            "--------------------\n",
            "Preschool :\n",
            " income\n",
            "<=50K    51\n",
            "dtype: int64 \n",
            "\n",
            "--------------------\n"
          ]
        }
      ],
      "source": [
        "a = df['education'].unique()\n",
        "for i in a:\n",
        "    print(i,':\\n',df.loc[df['education'] == i].value_counts(df['income']),'\\n')\n",
        "    print('-'*20)"
      ]
    },
    {
      "cell_type": "code",
      "execution_count": null,
      "id": "e871db8e",
      "metadata": {
        "execution": {
          "iopub.execute_input": "2022-03-07T07:10:02.216395Z",
          "iopub.status.busy": "2022-03-07T07:10:02.203984Z",
          "iopub.status.idle": "2022-03-07T07:10:02.279159Z",
          "shell.execute_reply": "2022-03-07T07:10:02.278512Z",
          "shell.execute_reply.started": "2022-03-07T06:59:26.689039Z"
        },
        "papermill": {
          "duration": 0.106265,
          "end_time": "2022-03-07T07:10:02.279287",
          "exception": false,
          "start_time": "2022-03-07T07:10:02.173022",
          "status": "completed"
        },
        "tags": [],
        "id": "e871db8e",
        "outputId": "e18b2e57-6df5-42f8-fc5b-6b904bb90b90"
      },
      "outputs": [
        {
          "name": "stdout",
          "output_type": "stream",
          "text": [
            "Widowed :\n",
            " income\n",
            "<=50K    908\n",
            ">50K      85\n",
            "dtype: int64 \n",
            "\n",
            "--------------------\n",
            "Divorced :\n",
            " income\n",
            "<=50K    3980\n",
            ">50K      463\n",
            "dtype: int64 \n",
            "\n",
            "--------------------\n",
            "Separated :\n",
            " income\n",
            "<=50K    959\n",
            ">50K      66\n",
            "dtype: int64 \n",
            "\n",
            "--------------------\n",
            "Never-married :\n",
            " income\n",
            "<=50K    10192\n",
            ">50K       491\n",
            "dtype: int64 \n",
            "\n",
            "--------------------\n",
            "Married-civ-spouse :\n",
            " income\n",
            "<=50K    8284\n",
            ">50K     6692\n",
            "dtype: int64 \n",
            "\n",
            "--------------------\n",
            "Married-spouse-absent :\n",
            " income\n",
            "<=50K    384\n",
            ">50K      34\n",
            "dtype: int64 \n",
            "\n",
            "--------------------\n",
            "Married-AF-spouse :\n",
            " income\n",
            "<=50K    13\n",
            ">50K     10\n",
            "dtype: int64 \n",
            "\n",
            "--------------------\n"
          ]
        }
      ],
      "source": [
        "b = df['marital.status'].unique()\n",
        "for i in b:\n",
        "    print(i,':\\n',df.loc[df['marital.status'] == i].value_counts(df['income']),'\\n')\n",
        "    print('-'*20)"
      ]
    },
    {
      "cell_type": "code",
      "execution_count": null,
      "id": "72581645",
      "metadata": {
        "execution": {
          "iopub.execute_input": "2022-03-07T07:10:02.357766Z",
          "iopub.status.busy": "2022-03-07T07:10:02.347470Z",
          "iopub.status.idle": "2022-03-07T07:10:02.522872Z",
          "shell.execute_reply": "2022-03-07T07:10:02.522304Z",
          "shell.execute_reply.started": "2022-03-07T06:59:26.793855Z"
        },
        "papermill": {
          "duration": 0.214314,
          "end_time": "2022-03-07T07:10:02.523034",
          "exception": false,
          "start_time": "2022-03-07T07:10:02.308720",
          "status": "completed"
        },
        "tags": [],
        "id": "72581645"
      },
      "outputs": [],
      "source": [
        "df['education'] = df['education'].str.replace('HS-grad|9th|Preschool|12th|1st-4th|11th|10th|7th-8th|Some-college|5th-6th','Low-education',regex = True)\n",
        "df['education'] = df['education'].str.replace('Assoc-voc|Masters|Prof-school|Doctorate','High-education',regex = True)\n",
        "df['education'] = df['education'].str.replace('Bachelors|Assoc-acdm','Medium-education',regex = True)\n",
        "df['marital.status'] = df['marital.status'].str.replace('Widowed|Divorced|Separated|Never-married|Married-spouse-absent','no',regex = True)\n",
        "df['marital.status'] = df['marital.status'].str.replace('Married-civ-spouse|Married-AF-spouse','yes',regex = True)"
      ]
    },
    {
      "cell_type": "code",
      "execution_count": null,
      "id": "02604f24",
      "metadata": {
        "execution": {
          "iopub.execute_input": "2022-03-07T07:10:02.598905Z",
          "iopub.status.busy": "2022-03-07T07:10:02.597960Z",
          "iopub.status.idle": "2022-03-07T07:10:02.677792Z",
          "shell.execute_reply": "2022-03-07T07:10:02.678299Z",
          "shell.execute_reply.started": "2022-03-07T06:59:26.994684Z"
        },
        "papermill": {
          "duration": 0.125744,
          "end_time": "2022-03-07T07:10:02.678482",
          "exception": false,
          "start_time": "2022-03-07T07:10:02.552738",
          "status": "completed"
        },
        "tags": [],
        "id": "02604f24"
      },
      "outputs": [],
      "source": [
        "from sklearn.preprocessing import LabelEncoder\n",
        "le = LabelEncoder()\n",
        "for i in ('workclass','education','marital.status','occupation','relationship','race','sex','income'):\n",
        "    df[i] = le.fit_transform(df[i])"
      ]
    },
    {
      "cell_type": "code",
      "execution_count": null,
      "id": "947c453b",
      "metadata": {
        "execution": {
          "iopub.execute_input": "2022-03-07T07:10:02.745378Z",
          "iopub.status.busy": "2022-03-07T07:10:02.744212Z",
          "iopub.status.idle": "2022-03-07T07:10:02.756615Z",
          "shell.execute_reply": "2022-03-07T07:10:02.756036Z",
          "shell.execute_reply.started": "2022-03-07T06:59:27.100904Z"
        },
        "papermill": {
          "duration": 0.047922,
          "end_time": "2022-03-07T07:10:02.756785",
          "exception": false,
          "start_time": "2022-03-07T07:10:02.708863",
          "status": "completed"
        },
        "tags": [],
        "id": "947c453b"
      },
      "outputs": [],
      "source": [
        "df.drop('native.country', axis = 1, inplace = True)"
      ]
    },
    {
      "cell_type": "markdown",
      "id": "cc89f030",
      "metadata": {
        "papermill": {
          "duration": 0.028954,
          "end_time": "2022-03-07T07:10:02.815907",
          "exception": false,
          "start_time": "2022-03-07T07:10:02.786953",
          "status": "completed"
        },
        "tags": [],
        "id": "cc89f030"
      },
      "source": [
        "## **Data Visuaization**"
      ]
    },
    {
      "cell_type": "code",
      "execution_count": null,
      "id": "839109de",
      "metadata": {
        "execution": {
          "iopub.execute_input": "2022-03-07T07:10:02.878507Z",
          "iopub.status.busy": "2022-03-07T07:10:02.875581Z",
          "iopub.status.idle": "2022-03-07T07:10:04.197398Z",
          "shell.execute_reply": "2022-03-07T07:10:04.197943Z",
          "shell.execute_reply.started": "2022-03-07T06:59:27.115534Z"
        },
        "papermill": {
          "duration": 1.353937,
          "end_time": "2022-03-07T07:10:04.198104",
          "exception": false,
          "start_time": "2022-03-07T07:10:02.844167",
          "status": "completed"
        },
        "tags": [],
        "id": "839109de",
        "outputId": "84d6a3e8-228b-4bc1-817e-a30a2599f83f"
      },
      "outputs": [
        {
          "data": {
            "text/plain": [
              "<AxesSubplot:>"
            ]
          },
          "execution_count": 15,
          "metadata": {},
          "output_type": "execute_result"
        },
        {
          "data": {
            "image/png": "[encoded data removed]",
            "text/plain": [
              "<Figure size 720x720 with 2 Axes>"
            ]
          },
          "metadata": {
            "needs_background": "light"
          },
          "output_type": "display_data"
        }
      ],
      "source": [
        "plt.figure(figsize=(10,10))\n",
        "sns.heatmap(df.corr(), annot= True, cmap = 'YlGnBu')"
      ]
    },
    {
      "cell_type": "markdown",
      "id": "c4dc7942",
      "metadata": {
        "papermill": {
          "duration": 0.033332,
          "end_time": "2022-03-07T07:10:04.265312",
          "exception": false,
          "start_time": "2022-03-07T07:10:04.231980",
          "status": "completed"
        },
        "tags": [],
        "id": "c4dc7942"
      },
      "source": [
        "## **Splitting the Dataset into Training Set and Test Set**"
      ]
    },
    {
      "cell_type": "code",
      "execution_count": null,
      "id": "a21f479c",
      "metadata": {
        "execution": {
          "iopub.execute_input": "2022-03-07T07:10:04.337608Z",
          "iopub.status.busy": "2022-03-07T07:10:04.337033Z",
          "iopub.status.idle": "2022-03-07T07:10:04.338860Z",
          "shell.execute_reply": "2022-03-07T07:10:04.339392Z",
          "shell.execute_reply.started": "2022-03-07T06:59:28.553895Z"
        },
        "papermill": {
          "duration": 0.040636,
          "end_time": "2022-03-07T07:10:04.339542",
          "exception": false,
          "start_time": "2022-03-07T07:10:04.298906",
          "status": "completed"
        },
        "tags": [],
        "id": "a21f479c"
      },
      "outputs": [],
      "source": [
        "x = df.iloc[:,:-1].values\n",
        "y = df.iloc[:,-1].values"
      ]
    },
    {
      "cell_type": "code",
      "execution_count": null,
      "id": "a8e56527",
      "metadata": {
        "execution": {
          "iopub.execute_input": "2022-03-07T07:10:04.407925Z",
          "iopub.status.busy": "2022-03-07T07:10:04.407321Z",
          "iopub.status.idle": "2022-03-07T07:10:04.416476Z",
          "shell.execute_reply": "2022-03-07T07:10:04.417076Z",
          "shell.execute_reply.started": "2022-03-07T06:59:28.562584Z"
        },
        "papermill": {
          "duration": 0.045928,
          "end_time": "2022-03-07T07:10:04.417251",
          "exception": false,
          "start_time": "2022-03-07T07:10:04.371323",
          "status": "completed"
        },
        "tags": [],
        "id": "a8e56527"
      },
      "outputs": [],
      "source": [
        "from sklearn.model_selection import train_test_split\n",
        "\n",
        "x_train, x_test, y_train, y_test = train_test_split(x, y, test_size = 0.2, random_state = 0)"
      ]
    },
    {
      "cell_type": "markdown",
      "id": "ffb028b4",
      "metadata": {
        "papermill": {
          "duration": 0.032895,
          "end_time": "2022-03-07T07:10:04.482794",
          "exception": false,
          "start_time": "2022-03-07T07:10:04.449899",
          "status": "completed"
        },
        "tags": [],
        "id": "ffb028b4"
      },
      "source": [
        "## **Feature Scaling**"
      ]
    },
    {
      "cell_type": "code",
      "execution_count": null,
      "id": "b1aed95d",
      "metadata": {
        "execution": {
          "iopub.execute_input": "2022-03-07T07:10:04.557142Z",
          "iopub.status.busy": "2022-03-07T07:10:04.556532Z",
          "iopub.status.idle": "2022-03-07T07:10:04.658340Z",
          "shell.execute_reply": "2022-03-07T07:10:04.657854Z",
          "shell.execute_reply.started": "2022-03-07T06:59:28.587377Z"
        },
        "papermill": {
          "duration": 0.142784,
          "end_time": "2022-03-07T07:10:04.658525",
          "exception": false,
          "start_time": "2022-03-07T07:10:04.515741",
          "status": "completed"
        },
        "tags": [],
        "id": "b1aed95d"
      },
      "outputs": [],
      "source": [
        "from sklearn.preprocessing import StandardScaler\n",
        "\n",
        "sc = StandardScaler()\n",
        "df.iloc[:,[0,2,4,10,11,12]] = sc.fit_transform(df.iloc[:,[0,2,4,10,11,12]])\n",
        "df.iloc[:,[0,2,4,10,11,12]] = sc.transform(df.iloc[:,[0,2,4,10,11,12]])"
      ]
    },
    {
      "cell_type": "markdown",
      "id": "f37f4a8c",
      "metadata": {
        "papermill": {
          "duration": 0.03486,
          "end_time": "2022-03-07T07:10:04.727454",
          "exception": false,
          "start_time": "2022-03-07T07:10:04.692594",
          "status": "completed"
        },
        "tags": [],
        "id": "f37f4a8c"
      },
      "source": [
        "## **Fitting the Model**\n",
        "### **Devising Confusion Matrix and Classification Report**"
      ]
    },
    {
      "cell_type": "code",
      "execution_count": null,
      "id": "11f6db50",
      "metadata": {
        "execution": {
          "iopub.execute_input": "2022-03-07T07:10:04.803066Z",
          "iopub.status.busy": "2022-03-07T07:10:04.802471Z",
          "iopub.status.idle": "2022-03-07T07:10:31.620453Z",
          "shell.execute_reply": "2022-03-07T07:10:31.621115Z",
          "shell.execute_reply.started": "2022-03-07T06:59:28.724676Z"
        },
        "papermill": {
          "duration": 26.860148,
          "end_time": "2022-03-07T07:10:31.621372",
          "exception": false,
          "start_time": "2022-03-07T07:10:04.761224",
          "status": "completed"
        },
        "tags": [],
        "id": "11f6db50",
        "outputId": "8940638d-b3ef-4f5f-86d8-56b4fcf9bf92"
      },
      "outputs": [
        {
          "name": "stdout",
          "output_type": "stream",
          "text": [
            "GradientBoostingClassifier(learning_rate=0.45, random_state=0) :\n",
            " The confusion matrix:\n",
            " [[4677  289]\n",
            " [ 539 1008]] \n",
            "\n",
            "The classification report:\n",
            "               precision    recall  f1-score   support\n",
            "\n",
            "           0       0.90      0.94      0.92      4966\n",
            "           1       0.78      0.65      0.71      1547\n",
            "\n",
            "    accuracy                           0.87      6513\n",
            "   macro avg       0.84      0.80      0.81      6513\n",
            "weighted avg       0.87      0.87      0.87      6513\n",
            " \n",
            "\n",
            "------------------------------------------------------------\n",
            "RandomForestClassifier(random_state=0) :\n",
            " The confusion matrix:\n",
            " [[4649  317]\n",
            " [ 597  950]] \n",
            "\n",
            "The classification report:\n",
            "               precision    recall  f1-score   support\n",
            "\n",
            "           0       0.89      0.94      0.91      4966\n",
            "           1       0.75      0.61      0.68      1547\n",
            "\n",
            "    accuracy                           0.86      6513\n",
            "   macro avg       0.82      0.78      0.79      6513\n",
            "weighted avg       0.85      0.86      0.85      6513\n",
            " \n",
            "\n",
            "------------------------------------------------------------\n",
            "DecisionTreeClassifier(random_state=0) :\n",
            " The confusion matrix:\n",
            " [[4368  598]\n",
            " [ 596  951]] \n",
            "\n",
            "The classification report:\n",
            "               precision    recall  f1-score   support\n",
            "\n",
            "           0       0.88      0.88      0.88      4966\n",
            "           1       0.61      0.61      0.61      1547\n",
            "\n",
            "    accuracy                           0.82      6513\n",
            "   macro avg       0.75      0.75      0.75      6513\n",
            "weighted avg       0.82      0.82      0.82      6513\n",
            " \n",
            "\n",
            "------------------------------------------------------------\n",
            "LogisticRegression(random_state=0) :\n",
            " The confusion matrix:\n",
            " [[4792  174]\n",
            " [1125  422]] \n",
            "\n",
            "The classification report:\n",
            "               precision    recall  f1-score   support\n",
            "\n",
            "           0       0.81      0.96      0.88      4966\n",
            "           1       0.71      0.27      0.39      1547\n",
            "\n",
            "    accuracy                           0.80      6513\n",
            "   macro avg       0.76      0.62      0.64      6513\n",
            "weighted avg       0.79      0.80      0.77      6513\n",
            " \n",
            "\n",
            "------------------------------------------------------------\n",
            "SVC(random_state=0) :\n",
            " The confusion matrix:\n",
            " [[4959    7]\n",
            " [1292  255]] \n",
            "\n",
            "The classification report:\n",
            "               precision    recall  f1-score   support\n",
            "\n",
            "           0       0.79      1.00      0.88      4966\n",
            "           1       0.97      0.16      0.28      1547\n",
            "\n",
            "    accuracy                           0.80      6513\n",
            "   macro avg       0.88      0.58      0.58      6513\n",
            "weighted avg       0.84      0.80      0.74      6513\n",
            " \n",
            "\n",
            "------------------------------------------------------------\n",
            "GaussianNB() :\n",
            " The confusion matrix:\n",
            " [[4719  247]\n",
            " [1068  479]] \n",
            "\n",
            "The classification report:\n",
            "               precision    recall  f1-score   support\n",
            "\n",
            "           0       0.82      0.95      0.88      4966\n",
            "           1       0.66      0.31      0.42      1547\n",
            "\n",
            "    accuracy                           0.80      6513\n",
            "   macro avg       0.74      0.63      0.65      6513\n",
            "weighted avg       0.78      0.80      0.77      6513\n",
            " \n",
            "\n",
            "------------------------------------------------------------\n",
            "CategoricalNB() :\n",
            " The confusion matrix:\n",
            " [[4622  344]\n",
            " [ 598  949]] \n",
            "\n",
            "The classification report:\n",
            "               precision    recall  f1-score   support\n",
            "\n",
            "           0       0.89      0.93      0.91      4966\n",
            "           1       0.73      0.61      0.67      1547\n",
            "\n",
            "    accuracy                           0.86      6513\n",
            "   macro avg       0.81      0.77      0.79      6513\n",
            "weighted avg       0.85      0.86      0.85      6513\n",
            " \n",
            "\n",
            "------------------------------------------------------------\n"
          ]
        }
      ],
      "source": [
        "from sklearn.ensemble import GradientBoostingClassifier, RandomForestClassifier\n",
        "from sklearn.linear_model import LogisticRegression\n",
        "from sklearn.tree import DecisionTreeClassifier\n",
        "from sklearn.svm import SVC\n",
        "from sklearn.naive_bayes import GaussianNB\n",
        "from sklearn.naive_bayes import CategoricalNB\n",
        "from sklearn.metrics import confusion_matrix, accuracy_score, classification_report\n",
        "\n",
        "gbc = GradientBoostingClassifier(random_state = 0, learning_rate=0.45) \n",
        "rfc = RandomForestClassifier(random_state = 0)\n",
        "lr = LogisticRegression(random_state = 0)\n",
        "dtc = DecisionTreeClassifier(random_state = 0)\n",
        "svc = SVC(random_state = 0)\n",
        "gnb = GaussianNB()\n",
        "cnb = CategoricalNB()\n",
        "\n",
        "lst = []\n",
        "\n",
        "for i in(gbc,rfc,dtc,lr,svc,gnb,cnb):\n",
        "    i.fit(x_train, y_train)\n",
        "    \n",
        "    i_pred = i.predict(x_test)\n",
        "    \n",
        "    cm = confusion_matrix(y_test, i_pred)\n",
        "    \n",
        "    cr = classification_report(y_test, i_pred)\n",
        "    \n",
        "    i_acc = round(accuracy_score(y_test, i_pred), 4)\n",
        "    \n",
        "    lst.append(i_acc)\n",
        "    \n",
        "    print(i,':\\n','The confusion matrix:\\n',cm,'\\n')\n",
        "    \n",
        "    print('The classification report:\\n',cr,'\\n')\n",
        "    \n",
        "    print('-'*60)"
      ]
    },
    {
      "cell_type": "code",
      "execution_count": null,
      "id": "2ac7e13e",
      "metadata": {
        "execution": {
          "iopub.execute_input": "2022-03-07T07:10:31.699944Z",
          "iopub.status.busy": "2022-03-07T07:10:31.699238Z",
          "iopub.status.idle": "2022-03-07T07:10:31.708265Z",
          "shell.execute_reply": "2022-03-07T07:10:31.707773Z",
          "shell.execute_reply.started": "2022-03-07T06:59:57.764926Z"
        },
        "papermill": {
          "duration": 0.050378,
          "end_time": "2022-03-07T07:10:31.708408",
          "exception": false,
          "start_time": "2022-03-07T07:10:31.658030",
          "status": "completed"
        },
        "tags": [],
        "id": "2ac7e13e",
        "outputId": "a59f8d20-6df7-48cb-e5a7-ce531be1a240"
      },
      "outputs": [
        {
          "data": {
            "text/html": [
              "<div>\n",
              "<style scoped>\n",
              "    .dataframe tbody tr th:only-of-type {\n",
              "        vertical-align: middle;\n",
              "    }\n",
              "\n",
              "    .dataframe tbody tr th {\n",
              "        vertical-align: top;\n",
              "    }\n",
              "\n",
              "    .dataframe thead th {\n",
              "        text-align: right;\n",
              "    }\n",
              "</style>\n",
              "<table border=\"1\" class=\"dataframe\">\n",
              "  <thead>\n",
              "    <tr style=\"text-align: right;\">\n",
              "      <th></th>\n",
              "      <th>Model</th>\n",
              "      <th>Acc_Score</th>\n",
              "    </tr>\n",
              "  </thead>\n",
              "  <tbody>\n",
              "    <tr>\n",
              "      <th>0</th>\n",
              "      <td>Gradient Boosting Classifier</td>\n",
              "      <td>0.8729</td>\n",
              "    </tr>\n",
              "    <tr>\n",
              "      <th>1</th>\n",
              "      <td>Random Forest Classifier</td>\n",
              "      <td>0.8597</td>\n",
              "    </tr>\n",
              "    <tr>\n",
              "      <th>6</th>\n",
              "      <td>CategoricalNB</td>\n",
              "      <td>0.8554</td>\n",
              "    </tr>\n",
              "    <tr>\n",
              "      <th>2</th>\n",
              "      <td>Logistic Regression</td>\n",
              "      <td>0.8167</td>\n",
              "    </tr>\n",
              "    <tr>\n",
              "      <th>3</th>\n",
              "      <td>Decision Tree Classifier</td>\n",
              "      <td>0.8006</td>\n",
              "    </tr>\n",
              "    <tr>\n",
              "      <th>4</th>\n",
              "      <td>SVC</td>\n",
              "      <td>0.8006</td>\n",
              "    </tr>\n",
              "    <tr>\n",
              "      <th>5</th>\n",
              "      <td>GaussianNB</td>\n",
              "      <td>0.7981</td>\n",
              "    </tr>\n",
              "  </tbody>\n",
              "</table>\n",
              "</div>"
            ],
            "text/plain": [
              "                          Model  Acc_Score\n",
              "0  Gradient Boosting Classifier     0.8729\n",
              "1      Random Forest Classifier     0.8597\n",
              "6                 CategoricalNB     0.8554\n",
              "2           Logistic Regression     0.8167\n",
              "3      Decision Tree Classifier     0.8006\n",
              "4                           SVC     0.8006\n",
              "5                    GaussianNB     0.7981"
            ]
          },
          "execution_count": 20,
          "metadata": {},
          "output_type": "execute_result"
        }
      ],
      "source": [
        "Table = pd.DataFrame({'Model':['Gradient Boosting Classifier','Random Forest Classifier',\n",
        "                               'Logistic Regression','Decision Tree Classifier','SVC','GaussianNB','CategoricalNB'],\n",
        "                     'Acc_Score': lst})\n",
        "\n",
        "Table.sort_values('Acc_Score', ascending = False)\n"
      ]
    },
    {
      "cell_type": "markdown",
      "id": "69822e4e",
      "metadata": {
        "papermill": {
          "duration": 0.035799,
          "end_time": "2022-03-07T07:10:31.781190",
          "exception": false,
          "start_time": "2022-03-07T07:10:31.745391",
          "status": "completed"
        },
        "tags": [],
        "id": "69822e4e"
      },
      "source": [
        "**Please upvote if you find the content useful.**"
      ]
    }
  ],
  "metadata": {
    "kernelspec": {
      "display_name": "Python 3",
      "language": "python",
      "name": "python3"
    },
    "language_info": {
      "codemirror_mode": {
        "name": "ipython",
        "version": 3
      },
      "file_extension": ".py",
      "mimetype": "text/x-python",
      "name": "python",
      "nbconvert_exporter": "python",
      "pygments_lexer": "ipython3",
      "version": "3.7.12"
    },
    "papermill": {
      "default_parameters": {},
      "duration": 43.323029,
      "end_time": "2022-03-07T07:10:32.626841",
      "environment_variables": {},
      "exception": null,
      "input_path": "__notebook__.ipynb",
      "output_path": "__notebook__.ipynb",
      "parameters": {},
      "start_time": "2022-03-07T07:09:49.303812",
      "version": "2.3.3"
    },
    "colab": {
      "name": "adult-census-income-model-comparison.ipynb",
      "provenance": []
    }
  },
  "nbformat": 4,
  "nbformat_minor": 5
}