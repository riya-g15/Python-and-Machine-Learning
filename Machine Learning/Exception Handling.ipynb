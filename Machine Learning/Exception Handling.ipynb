{
  "nbformat": 4,
  "nbformat_minor": 0,
  "metadata": {
    "colab": {
      "name": "Untitled9.ipynb",
      "provenance": []
    },
    "kernelspec": {
      "name": "python3",
      "display_name": "Python 3"
    },
    "language_info": {
      "name": "python"
    }
  },
  "cells": [
    {
      "cell_type": "code",
      "metadata": {
        "id": "IdvUbUqkxZ1B"
      },
      "source": [
        "import pandas as pd\n",
        "import numpy as np\n",
        "import seaborn as sns"
      ],
      "execution_count": 74,
      "outputs": []
    },
    {
      "cell_type": "code",
      "metadata": {
        "id": "IV0a7i_VyMRC"
      },
      "source": [
        "import matplotlib.pyplot as plt"
      ],
      "execution_count": 3,
      "outputs": []
    },
    {
      "cell_type": "code",
      "metadata": {
        "id": "3pqn-ta0yTL2"
      },
      "source": [
        "df1 = pd.read_csv('Batsman_Data.csv - Batsman_Data.csv.csv')"
      ],
      "execution_count": 4,
      "outputs": []
    },
    {
      "cell_type": "code",
      "metadata": {
        "id": "t7pd_TrVycl5"
      },
      "source": [
        "df2 = pd.read_csv('Bowler_data.csv - Bowler_data.csv.csv')"
      ],
      "execution_count": 5,
      "outputs": []
    },
    {
      "cell_type": "code",
      "metadata": {
        "id": "ajc0xX2nydSh"
      },
      "source": [
        "df3 = pd.read_csv('Ground_Averages.csv - Ground_Averages.csv.csv')"
      ],
      "execution_count": 6,
      "outputs": []
    },
    {
      "cell_type": "code",
      "metadata": {
        "id": "kwQdRNnyygVJ"
      },
      "source": [
        "df4 = pd.read_csv('ODI_Match_Results.csv - ODI_Match_Results.csv.csv')"
      ],
      "execution_count": 7,
      "outputs": []
    },
    {
      "cell_type": "code",
      "metadata": {
        "id": "kPpK9C7VyhxI"
      },
      "source": [
        "df5 = pd.read_csv('ODI_Match_Totals.csv - ODI_Match_Totals.csv.csv')"
      ],
      "execution_count": 8,
      "outputs": []
    },
    {
      "cell_type": "code",
      "metadata": {
        "id": "evufQBpxyi7Q"
      },
      "source": [
        "df6 = pd.read_csv('WC_players.csv - WC_players.csv.csv')"
      ],
      "execution_count": 9,
      "outputs": []
    },
    {
      "cell_type": "code",
      "metadata": {
        "colab": {
          "base_uri": "https://localhost:8080/",
          "height": 206
        },
        "id": "1g6KcMWly03x",
        "outputId": "3d1e450e-b242-4b59-cd0a-9d95e28c7a4a"
      },
      "source": [
        "df1.head()"
      ],
      "execution_count": 10,
      "outputs": [
        {
          "output_type": "execute_result",
          "data": {
            "text/html": [
              "<div>\n",
              "<style scoped>\n",
              "    .dataframe tbody tr th:only-of-type {\n",
              "        vertical-align: middle;\n",
              "    }\n",
              "\n",
              "    .dataframe tbody tr th {\n",
              "        vertical-align: top;\n",
              "    }\n",
              "\n",
              "    .dataframe thead th {\n",
              "        text-align: right;\n",
              "    }\n",
              "</style>\n",
              "<table border=\"1\" class=\"dataframe\">\n",
              "  <thead>\n",
              "    <tr style=\"text-align: right;\">\n",
              "      <th></th>\n",
              "      <th>Unnamed: 0</th>\n",
              "      <th>Bat1</th>\n",
              "      <th>Runs</th>\n",
              "      <th>BF</th>\n",
              "      <th>SR</th>\n",
              "      <th>4s</th>\n",
              "      <th>6s</th>\n",
              "      <th>Opposition</th>\n",
              "      <th>Ground</th>\n",
              "      <th>Start Date</th>\n",
              "      <th>Match_ID</th>\n",
              "      <th>Batsman</th>\n",
              "      <th>Player_ID</th>\n",
              "    </tr>\n",
              "  </thead>\n",
              "  <tbody>\n",
              "    <tr>\n",
              "      <th>0</th>\n",
              "      <td>1</td>\n",
              "      <td>DNB</td>\n",
              "      <td>-</td>\n",
              "      <td>-</td>\n",
              "      <td>-</td>\n",
              "      <td>-</td>\n",
              "      <td>-</td>\n",
              "      <td>v India</td>\n",
              "      <td>Nagpur</td>\n",
              "      <td>18-Dec-09</td>\n",
              "      <td>ODI # 2933</td>\n",
              "      <td>Oshane Thomas</td>\n",
              "      <td>49619</td>\n",
              "    </tr>\n",
              "    <tr>\n",
              "      <th>1</th>\n",
              "      <td>2</td>\n",
              "      <td>DNB</td>\n",
              "      <td>-</td>\n",
              "      <td>-</td>\n",
              "      <td>-</td>\n",
              "      <td>-</td>\n",
              "      <td>-</td>\n",
              "      <td>v India</td>\n",
              "      <td>Kolkata</td>\n",
              "      <td>24-Dec-09</td>\n",
              "      <td>ODI # 2935</td>\n",
              "      <td>Oshane Thomas</td>\n",
              "      <td>49619</td>\n",
              "    </tr>\n",
              "    <tr>\n",
              "      <th>2</th>\n",
              "      <td>3</td>\n",
              "      <td>DNB</td>\n",
              "      <td>-</td>\n",
              "      <td>-</td>\n",
              "      <td>-</td>\n",
              "      <td>-</td>\n",
              "      <td>-</td>\n",
              "      <td>v India</td>\n",
              "      <td>Delhi</td>\n",
              "      <td>27-Dec-09</td>\n",
              "      <td>ODI # 2936</td>\n",
              "      <td>Oshane Thomas</td>\n",
              "      <td>49619</td>\n",
              "    </tr>\n",
              "    <tr>\n",
              "      <th>3</th>\n",
              "      <td>4</td>\n",
              "      <td>DNB</td>\n",
              "      <td>-</td>\n",
              "      <td>-</td>\n",
              "      <td>-</td>\n",
              "      <td>-</td>\n",
              "      <td>-</td>\n",
              "      <td>v Bangladesh</td>\n",
              "      <td>Dhaka</td>\n",
              "      <td>04-Jan-10</td>\n",
              "      <td>ODI # 2937</td>\n",
              "      <td>Oshane Thomas</td>\n",
              "      <td>49619</td>\n",
              "    </tr>\n",
              "    <tr>\n",
              "      <th>4</th>\n",
              "      <td>5</td>\n",
              "      <td>DNB</td>\n",
              "      <td>-</td>\n",
              "      <td>-</td>\n",
              "      <td>-</td>\n",
              "      <td>-</td>\n",
              "      <td>-</td>\n",
              "      <td>v India</td>\n",
              "      <td>Dhaka</td>\n",
              "      <td>05-Jan-10</td>\n",
              "      <td>ODI # 2938</td>\n",
              "      <td>Oshane Thomas</td>\n",
              "      <td>49619</td>\n",
              "    </tr>\n",
              "  </tbody>\n",
              "</table>\n",
              "</div>"
            ],
            "text/plain": [
              "   Unnamed: 0 Bat1 Runs BF  ... Start Date    Match_ID        Batsman Player_ID\n",
              "0           1  DNB    -  -  ...  18-Dec-09  ODI # 2933  Oshane Thomas     49619\n",
              "1           2  DNB    -  -  ...  24-Dec-09  ODI # 2935  Oshane Thomas     49619\n",
              "2           3  DNB    -  -  ...  27-Dec-09  ODI # 2936  Oshane Thomas     49619\n",
              "3           4  DNB    -  -  ...  04-Jan-10  ODI # 2937  Oshane Thomas     49619\n",
              "4           5  DNB    -  -  ...  05-Jan-10  ODI # 2938  Oshane Thomas     49619\n",
              "\n",
              "[5 rows x 13 columns]"
            ]
          },
          "metadata": {},
          "execution_count": 10
        }
      ]
    },
    {
      "cell_type": "code",
      "metadata": {
        "colab": {
          "base_uri": "https://localhost:8080/",
          "height": 206
        },
        "id": "ZBRK_Edny3L4",
        "outputId": "cc6be1c3-9d09-494e-c107-be066e44b770"
      },
      "source": [
        "df2.head()"
      ],
      "execution_count": 11,
      "outputs": [
        {
          "output_type": "execute_result",
          "data": {
            "text/html": [
              "<div>\n",
              "<style scoped>\n",
              "    .dataframe tbody tr th:only-of-type {\n",
              "        vertical-align: middle;\n",
              "    }\n",
              "\n",
              "    .dataframe tbody tr th {\n",
              "        vertical-align: top;\n",
              "    }\n",
              "\n",
              "    .dataframe thead th {\n",
              "        text-align: right;\n",
              "    }\n",
              "</style>\n",
              "<table border=\"1\" class=\"dataframe\">\n",
              "  <thead>\n",
              "    <tr style=\"text-align: right;\">\n",
              "      <th></th>\n",
              "      <th>Unnamed: 0</th>\n",
              "      <th>Overs</th>\n",
              "      <th>Mdns</th>\n",
              "      <th>Runs</th>\n",
              "      <th>Wkts</th>\n",
              "      <th>Econ</th>\n",
              "      <th>Ave</th>\n",
              "      <th>SR</th>\n",
              "      <th>Opposition</th>\n",
              "      <th>Ground</th>\n",
              "      <th>Start Date</th>\n",
              "      <th>Match_ID</th>\n",
              "      <th>Bowler</th>\n",
              "      <th>Player_ID</th>\n",
              "    </tr>\n",
              "  </thead>\n",
              "  <tbody>\n",
              "    <tr>\n",
              "      <th>0</th>\n",
              "      <td>1</td>\n",
              "      <td>8</td>\n",
              "      <td>0</td>\n",
              "      <td>57</td>\n",
              "      <td>0</td>\n",
              "      <td>7.12</td>\n",
              "      <td>-</td>\n",
              "      <td>-</td>\n",
              "      <td>v India</td>\n",
              "      <td>Nagpur</td>\n",
              "      <td>18 Dec 2009</td>\n",
              "      <td>ODI # 2933</td>\n",
              "      <td>Suranga Lakmal</td>\n",
              "      <td>49619</td>\n",
              "    </tr>\n",
              "    <tr>\n",
              "      <th>1</th>\n",
              "      <td>2</td>\n",
              "      <td>10</td>\n",
              "      <td>0</td>\n",
              "      <td>55</td>\n",
              "      <td>2</td>\n",
              "      <td>5.5</td>\n",
              "      <td>27.5</td>\n",
              "      <td>30</td>\n",
              "      <td>v India</td>\n",
              "      <td>Kolkata</td>\n",
              "      <td>24 Dec 2009</td>\n",
              "      <td>ODI # 2935</td>\n",
              "      <td>Suranga Lakmal</td>\n",
              "      <td>49619</td>\n",
              "    </tr>\n",
              "    <tr>\n",
              "      <th>2</th>\n",
              "      <td>3</td>\n",
              "      <td>-</td>\n",
              "      <td>-</td>\n",
              "      <td>-</td>\n",
              "      <td>-</td>\n",
              "      <td>-</td>\n",
              "      <td>-</td>\n",
              "      <td>-</td>\n",
              "      <td>v India</td>\n",
              "      <td>Delhi</td>\n",
              "      <td>27 Dec 2009</td>\n",
              "      <td>ODI # 2936</td>\n",
              "      <td>Suranga Lakmal</td>\n",
              "      <td>49619</td>\n",
              "    </tr>\n",
              "    <tr>\n",
              "      <th>3</th>\n",
              "      <td>4</td>\n",
              "      <td>9</td>\n",
              "      <td>1</td>\n",
              "      <td>63</td>\n",
              "      <td>2</td>\n",
              "      <td>7</td>\n",
              "      <td>31.5</td>\n",
              "      <td>27</td>\n",
              "      <td>v Bangladesh</td>\n",
              "      <td>Dhaka</td>\n",
              "      <td>4 Jan 2010</td>\n",
              "      <td>ODI # 2937</td>\n",
              "      <td>Suranga Lakmal</td>\n",
              "      <td>49619</td>\n",
              "    </tr>\n",
              "    <tr>\n",
              "      <th>4</th>\n",
              "      <td>5</td>\n",
              "      <td>8</td>\n",
              "      <td>1</td>\n",
              "      <td>48</td>\n",
              "      <td>0</td>\n",
              "      <td>6</td>\n",
              "      <td>-</td>\n",
              "      <td>-</td>\n",
              "      <td>v India</td>\n",
              "      <td>Dhaka</td>\n",
              "      <td>5 Jan 2010</td>\n",
              "      <td>ODI # 2938</td>\n",
              "      <td>Suranga Lakmal</td>\n",
              "      <td>49619</td>\n",
              "    </tr>\n",
              "  </tbody>\n",
              "</table>\n",
              "</div>"
            ],
            "text/plain": [
              "   Unnamed: 0 Overs Mdns  ...    Match_ID          Bowler Player_ID\n",
              "0           1     8    0  ...  ODI # 2933  Suranga Lakmal     49619\n",
              "1           2    10    0  ...  ODI # 2935  Suranga Lakmal     49619\n",
              "2           3     -    -  ...  ODI # 2936  Suranga Lakmal     49619\n",
              "3           4     9    1  ...  ODI # 2937  Suranga Lakmal     49619\n",
              "4           5     8    1  ...  ODI # 2938  Suranga Lakmal     49619\n",
              "\n",
              "[5 rows x 14 columns]"
            ]
          },
          "metadata": {},
          "execution_count": 11
        }
      ]
    },
    {
      "cell_type": "code",
      "metadata": {
        "colab": {
          "base_uri": "https://localhost:8080/",
          "height": 206
        },
        "id": "0Oa_HdyPzMzP",
        "outputId": "889caf34-db47-45b4-a864-3a32b64df1f5"
      },
      "source": [
        "df3.head()"
      ],
      "execution_count": 12,
      "outputs": [
        {
          "output_type": "execute_result",
          "data": {
            "text/html": [
              "<div>\n",
              "<style scoped>\n",
              "    .dataframe tbody tr th:only-of-type {\n",
              "        vertical-align: middle;\n",
              "    }\n",
              "\n",
              "    .dataframe tbody tr th {\n",
              "        vertical-align: top;\n",
              "    }\n",
              "\n",
              "    .dataframe thead th {\n",
              "        text-align: right;\n",
              "    }\n",
              "</style>\n",
              "<table border=\"1\" class=\"dataframe\">\n",
              "  <thead>\n",
              "    <tr style=\"text-align: right;\">\n",
              "      <th></th>\n",
              "      <th>Ground</th>\n",
              "      <th>Span</th>\n",
              "      <th>Mat</th>\n",
              "      <th>Won</th>\n",
              "      <th>Tied</th>\n",
              "      <th>NR</th>\n",
              "      <th>Runs</th>\n",
              "      <th>Wkts</th>\n",
              "      <th>Balls</th>\n",
              "      <th>Ave</th>\n",
              "      <th>RPO</th>\n",
              "    </tr>\n",
              "  </thead>\n",
              "  <tbody>\n",
              "    <tr>\n",
              "      <th>0</th>\n",
              "      <td>Eden Gardens, Kolkata - India</td>\n",
              "      <td>2013-2017</td>\n",
              "      <td>4</td>\n",
              "      <td>4</td>\n",
              "      <td>0</td>\n",
              "      <td>0</td>\n",
              "      <td>2161</td>\n",
              "      <td>72</td>\n",
              "      <td>2297</td>\n",
              "      <td>30.01</td>\n",
              "      <td>5.64</td>\n",
              "    </tr>\n",
              "    <tr>\n",
              "      <th>1</th>\n",
              "      <td>Feroz Shah Kotla, Delhi - India</td>\n",
              "      <td>2013-2019</td>\n",
              "      <td>4</td>\n",
              "      <td>4</td>\n",
              "      <td>0</td>\n",
              "      <td>0</td>\n",
              "      <td>1789</td>\n",
              "      <td>75</td>\n",
              "      <td>2331</td>\n",
              "      <td>23.85</td>\n",
              "      <td>4.60</td>\n",
              "    </tr>\n",
              "    <tr>\n",
              "      <th>2</th>\n",
              "      <td>Melbourne Cricket Ground - Australia</td>\n",
              "      <td>2013-2019</td>\n",
              "      <td>15</td>\n",
              "      <td>15</td>\n",
              "      <td>0</td>\n",
              "      <td>0</td>\n",
              "      <td>7656</td>\n",
              "      <td>217</td>\n",
              "      <td>8482</td>\n",
              "      <td>35.28</td>\n",
              "      <td>5.41</td>\n",
              "    </tr>\n",
              "    <tr>\n",
              "      <th>3</th>\n",
              "      <td>Saurashtra Cricket Association Stadium, Rajkot...</td>\n",
              "      <td>2013-2015</td>\n",
              "      <td>2</td>\n",
              "      <td>2</td>\n",
              "      <td>0</td>\n",
              "      <td>0</td>\n",
              "      <td>1163</td>\n",
              "      <td>26</td>\n",
              "      <td>1200</td>\n",
              "      <td>44.73</td>\n",
              "      <td>5.81</td>\n",
              "    </tr>\n",
              "    <tr>\n",
              "      <th>4</th>\n",
              "      <td>Adelaide Oval - Australia</td>\n",
              "      <td>2013-2019</td>\n",
              "      <td>10</td>\n",
              "      <td>10</td>\n",
              "      <td>0</td>\n",
              "      <td>0</td>\n",
              "      <td>4863</td>\n",
              "      <td>157</td>\n",
              "      <td>5645</td>\n",
              "      <td>30.97</td>\n",
              "      <td>5.16</td>\n",
              "    </tr>\n",
              "  </tbody>\n",
              "</table>\n",
              "</div>"
            ],
            "text/plain": [
              "                                              Ground       Span  ...    Ave   RPO\n",
              "0                      Eden Gardens, Kolkata - India  2013-2017  ...  30.01  5.64\n",
              "1                    Feroz Shah Kotla, Delhi - India  2013-2019  ...  23.85  4.60\n",
              "2               Melbourne Cricket Ground - Australia  2013-2019  ...  35.28  5.41\n",
              "3  Saurashtra Cricket Association Stadium, Rajkot...  2013-2015  ...  44.73  5.81\n",
              "4                          Adelaide Oval - Australia  2013-2019  ...  30.97  5.16\n",
              "\n",
              "[5 rows x 11 columns]"
            ]
          },
          "metadata": {},
          "execution_count": 12
        }
      ]
    },
    {
      "cell_type": "code",
      "metadata": {
        "colab": {
          "base_uri": "https://localhost:8080/",
          "height": 206
        },
        "id": "GOuRdcnFzObF",
        "outputId": "bb8a6704-f377-444b-eebc-7f8919582f25"
      },
      "source": [
        "df4.head()"
      ],
      "execution_count": 13,
      "outputs": [
        {
          "output_type": "execute_result",
          "data": {
            "text/html": [
              "<div>\n",
              "<style scoped>\n",
              "    .dataframe tbody tr th:only-of-type {\n",
              "        vertical-align: middle;\n",
              "    }\n",
              "\n",
              "    .dataframe tbody tr th {\n",
              "        vertical-align: top;\n",
              "    }\n",
              "\n",
              "    .dataframe thead th {\n",
              "        text-align: right;\n",
              "    }\n",
              "</style>\n",
              "<table border=\"1\" class=\"dataframe\">\n",
              "  <thead>\n",
              "    <tr style=\"text-align: right;\">\n",
              "      <th></th>\n",
              "      <th>Unnamed: 0</th>\n",
              "      <th>Result</th>\n",
              "      <th>Margin</th>\n",
              "      <th>BR</th>\n",
              "      <th>Toss</th>\n",
              "      <th>Bat</th>\n",
              "      <th>Opposition</th>\n",
              "      <th>Ground</th>\n",
              "      <th>Start Date</th>\n",
              "      <th>Match_ID</th>\n",
              "      <th>Country</th>\n",
              "      <th>Country_ID</th>\n",
              "    </tr>\n",
              "  </thead>\n",
              "  <tbody>\n",
              "    <tr>\n",
              "      <th>0</th>\n",
              "      <td>418</td>\n",
              "      <td>won</td>\n",
              "      <td>85 runs</td>\n",
              "      <td>NaN</td>\n",
              "      <td>lost</td>\n",
              "      <td>1st</td>\n",
              "      <td>v India</td>\n",
              "      <td>Kolkata</td>\n",
              "      <td>3 Jan 2013</td>\n",
              "      <td>ODI # 3315</td>\n",
              "      <td>Pakistan</td>\n",
              "      <td>7</td>\n",
              "    </tr>\n",
              "    <tr>\n",
              "      <th>1</th>\n",
              "      <td>692</td>\n",
              "      <td>lost</td>\n",
              "      <td>85 runs</td>\n",
              "      <td>NaN</td>\n",
              "      <td>won</td>\n",
              "      <td>2nd</td>\n",
              "      <td>v Pakistan</td>\n",
              "      <td>Kolkata</td>\n",
              "      <td>3 Jan 2013</td>\n",
              "      <td>ODI # 3315</td>\n",
              "      <td>India</td>\n",
              "      <td>6</td>\n",
              "    </tr>\n",
              "    <tr>\n",
              "      <th>2</th>\n",
              "      <td>419</td>\n",
              "      <td>lost</td>\n",
              "      <td>10 runs</td>\n",
              "      <td>NaN</td>\n",
              "      <td>lost</td>\n",
              "      <td>2nd</td>\n",
              "      <td>v India</td>\n",
              "      <td>Delhi</td>\n",
              "      <td>6 Jan 2013</td>\n",
              "      <td>ODI # 3316</td>\n",
              "      <td>Pakistan</td>\n",
              "      <td>7</td>\n",
              "    </tr>\n",
              "    <tr>\n",
              "      <th>3</th>\n",
              "      <td>693</td>\n",
              "      <td>won</td>\n",
              "      <td>10 runs</td>\n",
              "      <td>NaN</td>\n",
              "      <td>won</td>\n",
              "      <td>1st</td>\n",
              "      <td>v Pakistan</td>\n",
              "      <td>Delhi</td>\n",
              "      <td>6 Jan 2013</td>\n",
              "      <td>ODI # 3316</td>\n",
              "      <td>India</td>\n",
              "      <td>6</td>\n",
              "    </tr>\n",
              "    <tr>\n",
              "      <th>4</th>\n",
              "      <td>121</td>\n",
              "      <td>lost</td>\n",
              "      <td>107 runs</td>\n",
              "      <td>NaN</td>\n",
              "      <td>lost</td>\n",
              "      <td>2nd</td>\n",
              "      <td>v Australia</td>\n",
              "      <td>Melbourne</td>\n",
              "      <td>11 Jan 2013</td>\n",
              "      <td>ODI # 3317</td>\n",
              "      <td>SriLanka</td>\n",
              "      <td>8</td>\n",
              "    </tr>\n",
              "  </tbody>\n",
              "</table>\n",
              "</div>"
            ],
            "text/plain": [
              "   Unnamed: 0 Result    Margin  ...    Match_ID   Country Country_ID\n",
              "0         418    won   85 runs  ...  ODI # 3315  Pakistan          7\n",
              "1         692   lost   85 runs  ...  ODI # 3315     India          6\n",
              "2         419   lost   10 runs  ...  ODI # 3316  Pakistan          7\n",
              "3         693    won   10 runs  ...  ODI # 3316     India          6\n",
              "4         121   lost  107 runs  ...  ODI # 3317  SriLanka          8\n",
              "\n",
              "[5 rows x 12 columns]"
            ]
          },
          "metadata": {},
          "execution_count": 13
        }
      ]
    },
    {
      "cell_type": "code",
      "metadata": {
        "colab": {
          "base_uri": "https://localhost:8080/",
          "height": 206
        },
        "id": "AYKbzdGMzPac",
        "outputId": "67aa715e-18e9-4dd1-c2c5-991f6d3f2b6e"
      },
      "source": [
        "df5.head()"
      ],
      "execution_count": 14,
      "outputs": [
        {
          "output_type": "execute_result",
          "data": {
            "text/html": [
              "<div>\n",
              "<style scoped>\n",
              "    .dataframe tbody tr th:only-of-type {\n",
              "        vertical-align: middle;\n",
              "    }\n",
              "\n",
              "    .dataframe tbody tr th {\n",
              "        vertical-align: top;\n",
              "    }\n",
              "\n",
              "    .dataframe thead th {\n",
              "        text-align: right;\n",
              "    }\n",
              "</style>\n",
              "<table border=\"1\" class=\"dataframe\">\n",
              "  <thead>\n",
              "    <tr style=\"text-align: right;\">\n",
              "      <th></th>\n",
              "      <th>Unnamed: 0</th>\n",
              "      <th>Score</th>\n",
              "      <th>Overs</th>\n",
              "      <th>RPO</th>\n",
              "      <th>Target</th>\n",
              "      <th>Inns</th>\n",
              "      <th>Result</th>\n",
              "      <th>Opposition</th>\n",
              "      <th>Ground</th>\n",
              "      <th>Start Date</th>\n",
              "      <th>Match_ID</th>\n",
              "      <th>Country</th>\n",
              "      <th>Country_ID</th>\n",
              "    </tr>\n",
              "  </thead>\n",
              "  <tbody>\n",
              "    <tr>\n",
              "      <th>0</th>\n",
              "      <td>412</td>\n",
              "      <td>250</td>\n",
              "      <td>48.3</td>\n",
              "      <td>5.15</td>\n",
              "      <td>NaN</td>\n",
              "      <td>1</td>\n",
              "      <td>won</td>\n",
              "      <td>v India</td>\n",
              "      <td>Kolkata</td>\n",
              "      <td>3 Jan 2013</td>\n",
              "      <td>ODI # 3315</td>\n",
              "      <td>Pakistan</td>\n",
              "      <td>7</td>\n",
              "    </tr>\n",
              "    <tr>\n",
              "      <th>1</th>\n",
              "      <td>680</td>\n",
              "      <td>165</td>\n",
              "      <td>48.0</td>\n",
              "      <td>3.43</td>\n",
              "      <td>251.0</td>\n",
              "      <td>2</td>\n",
              "      <td>lost</td>\n",
              "      <td>v Pakistan</td>\n",
              "      <td>Kolkata</td>\n",
              "      <td>3 Jan 2013</td>\n",
              "      <td>ODI # 3315</td>\n",
              "      <td>India</td>\n",
              "      <td>6</td>\n",
              "    </tr>\n",
              "    <tr>\n",
              "      <th>2</th>\n",
              "      <td>413</td>\n",
              "      <td>157</td>\n",
              "      <td>48.5</td>\n",
              "      <td>3.21</td>\n",
              "      <td>168.0</td>\n",
              "      <td>2</td>\n",
              "      <td>lost</td>\n",
              "      <td>v India</td>\n",
              "      <td>Delhi</td>\n",
              "      <td>6 Jan 2013</td>\n",
              "      <td>ODI # 3316</td>\n",
              "      <td>Pakistan</td>\n",
              "      <td>7</td>\n",
              "    </tr>\n",
              "    <tr>\n",
              "      <th>3</th>\n",
              "      <td>681</td>\n",
              "      <td>167</td>\n",
              "      <td>43.4</td>\n",
              "      <td>3.82</td>\n",
              "      <td>NaN</td>\n",
              "      <td>1</td>\n",
              "      <td>won</td>\n",
              "      <td>v Pakistan</td>\n",
              "      <td>Delhi</td>\n",
              "      <td>6 Jan 2013</td>\n",
              "      <td>ODI # 3316</td>\n",
              "      <td>India</td>\n",
              "      <td>6</td>\n",
              "    </tr>\n",
              "    <tr>\n",
              "      <th>4</th>\n",
              "      <td>117</td>\n",
              "      <td>198</td>\n",
              "      <td>40.0</td>\n",
              "      <td>4.95</td>\n",
              "      <td>306.0</td>\n",
              "      <td>2</td>\n",
              "      <td>lost</td>\n",
              "      <td>v Australia</td>\n",
              "      <td>Melbourne</td>\n",
              "      <td>11 Jan 2013</td>\n",
              "      <td>ODI # 3317</td>\n",
              "      <td>SriLanka</td>\n",
              "      <td>8</td>\n",
              "    </tr>\n",
              "  </tbody>\n",
              "</table>\n",
              "</div>"
            ],
            "text/plain": [
              "   Unnamed: 0 Score  Overs   RPO  ...   Start Date    Match_ID   Country Country_ID\n",
              "0         412   250   48.3  5.15  ...   3 Jan 2013  ODI # 3315  Pakistan          7\n",
              "1         680   165   48.0  3.43  ...   3 Jan 2013  ODI # 3315     India          6\n",
              "2         413   157   48.5  3.21  ...   6 Jan 2013  ODI # 3316  Pakistan          7\n",
              "3         681   167   43.4  3.82  ...   6 Jan 2013  ODI # 3316     India          6\n",
              "4         117   198   40.0  4.95  ...  11 Jan 2013  ODI # 3317  SriLanka          8\n",
              "\n",
              "[5 rows x 13 columns]"
            ]
          },
          "metadata": {},
          "execution_count": 14
        }
      ]
    },
    {
      "cell_type": "code",
      "metadata": {
        "colab": {
          "base_uri": "https://localhost:8080/",
          "height": 206
        },
        "id": "GQ-bzo2-zQQ0",
        "outputId": "eed349f8-e189-4d2d-87a8-7f5e807f8210"
      },
      "source": [
        "df6.head()"
      ],
      "execution_count": 15,
      "outputs": [
        {
          "output_type": "execute_result",
          "data": {
            "text/html": [
              "<div>\n",
              "<style scoped>\n",
              "    .dataframe tbody tr th:only-of-type {\n",
              "        vertical-align: middle;\n",
              "    }\n",
              "\n",
              "    .dataframe tbody tr th {\n",
              "        vertical-align: top;\n",
              "    }\n",
              "\n",
              "    .dataframe thead th {\n",
              "        text-align: right;\n",
              "    }\n",
              "</style>\n",
              "<table border=\"1\" class=\"dataframe\">\n",
              "  <thead>\n",
              "    <tr style=\"text-align: right;\">\n",
              "      <th></th>\n",
              "      <th>Player</th>\n",
              "      <th>ID</th>\n",
              "      <th>Country</th>\n",
              "    </tr>\n",
              "  </thead>\n",
              "  <tbody>\n",
              "    <tr>\n",
              "      <th>0</th>\n",
              "      <td>Gulbadin Naib (c)</td>\n",
              "      <td>352048</td>\n",
              "      <td>Afghanistan</td>\n",
              "    </tr>\n",
              "    <tr>\n",
              "      <th>1</th>\n",
              "      <td>Rashid Khan (vc)</td>\n",
              "      <td>793463</td>\n",
              "      <td>Afghanistan</td>\n",
              "    </tr>\n",
              "    <tr>\n",
              "      <th>2</th>\n",
              "      <td>Aftab Alam</td>\n",
              "      <td>440963</td>\n",
              "      <td>Afghanistan</td>\n",
              "    </tr>\n",
              "    <tr>\n",
              "      <th>3</th>\n",
              "      <td>Asghar Afghan</td>\n",
              "      <td>320652</td>\n",
              "      <td>Afghanistan</td>\n",
              "    </tr>\n",
              "    <tr>\n",
              "      <th>4</th>\n",
              "      <td>Dawlat Zadran</td>\n",
              "      <td>516561</td>\n",
              "      <td>Afghanistan</td>\n",
              "    </tr>\n",
              "  </tbody>\n",
              "</table>\n",
              "</div>"
            ],
            "text/plain": [
              "              Player      ID      Country\n",
              "0  Gulbadin Naib (c)  352048  Afghanistan\n",
              "1   Rashid Khan (vc)  793463  Afghanistan\n",
              "2         Aftab Alam  440963  Afghanistan\n",
              "3      Asghar Afghan  320652  Afghanistan\n",
              "4      Dawlat Zadran  516561  Afghanistan"
            ]
          },
          "metadata": {},
          "execution_count": 15
        }
      ]
    },
    {
      "cell_type": "code",
      "metadata": {
        "colab": {
          "base_uri": "https://localhost:8080/"
        },
        "id": "VU9v-4VhzRMm",
        "outputId": "bc2fd76f-0af2-45d7-f673-bec131d75bc3"
      },
      "source": [
        "df1.isnull().sum()"
      ],
      "execution_count": 20,
      "outputs": [
        {
          "output_type": "execute_result",
          "data": {
            "text/plain": [
              "Unnamed: 0    0\n",
              "Bat1          0\n",
              "Runs          0\n",
              "BF            0\n",
              "SR            0\n",
              "4s            0\n",
              "6s            0\n",
              "Opposition    0\n",
              "Ground        0\n",
              "Start Date    0\n",
              "Match_ID      0\n",
              "Batsman       0\n",
              "Player_ID     0\n",
              "dtype: int64"
            ]
          },
          "metadata": {},
          "execution_count": 20
        }
      ]
    },
    {
      "cell_type": "code",
      "metadata": {
        "colab": {
          "base_uri": "https://localhost:8080/"
        },
        "id": "IfoZ-FwkzUOI",
        "outputId": "ad7146a9-487c-4336-f690-f0c3a79840b1"
      },
      "source": [
        "df2.isnull().sum()"
      ],
      "execution_count": 21,
      "outputs": [
        {
          "output_type": "execute_result",
          "data": {
            "text/plain": [
              "Unnamed: 0    0\n",
              "Overs         0\n",
              "Mdns          0\n",
              "Runs          0\n",
              "Wkts          0\n",
              "Econ          0\n",
              "Ave           0\n",
              "SR            0\n",
              "Opposition    0\n",
              "Ground        0\n",
              "Start Date    0\n",
              "Match_ID      0\n",
              "Bowler        0\n",
              "Player_ID     0\n",
              "dtype: int64"
            ]
          },
          "metadata": {},
          "execution_count": 21
        }
      ]
    },
    {
      "cell_type": "code",
      "metadata": {
        "colab": {
          "base_uri": "https://localhost:8080/"
        },
        "id": "roUvTbt5zsn9",
        "outputId": "da23d859-79cc-4b37-d260-52e8d7a12e1f"
      },
      "source": [
        "df3.isnull().sum()"
      ],
      "execution_count": 22,
      "outputs": [
        {
          "output_type": "execute_result",
          "data": {
            "text/plain": [
              "Ground    0\n",
              "Span      0\n",
              "Mat       0\n",
              "Won       0\n",
              "Tied      0\n",
              "NR        0\n",
              "Runs      0\n",
              "Wkts      0\n",
              "Balls     0\n",
              "Ave       0\n",
              "RPO       0\n",
              "dtype: int64"
            ]
          },
          "metadata": {},
          "execution_count": 22
        }
      ]
    },
    {
      "cell_type": "code",
      "metadata": {
        "colab": {
          "base_uri": "https://localhost:8080/"
        },
        "id": "5cCHRXUtzwGF",
        "outputId": "b02963d1-84d1-4b36-c7ce-59cf2f364dec"
      },
      "source": [
        "df4.isnull().sum()"
      ],
      "execution_count": 23,
      "outputs": [
        {
          "output_type": "execute_result",
          "data": {
            "text/plain": [
              "Unnamed: 0      0\n",
              "Result          0\n",
              "Margin          0\n",
              "BR            716\n",
              "Toss            0\n",
              "Bat             0\n",
              "Opposition      0\n",
              "Ground          0\n",
              "Start Date      0\n",
              "Match_ID        0\n",
              "Country         0\n",
              "Country_ID      0\n",
              "dtype: int64"
            ]
          },
          "metadata": {},
          "execution_count": 23
        }
      ]
    },
    {
      "cell_type": "code",
      "metadata": {
        "colab": {
          "base_uri": "https://localhost:8080/"
        },
        "id": "bTgFBkoCzyFc",
        "outputId": "41fa2f0c-c54a-4a80-b15e-c7042a04c798"
      },
      "source": [
        "df4.info()"
      ],
      "execution_count": 24,
      "outputs": [
        {
          "output_type": "stream",
          "name": "stdout",
          "text": [
            "<class 'pandas.core.frame.DataFrame'>\n",
            "RangeIndex: 1322 entries, 0 to 1321\n",
            "Data columns (total 12 columns):\n",
            " #   Column      Non-Null Count  Dtype  \n",
            "---  ------      --------------  -----  \n",
            " 0   Unnamed: 0  1322 non-null   int64  \n",
            " 1   Result      1322 non-null   object \n",
            " 2   Margin      1322 non-null   object \n",
            " 3   BR          606 non-null    float64\n",
            " 4   Toss        1322 non-null   object \n",
            " 5   Bat         1322 non-null   object \n",
            " 6   Opposition  1322 non-null   object \n",
            " 7   Ground      1322 non-null   object \n",
            " 8   Start Date  1322 non-null   object \n",
            " 9   Match_ID    1322 non-null   object \n",
            " 10  Country     1322 non-null   object \n",
            " 11  Country_ID  1322 non-null   int64  \n",
            "dtypes: float64(1), int64(2), object(9)\n",
            "memory usage: 124.1+ KB\n"
          ]
        }
      ]
    },
    {
      "cell_type": "code",
      "metadata": {
        "colab": {
          "base_uri": "https://localhost:8080/",
          "height": 423
        },
        "id": "7hymvzrUz3Xf",
        "outputId": "d3d2afb8-0293-4c18-ff2a-9c33cc2ad643"
      },
      "source": [
        "pd.concat([df6, df1], axis=0)"
      ],
      "execution_count": 25,
      "outputs": [
        {
          "output_type": "execute_result",
          "data": {
            "text/html": [
              "<div>\n",
              "<style scoped>\n",
              "    .dataframe tbody tr th:only-of-type {\n",
              "        vertical-align: middle;\n",
              "    }\n",
              "\n",
              "    .dataframe tbody tr th {\n",
              "        vertical-align: top;\n",
              "    }\n",
              "\n",
              "    .dataframe thead th {\n",
              "        text-align: right;\n",
              "    }\n",
              "</style>\n",
              "<table border=\"1\" class=\"dataframe\">\n",
              "  <thead>\n",
              "    <tr style=\"text-align: right;\">\n",
              "      <th></th>\n",
              "      <th>Player</th>\n",
              "      <th>ID</th>\n",
              "      <th>Country</th>\n",
              "      <th>Unnamed: 0</th>\n",
              "      <th>Bat1</th>\n",
              "      <th>Runs</th>\n",
              "      <th>BF</th>\n",
              "      <th>SR</th>\n",
              "      <th>4s</th>\n",
              "      <th>6s</th>\n",
              "      <th>Opposition</th>\n",
              "      <th>Ground</th>\n",
              "      <th>Start Date</th>\n",
              "      <th>Match_ID</th>\n",
              "      <th>Batsman</th>\n",
              "      <th>Player_ID</th>\n",
              "    </tr>\n",
              "  </thead>\n",
              "  <tbody>\n",
              "    <tr>\n",
              "      <th>0</th>\n",
              "      <td>Gulbadin Naib (c)</td>\n",
              "      <td>352048.0</td>\n",
              "      <td>Afghanistan</td>\n",
              "      <td>NaN</td>\n",
              "      <td>NaN</td>\n",
              "      <td>NaN</td>\n",
              "      <td>NaN</td>\n",
              "      <td>NaN</td>\n",
              "      <td>NaN</td>\n",
              "      <td>NaN</td>\n",
              "      <td>NaN</td>\n",
              "      <td>NaN</td>\n",
              "      <td>NaN</td>\n",
              "      <td>NaN</td>\n",
              "      <td>NaN</td>\n",
              "      <td>NaN</td>\n",
              "    </tr>\n",
              "    <tr>\n",
              "      <th>1</th>\n",
              "      <td>Rashid Khan (vc)</td>\n",
              "      <td>793463.0</td>\n",
              "      <td>Afghanistan</td>\n",
              "      <td>NaN</td>\n",
              "      <td>NaN</td>\n",
              "      <td>NaN</td>\n",
              "      <td>NaN</td>\n",
              "      <td>NaN</td>\n",
              "      <td>NaN</td>\n",
              "      <td>NaN</td>\n",
              "      <td>NaN</td>\n",
              "      <td>NaN</td>\n",
              "      <td>NaN</td>\n",
              "      <td>NaN</td>\n",
              "      <td>NaN</td>\n",
              "      <td>NaN</td>\n",
              "    </tr>\n",
              "    <tr>\n",
              "      <th>2</th>\n",
              "      <td>Aftab Alam</td>\n",
              "      <td>440963.0</td>\n",
              "      <td>Afghanistan</td>\n",
              "      <td>NaN</td>\n",
              "      <td>NaN</td>\n",
              "      <td>NaN</td>\n",
              "      <td>NaN</td>\n",
              "      <td>NaN</td>\n",
              "      <td>NaN</td>\n",
              "      <td>NaN</td>\n",
              "      <td>NaN</td>\n",
              "      <td>NaN</td>\n",
              "      <td>NaN</td>\n",
              "      <td>NaN</td>\n",
              "      <td>NaN</td>\n",
              "      <td>NaN</td>\n",
              "    </tr>\n",
              "    <tr>\n",
              "      <th>3</th>\n",
              "      <td>Asghar Afghan</td>\n",
              "      <td>320652.0</td>\n",
              "      <td>Afghanistan</td>\n",
              "      <td>NaN</td>\n",
              "      <td>NaN</td>\n",
              "      <td>NaN</td>\n",
              "      <td>NaN</td>\n",
              "      <td>NaN</td>\n",
              "      <td>NaN</td>\n",
              "      <td>NaN</td>\n",
              "      <td>NaN</td>\n",
              "      <td>NaN</td>\n",
              "      <td>NaN</td>\n",
              "      <td>NaN</td>\n",
              "      <td>NaN</td>\n",
              "      <td>NaN</td>\n",
              "    </tr>\n",
              "    <tr>\n",
              "      <th>4</th>\n",
              "      <td>Dawlat Zadran</td>\n",
              "      <td>516561.0</td>\n",
              "      <td>Afghanistan</td>\n",
              "      <td>NaN</td>\n",
              "      <td>NaN</td>\n",
              "      <td>NaN</td>\n",
              "      <td>NaN</td>\n",
              "      <td>NaN</td>\n",
              "      <td>NaN</td>\n",
              "      <td>NaN</td>\n",
              "      <td>NaN</td>\n",
              "      <td>NaN</td>\n",
              "      <td>NaN</td>\n",
              "      <td>NaN</td>\n",
              "      <td>NaN</td>\n",
              "      <td>NaN</td>\n",
              "    </tr>\n",
              "    <tr>\n",
              "      <th>...</th>\n",
              "      <td>...</td>\n",
              "      <td>...</td>\n",
              "      <td>...</td>\n",
              "      <td>...</td>\n",
              "      <td>...</td>\n",
              "      <td>...</td>\n",
              "      <td>...</td>\n",
              "      <td>...</td>\n",
              "      <td>...</td>\n",
              "      <td>...</td>\n",
              "      <td>...</td>\n",
              "      <td>...</td>\n",
              "      <td>...</td>\n",
              "      <td>...</td>\n",
              "      <td>...</td>\n",
              "      <td>...</td>\n",
              "    </tr>\n",
              "    <tr>\n",
              "      <th>11144</th>\n",
              "      <td>NaN</td>\n",
              "      <td>NaN</td>\n",
              "      <td>NaN</td>\n",
              "      <td>11145.0</td>\n",
              "      <td>46</td>\n",
              "      <td>46</td>\n",
              "      <td>61</td>\n",
              "      <td>75.4</td>\n",
              "      <td>6</td>\n",
              "      <td>1</td>\n",
              "      <td>v Ireland</td>\n",
              "      <td>Dehradun</td>\n",
              "      <td>28-Feb-19</td>\n",
              "      <td>ODI # 4100</td>\n",
              "      <td>Gulbadin Naib</td>\n",
              "      <td>352048.0</td>\n",
              "    </tr>\n",
              "    <tr>\n",
              "      <th>11145</th>\n",
              "      <td>NaN</td>\n",
              "      <td>NaN</td>\n",
              "      <td>NaN</td>\n",
              "      <td>11146.0</td>\n",
              "      <td>3</td>\n",
              "      <td>3</td>\n",
              "      <td>6</td>\n",
              "      <td>50</td>\n",
              "      <td>0</td>\n",
              "      <td>0</td>\n",
              "      <td>v Ireland</td>\n",
              "      <td>Dehradun</td>\n",
              "      <td>02-Mar-19</td>\n",
              "      <td>ODI # 4101</td>\n",
              "      <td>Gulbadin Naib</td>\n",
              "      <td>352048.0</td>\n",
              "    </tr>\n",
              "    <tr>\n",
              "      <th>11146</th>\n",
              "      <td>NaN</td>\n",
              "      <td>NaN</td>\n",
              "      <td>NaN</td>\n",
              "      <td>11147.0</td>\n",
              "      <td>1</td>\n",
              "      <td>1</td>\n",
              "      <td>8</td>\n",
              "      <td>12.5</td>\n",
              "      <td>0</td>\n",
              "      <td>0</td>\n",
              "      <td>v Ireland</td>\n",
              "      <td>Dehradun</td>\n",
              "      <td>08-Mar-19</td>\n",
              "      <td>ODI # 4108</td>\n",
              "      <td>Gulbadin Naib</td>\n",
              "      <td>352048.0</td>\n",
              "    </tr>\n",
              "    <tr>\n",
              "      <th>11147</th>\n",
              "      <td>NaN</td>\n",
              "      <td>NaN</td>\n",
              "      <td>NaN</td>\n",
              "      <td>11148.0</td>\n",
              "      <td>DNB</td>\n",
              "      <td>-</td>\n",
              "      <td>-</td>\n",
              "      <td>-</td>\n",
              "      <td>-</td>\n",
              "      <td>-</td>\n",
              "      <td>v Scotland</td>\n",
              "      <td>Edinburgh</td>\n",
              "      <td>10-May-19</td>\n",
              "      <td>ODI # 4131</td>\n",
              "      <td>Gulbadin Naib</td>\n",
              "      <td>352048.0</td>\n",
              "    </tr>\n",
              "    <tr>\n",
              "      <th>11148</th>\n",
              "      <td>NaN</td>\n",
              "      <td>NaN</td>\n",
              "      <td>NaN</td>\n",
              "      <td>11149.0</td>\n",
              "      <td>TDNB</td>\n",
              "      <td>-</td>\n",
              "      <td>-</td>\n",
              "      <td>-</td>\n",
              "      <td>-</td>\n",
              "      <td>-</td>\n",
              "      <td>v Ireland</td>\n",
              "      <td>Belfast</td>\n",
              "      <td>19-May-19</td>\n",
              "      <td>ODI # 4139</td>\n",
              "      <td>Gulbadin Naib</td>\n",
              "      <td>352048.0</td>\n",
              "    </tr>\n",
              "  </tbody>\n",
              "</table>\n",
              "<p>11301 rows × 16 columns</p>\n",
              "</div>"
            ],
            "text/plain": [
              "                  Player        ID  ...        Batsman  Player_ID\n",
              "0      Gulbadin Naib (c)  352048.0  ...            NaN        NaN\n",
              "1       Rashid Khan (vc)  793463.0  ...            NaN        NaN\n",
              "2             Aftab Alam  440963.0  ...            NaN        NaN\n",
              "3          Asghar Afghan  320652.0  ...            NaN        NaN\n",
              "4          Dawlat Zadran  516561.0  ...            NaN        NaN\n",
              "...                  ...       ...  ...            ...        ...\n",
              "11144                NaN       NaN  ...  Gulbadin Naib   352048.0\n",
              "11145                NaN       NaN  ...  Gulbadin Naib   352048.0\n",
              "11146                NaN       NaN  ...  Gulbadin Naib   352048.0\n",
              "11147                NaN       NaN  ...  Gulbadin Naib   352048.0\n",
              "11148                NaN       NaN  ...  Gulbadin Naib   352048.0\n",
              "\n",
              "[11301 rows x 16 columns]"
            ]
          },
          "metadata": {},
          "execution_count": 25
        }
      ]
    },
    {
      "cell_type": "markdown",
      "metadata": {
        "id": "4Rk4WIW318l6"
      },
      "source": [
        "Demonstrate the data handling concept by combining the columns from\n",
        "any two of the given files."
      ]
    },
    {
      "cell_type": "code",
      "metadata": {
        "colab": {
          "base_uri": "https://localhost:8080/",
          "height": 676
        },
        "id": "obvCd5_21fMT",
        "outputId": "61474d72-4d3a-4ea9-c1f6-f8195fa4f830"
      },
      "source": [
        "merged_inner = pd.merge(left=df6, right=df1, left_on='ID', right_on='Player_ID')\n",
        "merged_inner.head(20)"
      ],
      "execution_count": 28,
      "outputs": [
        {
          "output_type": "execute_result",
          "data": {
            "text/html": [
              "<div>\n",
              "<style scoped>\n",
              "    .dataframe tbody tr th:only-of-type {\n",
              "        vertical-align: middle;\n",
              "    }\n",
              "\n",
              "    .dataframe tbody tr th {\n",
              "        vertical-align: top;\n",
              "    }\n",
              "\n",
              "    .dataframe thead th {\n",
              "        text-align: right;\n",
              "    }\n",
              "</style>\n",
              "<table border=\"1\" class=\"dataframe\">\n",
              "  <thead>\n",
              "    <tr style=\"text-align: right;\">\n",
              "      <th></th>\n",
              "      <th>Player</th>\n",
              "      <th>ID</th>\n",
              "      <th>Country</th>\n",
              "      <th>Unnamed: 0</th>\n",
              "      <th>Bat1</th>\n",
              "      <th>Runs</th>\n",
              "      <th>BF</th>\n",
              "      <th>SR</th>\n",
              "      <th>4s</th>\n",
              "      <th>6s</th>\n",
              "      <th>Opposition</th>\n",
              "      <th>Ground</th>\n",
              "      <th>Start Date</th>\n",
              "      <th>Match_ID</th>\n",
              "      <th>Batsman</th>\n",
              "      <th>Player_ID</th>\n",
              "    </tr>\n",
              "  </thead>\n",
              "  <tbody>\n",
              "    <tr>\n",
              "      <th>0</th>\n",
              "      <td>Gulbadin Naib (c)</td>\n",
              "      <td>352048</td>\n",
              "      <td>Afghanistan</td>\n",
              "      <td>11096</td>\n",
              "      <td>0</td>\n",
              "      <td>0</td>\n",
              "      <td>2</td>\n",
              "      <td>0</td>\n",
              "      <td>0</td>\n",
              "      <td>0</td>\n",
              "      <td>v Canada</td>\n",
              "      <td>Toronto</td>\n",
              "      <td>09-Aug-11</td>\n",
              "      <td>ODI # 3174</td>\n",
              "      <td>Gulbadin Naib</td>\n",
              "      <td>352048</td>\n",
              "    </tr>\n",
              "    <tr>\n",
              "      <th>1</th>\n",
              "      <td>Gulbadin Naib (c)</td>\n",
              "      <td>352048</td>\n",
              "      <td>Afghanistan</td>\n",
              "      <td>11097</td>\n",
              "      <td>7</td>\n",
              "      <td>7</td>\n",
              "      <td>23</td>\n",
              "      <td>30.43</td>\n",
              "      <td>1</td>\n",
              "      <td>0</td>\n",
              "      <td>v Pakistan</td>\n",
              "      <td>Sharjah</td>\n",
              "      <td>10-Feb-12</td>\n",
              "      <td>ODI # 3236</td>\n",
              "      <td>Gulbadin Naib</td>\n",
              "      <td>352048</td>\n",
              "    </tr>\n",
              "    <tr>\n",
              "      <th>2</th>\n",
              "      <td>Gulbadin Naib (c)</td>\n",
              "      <td>352048</td>\n",
              "      <td>Afghanistan</td>\n",
              "      <td>11098</td>\n",
              "      <td>1</td>\n",
              "      <td>1</td>\n",
              "      <td>5</td>\n",
              "      <td>20</td>\n",
              "      <td>0</td>\n",
              "      <td>0</td>\n",
              "      <td>v Netherlands</td>\n",
              "      <td>Sharjah</td>\n",
              "      <td>29-Mar-12</td>\n",
              "      <td>ODI # 3270</td>\n",
              "      <td>Gulbadin Naib</td>\n",
              "      <td>352048</td>\n",
              "    </tr>\n",
              "    <tr>\n",
              "      <th>3</th>\n",
              "      <td>Gulbadin Naib (c)</td>\n",
              "      <td>352048</td>\n",
              "      <td>Afghanistan</td>\n",
              "      <td>11099</td>\n",
              "      <td>DNB</td>\n",
              "      <td>-</td>\n",
              "      <td>-</td>\n",
              "      <td>-</td>\n",
              "      <td>-</td>\n",
              "      <td>-</td>\n",
              "      <td>v Netherlands</td>\n",
              "      <td>Sharjah</td>\n",
              "      <td>31-Mar-12</td>\n",
              "      <td>ODI # 3271</td>\n",
              "      <td>Gulbadin Naib</td>\n",
              "      <td>352048</td>\n",
              "    </tr>\n",
              "    <tr>\n",
              "      <th>4</th>\n",
              "      <td>Gulbadin Naib (c)</td>\n",
              "      <td>352048</td>\n",
              "      <td>Afghanistan</td>\n",
              "      <td>11100</td>\n",
              "      <td>19</td>\n",
              "      <td>19</td>\n",
              "      <td>23</td>\n",
              "      <td>82.6</td>\n",
              "      <td>0</td>\n",
              "      <td>2</td>\n",
              "      <td>v Ireland</td>\n",
              "      <td>Dublin</td>\n",
              "      <td>05-Jul-12</td>\n",
              "      <td>ODI # 3282</td>\n",
              "      <td>Gulbadin Naib</td>\n",
              "      <td>352048</td>\n",
              "    </tr>\n",
              "    <tr>\n",
              "      <th>5</th>\n",
              "      <td>Gulbadin Naib (c)</td>\n",
              "      <td>352048</td>\n",
              "      <td>Afghanistan</td>\n",
              "      <td>11101</td>\n",
              "      <td>22</td>\n",
              "      <td>22</td>\n",
              "      <td>17</td>\n",
              "      <td>129.41</td>\n",
              "      <td>1</td>\n",
              "      <td>3</td>\n",
              "      <td>v Australia</td>\n",
              "      <td>Sharjah</td>\n",
              "      <td>25-Aug-12</td>\n",
              "      <td>ODI # 3297</td>\n",
              "      <td>Gulbadin Naib</td>\n",
              "      <td>352048</td>\n",
              "    </tr>\n",
              "    <tr>\n",
              "      <th>6</th>\n",
              "      <td>Gulbadin Naib (c)</td>\n",
              "      <td>352048</td>\n",
              "      <td>Afghanistan</td>\n",
              "      <td>11102</td>\n",
              "      <td>DNB</td>\n",
              "      <td>-</td>\n",
              "      <td>-</td>\n",
              "      <td>-</td>\n",
              "      <td>-</td>\n",
              "      <td>-</td>\n",
              "      <td>v Scotland</td>\n",
              "      <td>Sharjah</td>\n",
              "      <td>06-Mar-13</td>\n",
              "      <td>ODI # 3341</td>\n",
              "      <td>Gulbadin Naib</td>\n",
              "      <td>352048</td>\n",
              "    </tr>\n",
              "    <tr>\n",
              "      <th>7</th>\n",
              "      <td>Gulbadin Naib (c)</td>\n",
              "      <td>352048</td>\n",
              "      <td>Afghanistan</td>\n",
              "      <td>11103</td>\n",
              "      <td>21*</td>\n",
              "      <td>21</td>\n",
              "      <td>15</td>\n",
              "      <td>140</td>\n",
              "      <td>4</td>\n",
              "      <td>0</td>\n",
              "      <td>v Scotland</td>\n",
              "      <td>Sharjah</td>\n",
              "      <td>08-Mar-13</td>\n",
              "      <td>ODI # 3342</td>\n",
              "      <td>Gulbadin Naib</td>\n",
              "      <td>352048</td>\n",
              "    </tr>\n",
              "    <tr>\n",
              "      <th>8</th>\n",
              "      <td>Gulbadin Naib (c)</td>\n",
              "      <td>352048</td>\n",
              "      <td>Afghanistan</td>\n",
              "      <td>11104</td>\n",
              "      <td>23*</td>\n",
              "      <td>23</td>\n",
              "      <td>18</td>\n",
              "      <td>127.77</td>\n",
              "      <td>2</td>\n",
              "      <td>0</td>\n",
              "      <td>v Zimbabwe</td>\n",
              "      <td>Bulawayo</td>\n",
              "      <td>20-Jul-14</td>\n",
              "      <td>ODI # 3504</td>\n",
              "      <td>Gulbadin Naib</td>\n",
              "      <td>352048</td>\n",
              "    </tr>\n",
              "    <tr>\n",
              "      <th>9</th>\n",
              "      <td>Gulbadin Naib (c)</td>\n",
              "      <td>352048</td>\n",
              "      <td>Afghanistan</td>\n",
              "      <td>11105</td>\n",
              "      <td>31</td>\n",
              "      <td>31</td>\n",
              "      <td>41</td>\n",
              "      <td>75.6</td>\n",
              "      <td>3</td>\n",
              "      <td>0</td>\n",
              "      <td>v Zimbabwe</td>\n",
              "      <td>Bulawayo</td>\n",
              "      <td>24-Jul-14</td>\n",
              "      <td>ODI # 3506</td>\n",
              "      <td>Gulbadin Naib</td>\n",
              "      <td>352048</td>\n",
              "    </tr>\n",
              "    <tr>\n",
              "      <th>10</th>\n",
              "      <td>Gulbadin Naib (c)</td>\n",
              "      <td>352048</td>\n",
              "      <td>Afghanistan</td>\n",
              "      <td>11106</td>\n",
              "      <td>8</td>\n",
              "      <td>8</td>\n",
              "      <td>6</td>\n",
              "      <td>133.33</td>\n",
              "      <td>0</td>\n",
              "      <td>1</td>\n",
              "      <td>v U.A.E.</td>\n",
              "      <td>ICCA Dubai</td>\n",
              "      <td>28-Nov-14</td>\n",
              "      <td>ODI # 3556</td>\n",
              "      <td>Gulbadin Naib</td>\n",
              "      <td>352048</td>\n",
              "    </tr>\n",
              "    <tr>\n",
              "      <th>11</th>\n",
              "      <td>Gulbadin Naib (c)</td>\n",
              "      <td>352048</td>\n",
              "      <td>Afghanistan</td>\n",
              "      <td>11107</td>\n",
              "      <td>20</td>\n",
              "      <td>20</td>\n",
              "      <td>14</td>\n",
              "      <td>142.85</td>\n",
              "      <td>1</td>\n",
              "      <td>1</td>\n",
              "      <td>v U.A.E.</td>\n",
              "      <td>ICCA Dubai</td>\n",
              "      <td>30-Nov-14</td>\n",
              "      <td>ODI # 3558</td>\n",
              "      <td>Gulbadin Naib</td>\n",
              "      <td>352048</td>\n",
              "    </tr>\n",
              "    <tr>\n",
              "      <th>12</th>\n",
              "      <td>Gulbadin Naib (c)</td>\n",
              "      <td>352048</td>\n",
              "      <td>Afghanistan</td>\n",
              "      <td>11108</td>\n",
              "      <td>DNB</td>\n",
              "      <td>-</td>\n",
              "      <td>-</td>\n",
              "      <td>-</td>\n",
              "      <td>-</td>\n",
              "      <td>-</td>\n",
              "      <td>v Scotland</td>\n",
              "      <td>ICCA Dubai</td>\n",
              "      <td>08-Jan-15</td>\n",
              "      <td>ODI # 3572</td>\n",
              "      <td>Gulbadin Naib</td>\n",
              "      <td>352048</td>\n",
              "    </tr>\n",
              "    <tr>\n",
              "      <th>13</th>\n",
              "      <td>Gulbadin Naib (c)</td>\n",
              "      <td>352048</td>\n",
              "      <td>Afghanistan</td>\n",
              "      <td>11109</td>\n",
              "      <td>0</td>\n",
              "      <td>0</td>\n",
              "      <td>3</td>\n",
              "      <td>0</td>\n",
              "      <td>0</td>\n",
              "      <td>0</td>\n",
              "      <td>v Scotland</td>\n",
              "      <td>Abu Dhabi</td>\n",
              "      <td>14-Jan-15</td>\n",
              "      <td>ODI # 3576</td>\n",
              "      <td>Gulbadin Naib</td>\n",
              "      <td>352048</td>\n",
              "    </tr>\n",
              "    <tr>\n",
              "      <th>14</th>\n",
              "      <td>Gulbadin Naib (c)</td>\n",
              "      <td>352048</td>\n",
              "      <td>Afghanistan</td>\n",
              "      <td>11110</td>\n",
              "      <td>0</td>\n",
              "      <td>0</td>\n",
              "      <td>1</td>\n",
              "      <td>0</td>\n",
              "      <td>0</td>\n",
              "      <td>0</td>\n",
              "      <td>v Scotland</td>\n",
              "      <td>Dunedin</td>\n",
              "      <td>26-Feb-15</td>\n",
              "      <td>ODI # 3614</td>\n",
              "      <td>Gulbadin Naib</td>\n",
              "      <td>352048</td>\n",
              "    </tr>\n",
              "    <tr>\n",
              "      <th>15</th>\n",
              "      <td>Gulbadin Naib (c)</td>\n",
              "      <td>352048</td>\n",
              "      <td>Afghanistan</td>\n",
              "      <td>11111</td>\n",
              "      <td>82*</td>\n",
              "      <td>82</td>\n",
              "      <td>68</td>\n",
              "      <td>120.58</td>\n",
              "      <td>3</td>\n",
              "      <td>6</td>\n",
              "      <td>v Zimbabwe</td>\n",
              "      <td>Sharjah</td>\n",
              "      <td>06-Jan-16</td>\n",
              "      <td>ODI # 3722</td>\n",
              "      <td>Gulbadin Naib</td>\n",
              "      <td>352048</td>\n",
              "    </tr>\n",
              "    <tr>\n",
              "      <th>16</th>\n",
              "      <td>Gulbadin Naib (c)</td>\n",
              "      <td>352048</td>\n",
              "      <td>Afghanistan</td>\n",
              "      <td>11112</td>\n",
              "      <td>2</td>\n",
              "      <td>2</td>\n",
              "      <td>10</td>\n",
              "      <td>20</td>\n",
              "      <td>0</td>\n",
              "      <td>0</td>\n",
              "      <td>v Ireland</td>\n",
              "      <td>Belfast</td>\n",
              "      <td>19-Jul-16</td>\n",
              "      <td>ODI # 3764</td>\n",
              "      <td>Gulbadin Naib</td>\n",
              "      <td>352048</td>\n",
              "    </tr>\n",
              "    <tr>\n",
              "      <th>17</th>\n",
              "      <td>Gulbadin Naib (c)</td>\n",
              "      <td>352048</td>\n",
              "      <td>Afghanistan</td>\n",
              "      <td>11113</td>\n",
              "      <td>1</td>\n",
              "      <td>1</td>\n",
              "      <td>3</td>\n",
              "      <td>33.33</td>\n",
              "      <td>0</td>\n",
              "      <td>0</td>\n",
              "      <td>v Zimbabwe</td>\n",
              "      <td>Harare</td>\n",
              "      <td>16-Feb-17</td>\n",
              "      <td>ODI # 3835</td>\n",
              "      <td>Gulbadin Naib</td>\n",
              "      <td>352048</td>\n",
              "    </tr>\n",
              "    <tr>\n",
              "      <th>18</th>\n",
              "      <td>Gulbadin Naib (c)</td>\n",
              "      <td>352048</td>\n",
              "      <td>Afghanistan</td>\n",
              "      <td>11114</td>\n",
              "      <td>5</td>\n",
              "      <td>5</td>\n",
              "      <td>10</td>\n",
              "      <td>50</td>\n",
              "      <td>0</td>\n",
              "      <td>0</td>\n",
              "      <td>v Zimbabwe</td>\n",
              "      <td>Harare</td>\n",
              "      <td>19-Feb-17</td>\n",
              "      <td>ODI # 3837</td>\n",
              "      <td>Gulbadin Naib</td>\n",
              "      <td>352048</td>\n",
              "    </tr>\n",
              "    <tr>\n",
              "      <th>19</th>\n",
              "      <td>Gulbadin Naib (c)</td>\n",
              "      <td>352048</td>\n",
              "      <td>Afghanistan</td>\n",
              "      <td>11115</td>\n",
              "      <td>16</td>\n",
              "      <td>16</td>\n",
              "      <td>32</td>\n",
              "      <td>50</td>\n",
              "      <td>2</td>\n",
              "      <td>0</td>\n",
              "      <td>v Zimbabwe</td>\n",
              "      <td>Harare</td>\n",
              "      <td>21-Feb-17</td>\n",
              "      <td>ODI # 3838</td>\n",
              "      <td>Gulbadin Naib</td>\n",
              "      <td>352048</td>\n",
              "    </tr>\n",
              "  </tbody>\n",
              "</table>\n",
              "</div>"
            ],
            "text/plain": [
              "               Player      ID  ...        Batsman  Player_ID\n",
              "0   Gulbadin Naib (c)  352048  ...  Gulbadin Naib     352048\n",
              "1   Gulbadin Naib (c)  352048  ...  Gulbadin Naib     352048\n",
              "2   Gulbadin Naib (c)  352048  ...  Gulbadin Naib     352048\n",
              "3   Gulbadin Naib (c)  352048  ...  Gulbadin Naib     352048\n",
              "4   Gulbadin Naib (c)  352048  ...  Gulbadin Naib     352048\n",
              "5   Gulbadin Naib (c)  352048  ...  Gulbadin Naib     352048\n",
              "6   Gulbadin Naib (c)  352048  ...  Gulbadin Naib     352048\n",
              "7   Gulbadin Naib (c)  352048  ...  Gulbadin Naib     352048\n",
              "8   Gulbadin Naib (c)  352048  ...  Gulbadin Naib     352048\n",
              "9   Gulbadin Naib (c)  352048  ...  Gulbadin Naib     352048\n",
              "10  Gulbadin Naib (c)  352048  ...  Gulbadin Naib     352048\n",
              "11  Gulbadin Naib (c)  352048  ...  Gulbadin Naib     352048\n",
              "12  Gulbadin Naib (c)  352048  ...  Gulbadin Naib     352048\n",
              "13  Gulbadin Naib (c)  352048  ...  Gulbadin Naib     352048\n",
              "14  Gulbadin Naib (c)  352048  ...  Gulbadin Naib     352048\n",
              "15  Gulbadin Naib (c)  352048  ...  Gulbadin Naib     352048\n",
              "16  Gulbadin Naib (c)  352048  ...  Gulbadin Naib     352048\n",
              "17  Gulbadin Naib (c)  352048  ...  Gulbadin Naib     352048\n",
              "18  Gulbadin Naib (c)  352048  ...  Gulbadin Naib     352048\n",
              "19  Gulbadin Naib (c)  352048  ...  Gulbadin Naib     352048\n",
              "\n",
              "[20 rows x 16 columns]"
            ]
          },
          "metadata": {},
          "execution_count": 28
        }
      ]
    },
    {
      "cell_type": "code",
      "metadata": {
        "colab": {
          "base_uri": "https://localhost:8080/"
        },
        "id": "hug3xfdQ13zC",
        "outputId": "2ef0c9e4-fa28-4fd7-9cd3-da5c6ebdf9b0"
      },
      "source": [
        "df4.isnull().sum()"
      ],
      "execution_count": 30,
      "outputs": [
        {
          "output_type": "execute_result",
          "data": {
            "text/plain": [
              "Unnamed: 0      0\n",
              "Result          0\n",
              "Margin          0\n",
              "BR            716\n",
              "Toss            0\n",
              "Bat             0\n",
              "Opposition      0\n",
              "Ground          0\n",
              "Start Date      0\n",
              "Match_ID        0\n",
              "Country         0\n",
              "Country_ID      0\n",
              "dtype: int64"
            ]
          },
          "metadata": {},
          "execution_count": 30
        }
      ]
    },
    {
      "cell_type": "markdown",
      "metadata": {
        "id": "Rrevju4n3SEo"
      },
      "source": [
        "Droppping Rows having null values ( Though it will result in loss of data it is just for demonstration purpose)"
      ]
    },
    {
      "cell_type": "code",
      "metadata": {
        "id": "Up8ar67M3B8R"
      },
      "source": [
        "df4_droprows = df4.dropna(axis=0)"
      ],
      "execution_count": 31,
      "outputs": []
    },
    {
      "cell_type": "code",
      "metadata": {
        "colab": {
          "base_uri": "https://localhost:8080/"
        },
        "id": "cqZ_a33g3gOD",
        "outputId": "dc546fc6-6138-4743-9d95-9d47ea21c7d2"
      },
      "source": [
        "df4_droprows.isnull().sum()"
      ],
      "execution_count": 34,
      "outputs": [
        {
          "output_type": "execute_result",
          "data": {
            "text/plain": [
              "Unnamed: 0    0\n",
              "Result        0\n",
              "Margin        0\n",
              "BR            0\n",
              "Toss          0\n",
              "Bat           0\n",
              "Opposition    0\n",
              "Ground        0\n",
              "Start Date    0\n",
              "Match_ID      0\n",
              "Country       0\n",
              "Country_ID    0\n",
              "dtype: int64"
            ]
          },
          "metadata": {},
          "execution_count": 34
        }
      ]
    },
    {
      "cell_type": "code",
      "metadata": {
        "colab": {
          "base_uri": "https://localhost:8080/"
        },
        "id": "K06Ivrhd3jMH",
        "outputId": "ea1b42f0-c64d-4991-e501-8f58dbeab3bd"
      },
      "source": [
        "df4.BR.value_counts().mean()"
      ],
      "execution_count": 36,
      "outputs": [
        {
          "output_type": "execute_result",
          "data": {
            "text/plain": [
              "4.328571428571428"
            ]
          },
          "metadata": {},
          "execution_count": 36
        }
      ]
    },
    {
      "cell_type": "code",
      "metadata": {
        "colab": {
          "base_uri": "https://localhost:8080/"
        },
        "id": "YpuB99nl4JUo",
        "outputId": "1ac2bdfb-e186-4e16-8fa9-e9de108d326b"
      },
      "source": [
        "df4.BR.head()"
      ],
      "execution_count": 39,
      "outputs": [
        {
          "output_type": "execute_result",
          "data": {
            "text/plain": [
              "0   NaN\n",
              "1   NaN\n",
              "2   NaN\n",
              "3   NaN\n",
              "4   NaN\n",
              "Name: BR, dtype: float64"
            ]
          },
          "metadata": {},
          "execution_count": 39
        }
      ]
    },
    {
      "cell_type": "markdown",
      "metadata": {
        "id": "rDbbSmrw4WkQ"
      },
      "source": [
        "Imputing Median Values in the place of Null Values in BR column"
      ]
    },
    {
      "cell_type": "code",
      "metadata": {
        "id": "tbj5tBpV3q6k"
      },
      "source": [
        "df4_imputedmedian = df4.fillna(df4.BR.median())"
      ],
      "execution_count": 41,
      "outputs": []
    },
    {
      "cell_type": "code",
      "metadata": {
        "colab": {
          "base_uri": "https://localhost:8080/",
          "height": 206
        },
        "id": "snlvDYc94Dz2",
        "outputId": "9b93294d-be59-456f-dbbb-2a7d097b4b32"
      },
      "source": [
        "df4_imputedmedian.head()"
      ],
      "execution_count": 42,
      "outputs": [
        {
          "output_type": "execute_result",
          "data": {
            "text/html": [
              "<div>\n",
              "<style scoped>\n",
              "    .dataframe tbody tr th:only-of-type {\n",
              "        vertical-align: middle;\n",
              "    }\n",
              "\n",
              "    .dataframe tbody tr th {\n",
              "        vertical-align: top;\n",
              "    }\n",
              "\n",
              "    .dataframe thead th {\n",
              "        text-align: right;\n",
              "    }\n",
              "</style>\n",
              "<table border=\"1\" class=\"dataframe\">\n",
              "  <thead>\n",
              "    <tr style=\"text-align: right;\">\n",
              "      <th></th>\n",
              "      <th>Unnamed: 0</th>\n",
              "      <th>Result</th>\n",
              "      <th>Margin</th>\n",
              "      <th>BR</th>\n",
              "      <th>Toss</th>\n",
              "      <th>Bat</th>\n",
              "      <th>Opposition</th>\n",
              "      <th>Ground</th>\n",
              "      <th>Start Date</th>\n",
              "      <th>Match_ID</th>\n",
              "      <th>Country</th>\n",
              "      <th>Country_ID</th>\n",
              "    </tr>\n",
              "  </thead>\n",
              "  <tbody>\n",
              "    <tr>\n",
              "      <th>0</th>\n",
              "      <td>418</td>\n",
              "      <td>won</td>\n",
              "      <td>85 runs</td>\n",
              "      <td>30.5</td>\n",
              "      <td>lost</td>\n",
              "      <td>1st</td>\n",
              "      <td>v India</td>\n",
              "      <td>Kolkata</td>\n",
              "      <td>3 Jan 2013</td>\n",
              "      <td>ODI # 3315</td>\n",
              "      <td>Pakistan</td>\n",
              "      <td>7</td>\n",
              "    </tr>\n",
              "    <tr>\n",
              "      <th>1</th>\n",
              "      <td>692</td>\n",
              "      <td>lost</td>\n",
              "      <td>85 runs</td>\n",
              "      <td>30.5</td>\n",
              "      <td>won</td>\n",
              "      <td>2nd</td>\n",
              "      <td>v Pakistan</td>\n",
              "      <td>Kolkata</td>\n",
              "      <td>3 Jan 2013</td>\n",
              "      <td>ODI # 3315</td>\n",
              "      <td>India</td>\n",
              "      <td>6</td>\n",
              "    </tr>\n",
              "    <tr>\n",
              "      <th>2</th>\n",
              "      <td>419</td>\n",
              "      <td>lost</td>\n",
              "      <td>10 runs</td>\n",
              "      <td>30.5</td>\n",
              "      <td>lost</td>\n",
              "      <td>2nd</td>\n",
              "      <td>v India</td>\n",
              "      <td>Delhi</td>\n",
              "      <td>6 Jan 2013</td>\n",
              "      <td>ODI # 3316</td>\n",
              "      <td>Pakistan</td>\n",
              "      <td>7</td>\n",
              "    </tr>\n",
              "    <tr>\n",
              "      <th>3</th>\n",
              "      <td>693</td>\n",
              "      <td>won</td>\n",
              "      <td>10 runs</td>\n",
              "      <td>30.5</td>\n",
              "      <td>won</td>\n",
              "      <td>1st</td>\n",
              "      <td>v Pakistan</td>\n",
              "      <td>Delhi</td>\n",
              "      <td>6 Jan 2013</td>\n",
              "      <td>ODI # 3316</td>\n",
              "      <td>India</td>\n",
              "      <td>6</td>\n",
              "    </tr>\n",
              "    <tr>\n",
              "      <th>4</th>\n",
              "      <td>121</td>\n",
              "      <td>lost</td>\n",
              "      <td>107 runs</td>\n",
              "      <td>30.5</td>\n",
              "      <td>lost</td>\n",
              "      <td>2nd</td>\n",
              "      <td>v Australia</td>\n",
              "      <td>Melbourne</td>\n",
              "      <td>11 Jan 2013</td>\n",
              "      <td>ODI # 3317</td>\n",
              "      <td>SriLanka</td>\n",
              "      <td>8</td>\n",
              "    </tr>\n",
              "  </tbody>\n",
              "</table>\n",
              "</div>"
            ],
            "text/plain": [
              "   Unnamed: 0 Result    Margin  ...    Match_ID   Country Country_ID\n",
              "0         418    won   85 runs  ...  ODI # 3315  Pakistan          7\n",
              "1         692   lost   85 runs  ...  ODI # 3315     India          6\n",
              "2         419   lost   10 runs  ...  ODI # 3316  Pakistan          7\n",
              "3         693    won   10 runs  ...  ODI # 3316     India          6\n",
              "4         121   lost  107 runs  ...  ODI # 3317  SriLanka          8\n",
              "\n",
              "[5 rows x 12 columns]"
            ]
          },
          "metadata": {},
          "execution_count": 42
        }
      ]
    },
    {
      "cell_type": "code",
      "metadata": {
        "colab": {
          "base_uri": "https://localhost:8080/"
        },
        "id": "EnEJ4hhs4-1B",
        "outputId": "6fb4350d-f8ff-44cd-c251-60731aba1689"
      },
      "source": [
        "df3.columns"
      ],
      "execution_count": 43,
      "outputs": [
        {
          "output_type": "execute_result",
          "data": {
            "text/plain": [
              "Index(['Ground', 'Span', 'Mat', 'Won', 'Tied', 'NR', 'Runs', 'Wkts', 'Balls',\n",
              "       'Ave', 'RPO'],\n",
              "      dtype='object')"
            ]
          },
          "metadata": {},
          "execution_count": 43
        }
      ]
    },
    {
      "cell_type": "markdown",
      "metadata": {
        "id": "KwAAjw3y5Pfi"
      },
      "source": [
        "Creating a New column in the Grounds database where we can know how many runs are scored per wicket "
      ]
    },
    {
      "cell_type": "code",
      "metadata": {
        "id": "H3UGWV3Q4dZM"
      },
      "source": [
        "df3['Runs Per Wicket'] = round(df3['Runs']/df3['Wkts'],2)"
      ],
      "execution_count": 48,
      "outputs": []
    },
    {
      "cell_type": "code",
      "metadata": {
        "colab": {
          "base_uri": "https://localhost:8080/",
          "height": 206
        },
        "id": "7HzI1opN5Fve",
        "outputId": "bf0a0472-2224-4278-b845-2f8d39761b03"
      },
      "source": [
        "df3.head()"
      ],
      "execution_count": 49,
      "outputs": [
        {
          "output_type": "execute_result",
          "data": {
            "text/html": [
              "<div>\n",
              "<style scoped>\n",
              "    .dataframe tbody tr th:only-of-type {\n",
              "        vertical-align: middle;\n",
              "    }\n",
              "\n",
              "    .dataframe tbody tr th {\n",
              "        vertical-align: top;\n",
              "    }\n",
              "\n",
              "    .dataframe thead th {\n",
              "        text-align: right;\n",
              "    }\n",
              "</style>\n",
              "<table border=\"1\" class=\"dataframe\">\n",
              "  <thead>\n",
              "    <tr style=\"text-align: right;\">\n",
              "      <th></th>\n",
              "      <th>Ground</th>\n",
              "      <th>Span</th>\n",
              "      <th>Mat</th>\n",
              "      <th>Won</th>\n",
              "      <th>Tied</th>\n",
              "      <th>NR</th>\n",
              "      <th>Runs</th>\n",
              "      <th>Wkts</th>\n",
              "      <th>Balls</th>\n",
              "      <th>Ave</th>\n",
              "      <th>RPO</th>\n",
              "      <th>Runs Per Wicket</th>\n",
              "    </tr>\n",
              "  </thead>\n",
              "  <tbody>\n",
              "    <tr>\n",
              "      <th>0</th>\n",
              "      <td>Eden Gardens, Kolkata - India</td>\n",
              "      <td>2013-2017</td>\n",
              "      <td>4</td>\n",
              "      <td>4</td>\n",
              "      <td>0</td>\n",
              "      <td>0</td>\n",
              "      <td>2161</td>\n",
              "      <td>72</td>\n",
              "      <td>2297</td>\n",
              "      <td>30.01</td>\n",
              "      <td>5.64</td>\n",
              "      <td>30.01</td>\n",
              "    </tr>\n",
              "    <tr>\n",
              "      <th>1</th>\n",
              "      <td>Feroz Shah Kotla, Delhi - India</td>\n",
              "      <td>2013-2019</td>\n",
              "      <td>4</td>\n",
              "      <td>4</td>\n",
              "      <td>0</td>\n",
              "      <td>0</td>\n",
              "      <td>1789</td>\n",
              "      <td>75</td>\n",
              "      <td>2331</td>\n",
              "      <td>23.85</td>\n",
              "      <td>4.60</td>\n",
              "      <td>23.85</td>\n",
              "    </tr>\n",
              "    <tr>\n",
              "      <th>2</th>\n",
              "      <td>Melbourne Cricket Ground - Australia</td>\n",
              "      <td>2013-2019</td>\n",
              "      <td>15</td>\n",
              "      <td>15</td>\n",
              "      <td>0</td>\n",
              "      <td>0</td>\n",
              "      <td>7656</td>\n",
              "      <td>217</td>\n",
              "      <td>8482</td>\n",
              "      <td>35.28</td>\n",
              "      <td>5.41</td>\n",
              "      <td>35.28</td>\n",
              "    </tr>\n",
              "    <tr>\n",
              "      <th>3</th>\n",
              "      <td>Saurashtra Cricket Association Stadium, Rajkot...</td>\n",
              "      <td>2013-2015</td>\n",
              "      <td>2</td>\n",
              "      <td>2</td>\n",
              "      <td>0</td>\n",
              "      <td>0</td>\n",
              "      <td>1163</td>\n",
              "      <td>26</td>\n",
              "      <td>1200</td>\n",
              "      <td>44.73</td>\n",
              "      <td>5.81</td>\n",
              "      <td>44.73</td>\n",
              "    </tr>\n",
              "    <tr>\n",
              "      <th>4</th>\n",
              "      <td>Adelaide Oval - Australia</td>\n",
              "      <td>2013-2019</td>\n",
              "      <td>10</td>\n",
              "      <td>10</td>\n",
              "      <td>0</td>\n",
              "      <td>0</td>\n",
              "      <td>4863</td>\n",
              "      <td>157</td>\n",
              "      <td>5645</td>\n",
              "      <td>30.97</td>\n",
              "      <td>5.16</td>\n",
              "      <td>30.97</td>\n",
              "    </tr>\n",
              "  </tbody>\n",
              "</table>\n",
              "</div>"
            ],
            "text/plain": [
              "                                              Ground  ... Runs Per Wicket\n",
              "0                      Eden Gardens, Kolkata - India  ...           30.01\n",
              "1                    Feroz Shah Kotla, Delhi - India  ...           23.85\n",
              "2               Melbourne Cricket Ground - Australia  ...           35.28\n",
              "3  Saurashtra Cricket Association Stadium, Rajkot...  ...           44.73\n",
              "4                          Adelaide Oval - Australia  ...           30.97\n",
              "\n",
              "[5 rows x 12 columns]"
            ]
          },
          "metadata": {},
          "execution_count": 49
        }
      ]
    },
    {
      "cell_type": "markdown",
      "metadata": {
        "id": "O3peDinb54__"
      },
      "source": [
        "Dropping columns from different tables in the dataset"
      ]
    },
    {
      "cell_type": "code",
      "metadata": {
        "id": "nK-xIFNp5Koz"
      },
      "source": [
        "df3 = df3.drop(columns='NR',axis=1)"
      ],
      "execution_count": null,
      "outputs": []
    },
    {
      "cell_type": "code",
      "metadata": {
        "colab": {
          "base_uri": "https://localhost:8080/"
        },
        "id": "76amcisC6A3d",
        "outputId": "c71f3d63-b58d-4bae-93d8-a4769a0abf7e"
      },
      "source": [
        "df3.columns"
      ],
      "execution_count": 53,
      "outputs": [
        {
          "output_type": "execute_result",
          "data": {
            "text/plain": [
              "Index(['Ground', 'Span', 'Mat', 'Won', 'Tied', 'Runs', 'Wkts', 'Balls', 'Ave',\n",
              "       'RPO', 'Runs Per Wicket'],\n",
              "      dtype='object')"
            ]
          },
          "metadata": {},
          "execution_count": 53
        }
      ]
    },
    {
      "cell_type": "code",
      "metadata": {
        "colab": {
          "base_uri": "https://localhost:8080/"
        },
        "id": "v5qE2xQe6yEf",
        "outputId": "3e160f14-2f66-4b1c-c3c6-f1dd32cd39c7"
      },
      "source": [
        "df4.columns"
      ],
      "execution_count": 66,
      "outputs": [
        {
          "output_type": "execute_result",
          "data": {
            "text/plain": [
              "Index(['Unnamed: 0', 'Result', 'Margin', 'BR', 'Toss', 'Bat', 'Opposition',\n",
              "       'Ground', 'Start Date', 'Match_ID', 'Country', 'Country_ID'],\n",
              "      dtype='object')"
            ]
          },
          "metadata": {},
          "execution_count": 66
        }
      ]
    },
    {
      "cell_type": "code",
      "metadata": {
        "id": "XtsxpmMZ8BAj"
      },
      "source": [
        "df4 = df4.drop('Country',axis=1)"
      ],
      "execution_count": 70,
      "outputs": []
    },
    {
      "cell_type": "code",
      "metadata": {
        "colab": {
          "base_uri": "https://localhost:8080/"
        },
        "id": "R4MMY0Wd8DyY",
        "outputId": "9f5ad41f-0398-4376-a036-4fc87ae51d8a"
      },
      "source": [
        "df4.columns"
      ],
      "execution_count": 71,
      "outputs": [
        {
          "output_type": "execute_result",
          "data": {
            "text/plain": [
              "Index(['Unnamed: 0', 'Result', 'Margin', 'BR', 'Toss', 'Bat', 'Opposition',\n",
              "       'Ground', 'Start Date', 'Match_ID', 'Country_ID'],\n",
              "      dtype='object')"
            ]
          },
          "metadata": {},
          "execution_count": 71
        }
      ]
    },
    {
      "cell_type": "code",
      "metadata": {
        "id": "rpSY8EIE8gGR"
      },
      "source": [
        ""
      ],
      "execution_count": null,
      "outputs": []
    },
    {
      "cell_type": "markdown",
      "metadata": {
        "id": "Vwnl5bVL8n7B"
      },
      "source": [
        "Batsman Analysis"
      ]
    },
    {
      "cell_type": "code",
      "metadata": {
        "colab": {
          "base_uri": "https://localhost:8080/"
        },
        "id": "vaPmXhC083Qy",
        "outputId": "90684aef-6713-47e6-fda9-977d8da6e41f"
      },
      "source": [
        "\n",
        "df1.info()"
      ],
      "execution_count": 73,
      "outputs": [
        {
          "output_type": "stream",
          "name": "stdout",
          "text": [
            "<class 'pandas.core.frame.DataFrame'>\n",
            "RangeIndex: 11149 entries, 0 to 11148\n",
            "Data columns (total 13 columns):\n",
            " #   Column      Non-Null Count  Dtype \n",
            "---  ------      --------------  ----- \n",
            " 0   Unnamed: 0  11149 non-null  int64 \n",
            " 1   Bat1        11149 non-null  object\n",
            " 2   Runs        11149 non-null  object\n",
            " 3   BF          11149 non-null  object\n",
            " 4   SR          11149 non-null  object\n",
            " 5   4s          11149 non-null  object\n",
            " 6   6s          11149 non-null  object\n",
            " 7   Opposition  11149 non-null  object\n",
            " 8   Ground      11149 non-null  object\n",
            " 9   Start Date  11149 non-null  object\n",
            " 10  Match_ID    11149 non-null  object\n",
            " 11  Batsman     11149 non-null  object\n",
            " 12  Player_ID   11149 non-null  int64 \n",
            "dtypes: int64(2), object(11)\n",
            "memory usage: 1.1+ MB\n"
          ]
        }
      ]
    },
    {
      "cell_type": "code",
      "metadata": {
        "colab": {
          "base_uri": "https://localhost:8080/",
          "height": 363
        },
        "id": "BZNqiDWI86zT",
        "outputId": "31d9c790-5b86-4e7f-c25d-1cf24336f52e"
      },
      "source": [
        "df1.head(10)"
      ],
      "execution_count": 75,
      "outputs": [
        {
          "output_type": "execute_result",
          "data": {
            "text/html": [
              "<div>\n",
              "<style scoped>\n",
              "    .dataframe tbody tr th:only-of-type {\n",
              "        vertical-align: middle;\n",
              "    }\n",
              "\n",
              "    .dataframe tbody tr th {\n",
              "        vertical-align: top;\n",
              "    }\n",
              "\n",
              "    .dataframe thead th {\n",
              "        text-align: right;\n",
              "    }\n",
              "</style>\n",
              "<table border=\"1\" class=\"dataframe\">\n",
              "  <thead>\n",
              "    <tr style=\"text-align: right;\">\n",
              "      <th></th>\n",
              "      <th>Unnamed: 0</th>\n",
              "      <th>Bat1</th>\n",
              "      <th>Runs</th>\n",
              "      <th>BF</th>\n",
              "      <th>SR</th>\n",
              "      <th>4s</th>\n",
              "      <th>6s</th>\n",
              "      <th>Opposition</th>\n",
              "      <th>Ground</th>\n",
              "      <th>Start Date</th>\n",
              "      <th>Match_ID</th>\n",
              "      <th>Batsman</th>\n",
              "      <th>Player_ID</th>\n",
              "    </tr>\n",
              "  </thead>\n",
              "  <tbody>\n",
              "    <tr>\n",
              "      <th>0</th>\n",
              "      <td>1</td>\n",
              "      <td>DNB</td>\n",
              "      <td>-</td>\n",
              "      <td>-</td>\n",
              "      <td>-</td>\n",
              "      <td>-</td>\n",
              "      <td>-</td>\n",
              "      <td>v India</td>\n",
              "      <td>Nagpur</td>\n",
              "      <td>18-Dec-09</td>\n",
              "      <td>ODI # 2933</td>\n",
              "      <td>Oshane Thomas</td>\n",
              "      <td>49619</td>\n",
              "    </tr>\n",
              "    <tr>\n",
              "      <th>1</th>\n",
              "      <td>2</td>\n",
              "      <td>DNB</td>\n",
              "      <td>-</td>\n",
              "      <td>-</td>\n",
              "      <td>-</td>\n",
              "      <td>-</td>\n",
              "      <td>-</td>\n",
              "      <td>v India</td>\n",
              "      <td>Kolkata</td>\n",
              "      <td>24-Dec-09</td>\n",
              "      <td>ODI # 2935</td>\n",
              "      <td>Oshane Thomas</td>\n",
              "      <td>49619</td>\n",
              "    </tr>\n",
              "    <tr>\n",
              "      <th>2</th>\n",
              "      <td>3</td>\n",
              "      <td>DNB</td>\n",
              "      <td>-</td>\n",
              "      <td>-</td>\n",
              "      <td>-</td>\n",
              "      <td>-</td>\n",
              "      <td>-</td>\n",
              "      <td>v India</td>\n",
              "      <td>Delhi</td>\n",
              "      <td>27-Dec-09</td>\n",
              "      <td>ODI # 2936</td>\n",
              "      <td>Oshane Thomas</td>\n",
              "      <td>49619</td>\n",
              "    </tr>\n",
              "    <tr>\n",
              "      <th>3</th>\n",
              "      <td>4</td>\n",
              "      <td>DNB</td>\n",
              "      <td>-</td>\n",
              "      <td>-</td>\n",
              "      <td>-</td>\n",
              "      <td>-</td>\n",
              "      <td>-</td>\n",
              "      <td>v Bangladesh</td>\n",
              "      <td>Dhaka</td>\n",
              "      <td>04-Jan-10</td>\n",
              "      <td>ODI # 2937</td>\n",
              "      <td>Oshane Thomas</td>\n",
              "      <td>49619</td>\n",
              "    </tr>\n",
              "    <tr>\n",
              "      <th>4</th>\n",
              "      <td>5</td>\n",
              "      <td>DNB</td>\n",
              "      <td>-</td>\n",
              "      <td>-</td>\n",
              "      <td>-</td>\n",
              "      <td>-</td>\n",
              "      <td>-</td>\n",
              "      <td>v India</td>\n",
              "      <td>Dhaka</td>\n",
              "      <td>05-Jan-10</td>\n",
              "      <td>ODI # 2938</td>\n",
              "      <td>Oshane Thomas</td>\n",
              "      <td>49619</td>\n",
              "    </tr>\n",
              "    <tr>\n",
              "      <th>5</th>\n",
              "      <td>6</td>\n",
              "      <td>0*</td>\n",
              "      <td>0</td>\n",
              "      <td>8</td>\n",
              "      <td>0</td>\n",
              "      <td>0</td>\n",
              "      <td>0</td>\n",
              "      <td>v India</td>\n",
              "      <td>Dhaka</td>\n",
              "      <td>10-Jan-10</td>\n",
              "      <td>ODI # 2941</td>\n",
              "      <td>Oshane Thomas</td>\n",
              "      <td>49619</td>\n",
              "    </tr>\n",
              "    <tr>\n",
              "      <th>6</th>\n",
              "      <td>7</td>\n",
              "      <td>0*</td>\n",
              "      <td>0</td>\n",
              "      <td>0</td>\n",
              "      <td>-</td>\n",
              "      <td>0</td>\n",
              "      <td>0</td>\n",
              "      <td>v England</td>\n",
              "      <td>The Oval</td>\n",
              "      <td>28-Jun-11</td>\n",
              "      <td>ODI # 3165</td>\n",
              "      <td>Oshane Thomas</td>\n",
              "      <td>49619</td>\n",
              "    </tr>\n",
              "    <tr>\n",
              "      <th>7</th>\n",
              "      <td>8</td>\n",
              "      <td>DNB</td>\n",
              "      <td>-</td>\n",
              "      <td>-</td>\n",
              "      <td>-</td>\n",
              "      <td>-</td>\n",
              "      <td>-</td>\n",
              "      <td>v England</td>\n",
              "      <td>Leeds</td>\n",
              "      <td>01-Jul-11</td>\n",
              "      <td>ODI # 3167</td>\n",
              "      <td>Oshane Thomas</td>\n",
              "      <td>49619</td>\n",
              "    </tr>\n",
              "    <tr>\n",
              "      <th>8</th>\n",
              "      <td>9</td>\n",
              "      <td>DNB</td>\n",
              "      <td>-</td>\n",
              "      <td>-</td>\n",
              "      <td>-</td>\n",
              "      <td>-</td>\n",
              "      <td>-</td>\n",
              "      <td>v England</td>\n",
              "      <td>Lord's</td>\n",
              "      <td>03-Jul-11</td>\n",
              "      <td>ODI # 3168</td>\n",
              "      <td>Oshane Thomas</td>\n",
              "      <td>49619</td>\n",
              "    </tr>\n",
              "    <tr>\n",
              "      <th>9</th>\n",
              "      <td>10</td>\n",
              "      <td>1*</td>\n",
              "      <td>1</td>\n",
              "      <td>3</td>\n",
              "      <td>33.33</td>\n",
              "      <td>0</td>\n",
              "      <td>0</td>\n",
              "      <td>v England</td>\n",
              "      <td>Nottingham</td>\n",
              "      <td>06-Jul-11</td>\n",
              "      <td>ODI # 3169</td>\n",
              "      <td>Oshane Thomas</td>\n",
              "      <td>49619</td>\n",
              "    </tr>\n",
              "  </tbody>\n",
              "</table>\n",
              "</div>"
            ],
            "text/plain": [
              "   Unnamed: 0 Bat1 Runs BF  ... Start Date    Match_ID        Batsman Player_ID\n",
              "0           1  DNB    -  -  ...  18-Dec-09  ODI # 2933  Oshane Thomas     49619\n",
              "1           2  DNB    -  -  ...  24-Dec-09  ODI # 2935  Oshane Thomas     49619\n",
              "2           3  DNB    -  -  ...  27-Dec-09  ODI # 2936  Oshane Thomas     49619\n",
              "3           4  DNB    -  -  ...  04-Jan-10  ODI # 2937  Oshane Thomas     49619\n",
              "4           5  DNB    -  -  ...  05-Jan-10  ODI # 2938  Oshane Thomas     49619\n",
              "5           6   0*    0  8  ...  10-Jan-10  ODI # 2941  Oshane Thomas     49619\n",
              "6           7   0*    0  0  ...  28-Jun-11  ODI # 3165  Oshane Thomas     49619\n",
              "7           8  DNB    -  -  ...  01-Jul-11  ODI # 3167  Oshane Thomas     49619\n",
              "8           9  DNB    -  -  ...  03-Jul-11  ODI # 3168  Oshane Thomas     49619\n",
              "9          10   1*    1  3  ...  06-Jul-11  ODI # 3169  Oshane Thomas     49619\n",
              "\n",
              "[10 rows x 13 columns]"
            ]
          },
          "metadata": {},
          "execution_count": 75
        }
      ]
    },
    {
      "cell_type": "code",
      "metadata": {
        "colab": {
          "base_uri": "https://localhost:8080/"
        },
        "id": "TMVX4rNN-qRF",
        "outputId": "e5bd0f9f-350e-43c8-e87f-9a82155aefa9"
      },
      "source": [
        "df1.Batsman.value_counts()"
      ],
      "execution_count": 77,
      "outputs": [
        {
          "output_type": "execute_result",
          "data": {
            "text/plain": [
              "MS Dhoni           341\n",
              "Chris Gayle        289\n",
              "Shoaib Malik       284\n",
              "Virat Kohli        227\n",
              "Eoin Morgan        222\n",
              "                  ... \n",
              "Isuru Udana          5\n",
              "Anrich Nortje        4\n",
              "Abid Ali             3\n",
              "Abu Jayed            2\n",
              "Nicholas Pooran      1\n",
              "Name: Batsman, Length: 149, dtype: int64"
            ]
          },
          "metadata": {},
          "execution_count": 77
        }
      ]
    },
    {
      "cell_type": "code",
      "metadata": {
        "id": "qwlkRfM1-ul-"
      },
      "source": [
        "df_VK = df1[df1['Batsman']=='Virat Kohli']"
      ],
      "execution_count": 79,
      "outputs": []
    },
    {
      "cell_type": "code",
      "metadata": {
        "colab": {
          "base_uri": "https://localhost:8080/",
          "height": 363
        },
        "id": "O5S5Dq4W-6OJ",
        "outputId": "a0348822-13c0-4b56-8044-193571228f74"
      },
      "source": [
        "df_VK.head(10)"
      ],
      "execution_count": 80,
      "outputs": [
        {
          "output_type": "execute_result",
          "data": {
            "text/html": [
              "<div>\n",
              "<style scoped>\n",
              "    .dataframe tbody tr th:only-of-type {\n",
              "        vertical-align: middle;\n",
              "    }\n",
              "\n",
              "    .dataframe tbody tr th {\n",
              "        vertical-align: top;\n",
              "    }\n",
              "\n",
              "    .dataframe thead th {\n",
              "        text-align: right;\n",
              "    }\n",
              "</style>\n",
              "<table border=\"1\" class=\"dataframe\">\n",
              "  <thead>\n",
              "    <tr style=\"text-align: right;\">\n",
              "      <th></th>\n",
              "      <th>Unnamed: 0</th>\n",
              "      <th>Bat1</th>\n",
              "      <th>Runs</th>\n",
              "      <th>BF</th>\n",
              "      <th>SR</th>\n",
              "      <th>4s</th>\n",
              "      <th>6s</th>\n",
              "      <th>Opposition</th>\n",
              "      <th>Ground</th>\n",
              "      <th>Start Date</th>\n",
              "      <th>Match_ID</th>\n",
              "      <th>Batsman</th>\n",
              "      <th>Player_ID</th>\n",
              "    </tr>\n",
              "  </thead>\n",
              "  <tbody>\n",
              "    <tr>\n",
              "      <th>6676</th>\n",
              "      <td>6677</td>\n",
              "      <td>12</td>\n",
              "      <td>12</td>\n",
              "      <td>22</td>\n",
              "      <td>54.54</td>\n",
              "      <td>1</td>\n",
              "      <td>0</td>\n",
              "      <td>v Sri Lanka</td>\n",
              "      <td>Dambulla</td>\n",
              "      <td>18-Aug-08</td>\n",
              "      <td>ODI # 2742</td>\n",
              "      <td>Virat Kohli</td>\n",
              "      <td>253802</td>\n",
              "    </tr>\n",
              "    <tr>\n",
              "      <th>6677</th>\n",
              "      <td>6678</td>\n",
              "      <td>37</td>\n",
              "      <td>37</td>\n",
              "      <td>67</td>\n",
              "      <td>55.22</td>\n",
              "      <td>6</td>\n",
              "      <td>0</td>\n",
              "      <td>v Sri Lanka</td>\n",
              "      <td>Dambulla</td>\n",
              "      <td>20-Aug-08</td>\n",
              "      <td>ODI # 2745</td>\n",
              "      <td>Virat Kohli</td>\n",
              "      <td>253802</td>\n",
              "    </tr>\n",
              "    <tr>\n",
              "      <th>6678</th>\n",
              "      <td>6679</td>\n",
              "      <td>25</td>\n",
              "      <td>25</td>\n",
              "      <td>38</td>\n",
              "      <td>65.78</td>\n",
              "      <td>4</td>\n",
              "      <td>0</td>\n",
              "      <td>v Sri Lanka</td>\n",
              "      <td>Colombo (RPS)</td>\n",
              "      <td>24-Aug-08</td>\n",
              "      <td>ODI # 2750</td>\n",
              "      <td>Virat Kohli</td>\n",
              "      <td>253802</td>\n",
              "    </tr>\n",
              "    <tr>\n",
              "      <th>6679</th>\n",
              "      <td>6680</td>\n",
              "      <td>54</td>\n",
              "      <td>54</td>\n",
              "      <td>66</td>\n",
              "      <td>81.81</td>\n",
              "      <td>7</td>\n",
              "      <td>0</td>\n",
              "      <td>v Sri Lanka</td>\n",
              "      <td>Colombo (RPS)</td>\n",
              "      <td>27-Aug-08</td>\n",
              "      <td>ODI # 2755</td>\n",
              "      <td>Virat Kohli</td>\n",
              "      <td>253802</td>\n",
              "    </tr>\n",
              "    <tr>\n",
              "      <th>6680</th>\n",
              "      <td>6681</td>\n",
              "      <td>31</td>\n",
              "      <td>31</td>\n",
              "      <td>46</td>\n",
              "      <td>67.39</td>\n",
              "      <td>3</td>\n",
              "      <td>1</td>\n",
              "      <td>v Sri Lanka</td>\n",
              "      <td>Colombo (RPS)</td>\n",
              "      <td>29-Aug-08</td>\n",
              "      <td>ODI # 2756</td>\n",
              "      <td>Virat Kohli</td>\n",
              "      <td>253802</td>\n",
              "    </tr>\n",
              "    <tr>\n",
              "      <th>6681</th>\n",
              "      <td>6682</td>\n",
              "      <td>2*</td>\n",
              "      <td>2</td>\n",
              "      <td>2</td>\n",
              "      <td>100</td>\n",
              "      <td>0</td>\n",
              "      <td>0</td>\n",
              "      <td>v Sri Lanka</td>\n",
              "      <td>Colombo (RPS)</td>\n",
              "      <td>14-Sep-09</td>\n",
              "      <td>ODI # 2889</td>\n",
              "      <td>Virat Kohli</td>\n",
              "      <td>253802</td>\n",
              "    </tr>\n",
              "    <tr>\n",
              "      <th>6682</th>\n",
              "      <td>6683</td>\n",
              "      <td>16</td>\n",
              "      <td>16</td>\n",
              "      <td>24</td>\n",
              "      <td>66.66</td>\n",
              "      <td>1</td>\n",
              "      <td>0</td>\n",
              "      <td>v Pakistan</td>\n",
              "      <td>Centurion</td>\n",
              "      <td>26-Sep-09</td>\n",
              "      <td>ODI # 2898</td>\n",
              "      <td>Virat Kohli</td>\n",
              "      <td>253802</td>\n",
              "    </tr>\n",
              "    <tr>\n",
              "      <th>6683</th>\n",
              "      <td>6684</td>\n",
              "      <td>TDNB</td>\n",
              "      <td>-</td>\n",
              "      <td>-</td>\n",
              "      <td>-</td>\n",
              "      <td>-</td>\n",
              "      <td>-</td>\n",
              "      <td>v Australia</td>\n",
              "      <td>Centurion</td>\n",
              "      <td>28-Sep-09</td>\n",
              "      <td>ODI # 2901</td>\n",
              "      <td>Virat Kohli</td>\n",
              "      <td>253802</td>\n",
              "    </tr>\n",
              "    <tr>\n",
              "      <th>6684</th>\n",
              "      <td>6685</td>\n",
              "      <td>79*</td>\n",
              "      <td>79</td>\n",
              "      <td>104</td>\n",
              "      <td>75.96</td>\n",
              "      <td>9</td>\n",
              "      <td>2</td>\n",
              "      <td>v West Indies</td>\n",
              "      <td>Johannesburg</td>\n",
              "      <td>30-Sep-09</td>\n",
              "      <td>ODI # 2904</td>\n",
              "      <td>Virat Kohli</td>\n",
              "      <td>253802</td>\n",
              "    </tr>\n",
              "    <tr>\n",
              "      <th>6685</th>\n",
              "      <td>6686</td>\n",
              "      <td>30</td>\n",
              "      <td>30</td>\n",
              "      <td>41</td>\n",
              "      <td>73.17</td>\n",
              "      <td>3</td>\n",
              "      <td>0</td>\n",
              "      <td>v Australia</td>\n",
              "      <td>Vadodara</td>\n",
              "      <td>25-Oct-09</td>\n",
              "      <td>ODI # 2913</td>\n",
              "      <td>Virat Kohli</td>\n",
              "      <td>253802</td>\n",
              "    </tr>\n",
              "  </tbody>\n",
              "</table>\n",
              "</div>"
            ],
            "text/plain": [
              "      Unnamed: 0  Bat1 Runs   BF  ... Start Date    Match_ID      Batsman Player_ID\n",
              "6676        6677    12   12   22  ...  18-Aug-08  ODI # 2742  Virat Kohli    253802\n",
              "6677        6678    37   37   67  ...  20-Aug-08  ODI # 2745  Virat Kohli    253802\n",
              "6678        6679    25   25   38  ...  24-Aug-08  ODI # 2750  Virat Kohli    253802\n",
              "6679        6680    54   54   66  ...  27-Aug-08  ODI # 2755  Virat Kohli    253802\n",
              "6680        6681    31   31   46  ...  29-Aug-08  ODI # 2756  Virat Kohli    253802\n",
              "6681        6682    2*    2    2  ...  14-Sep-09  ODI # 2889  Virat Kohli    253802\n",
              "6682        6683    16   16   24  ...  26-Sep-09  ODI # 2898  Virat Kohli    253802\n",
              "6683        6684  TDNB    -    -  ...  28-Sep-09  ODI # 2901  Virat Kohli    253802\n",
              "6684        6685   79*   79  104  ...  30-Sep-09  ODI # 2904  Virat Kohli    253802\n",
              "6685        6686    30   30   41  ...  25-Oct-09  ODI # 2913  Virat Kohli    253802\n",
              "\n",
              "[10 rows x 13 columns]"
            ]
          },
          "metadata": {},
          "execution_count": 80
        }
      ]
    },
    {
      "cell_type": "code",
      "metadata": {
        "colab": {
          "base_uri": "https://localhost:8080/"
        },
        "id": "8XI25J_3BH-o",
        "outputId": "5d449756-33f6-413e-8616-a3e3ac80ea70"
      },
      "source": [
        "df_VK.info()"
      ],
      "execution_count": 93,
      "outputs": [
        {
          "output_type": "stream",
          "name": "stdout",
          "text": [
            "<class 'pandas.core.frame.DataFrame'>\n",
            "Int64Index: 227 entries, 6676 to 6902\n",
            "Data columns (total 13 columns):\n",
            " #   Column      Non-Null Count  Dtype \n",
            "---  ------      --------------  ----- \n",
            " 0   Unnamed: 0  227 non-null    int64 \n",
            " 1   Bat1        227 non-null    object\n",
            " 2   Runs        227 non-null    object\n",
            " 3   BF          227 non-null    object\n",
            " 4   SR          227 non-null    object\n",
            " 5   4s          227 non-null    object\n",
            " 6   6s          227 non-null    object\n",
            " 7   Opposition  227 non-null    object\n",
            " 8   Ground      227 non-null    object\n",
            " 9   Start Date  227 non-null    object\n",
            " 10  Match_ID    227 non-null    object\n",
            " 11  Batsman     227 non-null    object\n",
            " 12  Player_ID   227 non-null    int64 \n",
            "dtypes: int64(2), object(11)\n",
            "memory usage: 34.8+ KB\n"
          ]
        }
      ]
    },
    {
      "cell_type": "code",
      "metadata": {
        "id": "tNka8ViG_ERK"
      },
      "source": [
        "data = df_VK.groupby(['Ground','Opposition']).count().index.droplevel(level=0).value_counts().sort_index()"
      ],
      "execution_count": 88,
      "outputs": []
    },
    {
      "cell_type": "code",
      "metadata": {
        "colab": {
          "base_uri": "https://localhost:8080/"
        },
        "id": "PLJu3yYf_fcN",
        "outputId": "48b1a44c-d948-4db1-b9f8-62aa26976ed8"
      },
      "source": [
        "data"
      ],
      "execution_count": 90,
      "outputs": [
        {
          "output_type": "execute_result",
          "data": {
            "text/plain": [
              "v Afghanistan      1\n",
              "v Australia       21\n",
              "v Bangladesh       5\n",
              "v England         22\n",
              "v Ireland          2\n",
              "v Netherlands      1\n",
              "v New Zealand     19\n",
              "v Pakistan        10\n",
              "v South Africa    17\n",
              "v Sri Lanka       25\n",
              "v U.A.E.           1\n",
              "v West Indies     19\n",
              "v Zimbabwe         3\n",
              "Name: Opposition, dtype: int64"
            ]
          },
          "metadata": {},
          "execution_count": 90
        }
      ]
    },
    {
      "cell_type": "code",
      "metadata": {
        "colab": {
          "base_uri": "https://localhost:8080/"
        },
        "id": "D1GygEtwBBYR",
        "outputId": "1fe76079-cc3b-41e7-e93c-8432126e3362"
      },
      "source": [
        "data.sum()"
      ],
      "execution_count": 92,
      "outputs": [
        {
          "output_type": "execute_result",
          "data": {
            "text/plain": [
              "146"
            ]
          },
          "metadata": {},
          "execution_count": 92
        }
      ]
    },
    {
      "cell_type": "code",
      "metadata": {
        "colab": {
          "base_uri": "https://localhost:8080/",
          "height": 279
        },
        "id": "waEkVCKkBYwR",
        "outputId": "13790565-c65b-4c51-aaa9-ed65109c371a"
      },
      "source": [
        "sns.barplot(y=data.index,x=data,orient='h')\n",
        "plt.xlabel('Matches Played')\n",
        "plt.ylabel('Versus')\n",
        "plt.show()"
      ],
      "execution_count": 141,
      "outputs": [
        {
          "output_type": "display_data",
          "data": {
            "image/png": "[encoded data removed]",
            "text/plain": [
              "<Figure size 432x288 with 1 Axes>"
            ]
          },
          "metadata": {
            "needs_background": "light"
          }
        }
      ]
    },
    {
      "cell_type": "code",
      "metadata": {
        "id": "VN1OhtOLBv8s"
      },
      "source": [
        "df_runs = df_VK[['Runs','Ground']]"
      ],
      "execution_count": 105,
      "outputs": []
    },
    {
      "cell_type": "code",
      "metadata": {
        "colab": {
          "base_uri": "https://localhost:8080/"
        },
        "id": "DotWDgd8EZjo",
        "outputId": "a9e307e7-428d-46ef-9d5e-05c11338bf25"
      },
      "source": [
        "df_runs['Runs'] = df_runs['Runs'].replace('-' ,'0')"
      ],
      "execution_count": 119,
      "outputs": [
        {
          "output_type": "stream",
          "name": "stderr",
          "text": [
            "/usr/local/lib/python3.7/dist-packages/ipykernel_launcher.py:1: SettingWithCopyWarning: \n",
            "A value is trying to be set on a copy of a slice from a DataFrame.\n",
            "Try using .loc[row_indexer,col_indexer] = value instead\n",
            "\n",
            "See the caveats in the documentation: https://pandas.pydata.org/pandas-docs/stable/user_guide/indexing.html#returning-a-view-versus-a-copy\n",
            "  \"\"\"Entry point for launching an IPython kernel.\n"
          ]
        }
      ]
    },
    {
      "cell_type": "code",
      "metadata": {
        "colab": {
          "base_uri": "https://localhost:8080/"
        },
        "id": "R6r1UtJiD2SY",
        "outputId": "6618a3d8-c767-4c9d-975b-7ffbd42d9fd1"
      },
      "source": [
        "df_runs[\"Runs\"] = pd.to_numeric(df_runs[\"Runs\"])"
      ],
      "execution_count": 120,
      "outputs": [
        {
          "output_type": "stream",
          "name": "stderr",
          "text": [
            "/usr/local/lib/python3.7/dist-packages/ipykernel_launcher.py:1: SettingWithCopyWarning: \n",
            "A value is trying to be set on a copy of a slice from a DataFrame.\n",
            "Try using .loc[row_indexer,col_indexer] = value instead\n",
            "\n",
            "See the caveats in the documentation: https://pandas.pydata.org/pandas-docs/stable/user_guide/indexing.html#returning-a-view-versus-a-copy\n",
            "  \"\"\"Entry point for launching an IPython kernel.\n"
          ]
        }
      ]
    },
    {
      "cell_type": "code",
      "metadata": {
        "id": "2q3HalZMCW8P"
      },
      "source": [
        "data = df_runs.groupby('Ground').mean()"
      ],
      "execution_count": 132,
      "outputs": []
    },
    {
      "cell_type": "code",
      "metadata": {
        "colab": {
          "base_uri": "https://localhost:8080/",
          "height": 392
        },
        "id": "_4K0KfYrFJOt",
        "outputId": "8311253f-cac3-4bf0-ba75-daf2713dae01"
      },
      "source": [
        "plt.figure(figsize=(20,20))\n",
        "data.plot(kind='bar')\n",
        "plt.show()"
      ],
      "execution_count": 138,
      "outputs": [
        {
          "output_type": "display_data",
          "data": {
            "text/plain": [
              "<Figure size 1440x1440 with 0 Axes>"
            ]
          },
          "metadata": {}
        },
        {
          "output_type": "display_data",
          "data": {
            "image/png": "[encoded data removed]",
            "text/plain": [
              "<Figure size 432x288 with 1 Axes>"
            ]
          },
          "metadata": {
            "needs_background": "light"
          }
        }
      ]
    },
    {
      "cell_type": "code",
      "metadata": {
        "id": "5KwvB7K7Feu9"
      },
      "source": [
        "df_CG = df1[df1['Batsman']=='Chris Gayle']"
      ],
      "execution_count": 139,
      "outputs": []
    },
    {
      "cell_type": "code",
      "metadata": {
        "id": "Ngd6ZFi4F3tf"
      },
      "source": [
        "data = df_CG.groupby(['Ground','Opposition']).count().index.droplevel(level=0).value_counts().sort_index()"
      ],
      "execution_count": 144,
      "outputs": []
    },
    {
      "cell_type": "code",
      "metadata": {
        "colab": {
          "base_uri": "https://localhost:8080/",
          "height": 279
        },
        "id": "RHxFhVNiF_sH",
        "outputId": "6b6033d6-fde2-486c-d0ff-8d3afff8b143"
      },
      "source": [
        "sns.barplot(y=data.index,x=data,orient='h')\n",
        "plt.xlabel('Matches Played')\n",
        "plt.ylabel('Versus')\n",
        "plt.show()"
      ],
      "execution_count": 145,
      "outputs": [
        {
          "output_type": "display_data",
          "data": {
            "image/png": "[encoded data removed]",
            "text/plain": [
              "<Figure size 432x288 with 1 Axes>"
            ]
          },
          "metadata": {
            "needs_background": "light"
          }
        }
      ]
    },
    {
      "cell_type": "code",
      "metadata": {
        "colab": {
          "base_uri": "https://localhost:8080/",
          "height": 611
        },
        "id": "iTlLf1GWGD__",
        "outputId": "cd4e83de-9df0-4225-f48c-380d4bf657f2"
      },
      "source": [
        "df_runs = df_CG[['Runs','Ground']]\n",
        "df_runs['Runs'] = df_runs['Runs'].replace('-' ,'0')\n",
        "df_runs[\"Runs\"] = pd.to_numeric(df_runs[\"Runs\"])\n",
        "data = df_runs.groupby('Ground').mean()\n",
        "\n",
        "plt.figure(figsize=(20,20))\n",
        "data.plot(kind='bar')\n",
        "plt.show()"
      ],
      "execution_count": 147,
      "outputs": [
        {
          "output_type": "stream",
          "name": "stderr",
          "text": [
            "/usr/local/lib/python3.7/dist-packages/ipykernel_launcher.py:2: SettingWithCopyWarning: \n",
            "A value is trying to be set on a copy of a slice from a DataFrame.\n",
            "Try using .loc[row_indexer,col_indexer] = value instead\n",
            "\n",
            "See the caveats in the documentation: https://pandas.pydata.org/pandas-docs/stable/user_guide/indexing.html#returning-a-view-versus-a-copy\n",
            "  \n",
            "/usr/local/lib/python3.7/dist-packages/ipykernel_launcher.py:3: SettingWithCopyWarning: \n",
            "A value is trying to be set on a copy of a slice from a DataFrame.\n",
            "Try using .loc[row_indexer,col_indexer] = value instead\n",
            "\n",
            "See the caveats in the documentation: https://pandas.pydata.org/pandas-docs/stable/user_guide/indexing.html#returning-a-view-versus-a-copy\n",
            "  This is separate from the ipykernel package so we can avoid doing imports until\n"
          ]
        },
        {
          "output_type": "display_data",
          "data": {
            "text/plain": [
              "<Figure size 1440x1440 with 0 Axes>"
            ]
          },
          "metadata": {}
        },
        {
          "output_type": "display_data",
          "data": {
            "image/png": "[encoded data removed]",
            "text/plain": [
              "<Figure size 432x288 with 1 Axes>"
            ]
          },
          "metadata": {
            "needs_background": "light"
          }
        }
      ]
    },
    {
      "cell_type": "markdown",
      "metadata": {
        "id": "CpXQPqEEGb94"
      },
      "source": [
        "Bowlers Analysis"
      ]
    },
    {
      "cell_type": "code",
      "metadata": {
        "id": "LfI6N2RzGEhz"
      },
      "source": [
        ""
      ],
      "execution_count": null,
      "outputs": []
    }
  ]
}