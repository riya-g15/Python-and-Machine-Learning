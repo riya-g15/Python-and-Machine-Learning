{
 "cells": [
  {
   "cell_type": "markdown",
   "id": "d597f4f4",
   "metadata": {},
   "source": [
    "Riya Goyal (2148054)                                                                         20/09/2021"
   ]
  },
  {
   "cell_type": "markdown",
   "id": "84aa7da8",
   "metadata": {},
   "source": [
    "# Enabling Function Overloading in Python through Dispatch and *args"
   ]
  },
  {
   "cell_type": "code",
   "execution_count": 7,
   "id": "a16c15e9",
   "metadata": {},
   "outputs": [
    {
     "name": "stdout",
     "output_type": "stream",
     "text": [
      "Requirement already satisfied: multipledispatch in d:\\anaconda\\lib\\site-packages (0.6.0)\n",
      "Requirement already satisfied: six in d:\\anaconda\\lib\\site-packages (from multipledispatch) (1.15.0)\n",
      "64.6\n",
      "32.3\n"
     ]
    }
   ],
   "source": [
    "#suppose we want to keep the same function (area) to calculate are of\n",
    "# 3D and 2D figures, we can use function overloading in the \n",
    "# following way\n",
    "\n",
    "!pip3 install multipledispatch\n",
    "from multipledispatch import dispatch\n",
    "\n",
    "@dispatch(float,float,int)\n",
    "def area(float_1,float_2,int_3): #function to add three decimal numbers\n",
    "    area= float_1*float_2*int_3\n",
    "    print(area);\n",
    "@dispatch(float,float)\n",
    "def area(float_1,float_2): # function to subtract two integer number from another integer number\n",
    "    area= float_1*float_2\n",
    "    print(area);\n",
    "\n",
    "    \n",
    "area(9.5,3.4,2) #calls first function\n",
    "area(9.5,3.4)#calls second function\n"
   ]
  },
  {
   "cell_type": "code",
   "execution_count": 13,
   "id": "20cf7284",
   "metadata": {},
   "outputs": [
    {
     "name": "stdout",
     "output_type": "stream",
     "text": [
      "66\n",
      "Heyyyyy Gabrus!\n"
     ]
    }
   ],
   "source": [
    "# Function to take multiple arguments\n",
    "def add(datatype, *args):\n",
    "  \n",
    "    # if datatype is int\n",
    "    if datatype =='int':\n",
    "        answer = 0\n",
    "          \n",
    "    # if datatype is str\n",
    "    if datatype =='str':\n",
    "        answer =''\n",
    "        \n",
    "    for x in args:\n",
    "        \n",
    "        answer = answer + x \n",
    "  \n",
    "    print(answer)\n",
    "  \n",
    "#Integer\n",
    "add('int', 64, 2)\n",
    "  \n",
    "# String\n",
    "add('str', 'Heyyyyy ', 'Gabrus!')"
   ]
  },
  {
   "cell_type": "markdown",
   "id": "0c897431",
   "metadata": {},
   "source": [
    "# Exception Handling:"
   ]
  },
  {
   "cell_type": "code",
   "execution_count": 2,
   "id": "663920ba",
   "metadata": {},
   "outputs": [
    {
     "name": "stdout",
     "output_type": "stream",
     "text": [
      " \n",
      " \n",
      " \u001b[1m__________Welcome to the Destination selection portal________________\u001b[0m\n",
      "\n",
      " \n",
      " We have shortlisted the following options for your 4 day destination Wedding according to the budget we discussed: \n",
      " \n",
      " 1.Paradise Resort,Bali \n",
      " 2.Pearl Jumeirah, Malaysia \n",
      " 3.The Ritz-Carlton,Dubai \n",
      " 4.Exit \n",
      " \n",
      " Choose the desired option: (1/2/3/4) :\n",
      "\n",
      "Enter choice: t\n",
      "Input only numbers (1/2/3/4):  invalid literal for int() with base 10: 't'\n",
      "\n",
      "Enter choice: 3\n",
      "\n",
      " \n",
      "Thank you for selecting Dubai as your Destination Wedding place. \n",
      " \n",
      " Considered to be one of the affordable wedding venues in Dubai, The Ritz-Carlton is one of the best wedding venues in Dubai \n",
      " and has great value for money. What is even more impressive is that the beach facing awning, the blooming landscape,\n",
      " the lush lawns and the traditional decor give an elegant setting for any type of wedding. Their services are impeccable, \n",
      " as they make sure they take of all your requirements including your budget!\n",
      " \n",
      " Location: Dubai, 26525 United Arab Emirates \n",
      " \n",
      " Seating Capacity: 800-1000 guests\n",
      " Cost: 2265800 AED\n"
     ]
    }
   ],
   "source": [
    " #exception handling using try and except (Value Error)\n",
    "\n",
    "\n",
    "def dest():\n",
    "    \n",
    "    print(\" \\n \\n \\033[1m__________Welcome to the Destination selection portal________________\\033[0m\")\n",
    "    print(\"\\n \\n We have shortlisted the following options for your 4 day destination Wedding according to the budget we discussed: \\n \\n 1.Paradise Resort,Bali \\n 2.Pearl Jumeirah, Malaysia \\n 3.The Ritz-Carlton,Dubai \\n 4.Exit \\n \\n Choose the desired option: (1/2/3/4) :\")\n",
    "    while True:\n",
    "        try:\n",
    "            n=int(input(\"\\nEnter choice: \"))\n",
    "        except ValueError as d:\n",
    "            print(\"Input only numbers (1/2/3/4): \", d)\n",
    "            continue\n",
    "        if(n==1):\n",
    "            print(\"\\n \\nThank you for selecting Bali as your Destination Wedding place. \\n \\n World famous Hyatt Regency has its magnificent 5-star hotel in Dubai, which has hosted around 5000 weddings \\n till now. Housing a vast and charismatic Crystal Ballroom, an elegant Outdoor Golf Park, and a specialized culinary \\n team, Hyatt Regency offers a once in a lifetime wedding experience in Dubai. \\n \\n Location: SandArena, Bali \\n \\n  Seating capacity: Upto 1000 guests\\n \\n Cost:9145690000 Indonesian Rupiah\")  \n",
    "            dest.venue=\"Bali\"\n",
    "            dest.p= 9145690000\n",
    "            break\n",
    "        elif(n==2):\n",
    "            print(\"\\n \\nThank you for selecting Malaysia as your Destination Wedding place. \\n \\n Favourably located on the beachfront, overlooking the astounding Pearl Jumeirah is a picturesque\\n destination to have that utopian wedding. Offering an array of luxury amenities amidst its paradisiacal surroundings,\\n this wedding destination is ideal to have your dream wedding in Dubai. Tendering to the exclusive needs of its guests,\\n this resort offers access to a private patio, private rooftop pool, deluxe villas and so much more. \\n \\n Location: Pearl Jumeira, Malaysia. \\n \\n Seating capacity: Upto 900 guests \\n \\n Cost: 2568000 Malaysian Ringgit\") \n",
    "            dest.venue=\"Malaysia\"\n",
    "            dest.p= 2568000\n",
    "            break\n",
    "        elif(n==3):\n",
    "            print(\"\\n \\nThank you for selecting Dubai as your Destination Wedding place. \\n \\n Considered to be one of the affordable wedding venues in Dubai, The Ritz-Carlton is one of the best wedding venues in Dubai \\n and has great value for money. What is even more impressive is that the beach facing awning, the blooming landscape,\\n the lush lawns and the traditional decor give an elegant setting for any type of wedding. Their services are impeccable, \\n as they make sure they take of all your requirements including your budget!\\n \\n Location: Dubai, 26525 United Arab Emirates \\n \\n Seating Capacity: 800-1000 guests\\n Cost: 2265800 AED\")\n",
    "            dest.venue=\"Dubai\"\n",
    "            dest.p=2265800\n",
    "            break\n",
    "        elif(n==4):\n",
    "            break    \n",
    "        else:\n",
    "            print(\"Choose right option!\")\n",
    "            continue\n",
    "            \n",
    "dest()"
   ]
  },
  {
   "cell_type": "code",
   "execution_count": 16,
   "id": "cc95e306",
   "metadata": {},
   "outputs": [
    {
     "name": "stdout",
     "output_type": "stream",
     "text": [
      "Oops! A NameError occurred!:  name 'age' is not defined\n"
     ]
    }
   ],
   "source": [
    "#exception handling using try,except and else (Name Error)\n",
    "\n",
    "\n",
    "try:\n",
    "    print (age) #error as age is not defined\n",
    "except NameError as n:\n",
    "    print (\"Oops! A NameError occurred!: \", n)\n",
    "else:\n",
    "    print (\"You may proceed!\")"
   ]
  },
  {
   "cell_type": "code",
   "execution_count": 19,
   "id": "999c1c5a",
   "metadata": {},
   "outputs": [
    {
     "name": "stdout",
     "output_type": "stream",
     "text": [
      "Can't divide by zero:  integer division or modulo by zero\n",
      "\n",
      " \n",
      "Nevermind! You have reached the end!\n"
     ]
    }
   ],
   "source": [
    "#exception handling using try,except and finally (Zero Division Error)\n",
    "\n",
    "try:\n",
    "    mod = 20//0 # raises divide by zero exception.\n",
    "    print(mod)\n",
    "# handles zerodivision exception\n",
    "except ZeroDivisionError as z:\n",
    "    print(\"Can't divide by zero: \", z)\n",
    "finally:\n",
    "    # this block is always executed\n",
    "    # regardless of exception generation.\n",
    "    print('\\n \\nNevermind! You have reached the end!')"
   ]
  },
  {
   "cell_type": "code",
   "execution_count": 25,
   "id": "1d8ef889",
   "metadata": {},
   "outputs": [
    {
     "name": "stdout",
     "output_type": "stream",
     "text": [
      "15.7\n",
      "Here's your answer: 15.7\n"
     ]
    }
   ],
   "source": [
    "#exception handling using try,except and finally (Type Error)\n",
    "\n",
    "try:\n",
    "    a=5\n",
    "    #b='Saara'\n",
    "    b=4\n",
    "    c=6.7\n",
    "    print(a+b+c)\n",
    "except TypeError as t:\n",
    "    print(\" Check your datatypes!: \", t)\n",
    "else:\n",
    "    print(\"Here's your answer:\", a+b+c)\n",
    "    \n",
    "    "
   ]
  },
  {
   "cell_type": "code",
   "execution_count": 26,
   "id": "a2d70423",
   "metadata": {},
   "outputs": [
    {
     "name": "stdout",
     "output_type": "stream",
     "text": [
      " Check your datatypes!:  unsupported operand type(s) for +: 'int' and 'str'\n"
     ]
    }
   ],
   "source": [
    "try:\n",
    "    a=5\n",
    "    b='Saara'\n",
    "    #b=4\n",
    "    c=6.7\n",
    "    print(a+b+c)\n",
    "except TypeError as t:\n",
    "    print(\" Check your datatypes!: \", t)\n",
    "else:\n",
    "    print(\"Here's your answer:\", a+b+c)\n",
    "    \n",
    "    "
   ]
  },
  {
   "cell_type": "code",
   "execution_count": null,
   "id": "8c581b23",
   "metadata": {},
   "outputs": [],
   "source": []
  }
 ],
 "metadata": {
  "kernelspec": {
   "display_name": "Python 3",
   "language": "python",
   "name": "python3"
  },
  "language_info": {
   "codemirror_mode": {
    "name": "ipython",
    "version": 3
   },
   "file_extension": ".py",
   "mimetype": "text/x-python",
   "name": "python",
   "nbconvert_exporter": "python",
   "pygments_lexer": "ipython3",
   "version": "3.8.8"
  }
 },
 "nbformat": 4,
 "nbformat_minor": 5
}
