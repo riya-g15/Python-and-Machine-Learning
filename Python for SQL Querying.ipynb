{
 "cells": [
  {
   "cell_type": "code",
   "execution_count": 4,
   "id": "69692bc3",
   "metadata": {},
   "outputs": [
    {
     "name": "stdout",
     "output_type": "stream",
     "text": [
      "Connected to the database\n"
     ]
    }
   ],
   "source": [
    "import sqlite3\n",
    "def DB_Create():\n",
    "  # connecting to the database\n",
    "  connection = sqlite3.connect(\"Demo_DataBase.db\")\n",
    "\n",
    "  # cursor\n",
    "  crsr = connection.cursor()\n",
    "\n",
    "  # print statement will execute if there are no errors\n",
    "  print(\"Connected to the database\")\n",
    "\n",
    "  # close the connection\n",
    "  connection.close()\n",
    "    \n",
    "DB_Create()"
   ]
  },
  {
   "cell_type": "code",
   "execution_count": 5,
   "id": "ceb8dd9f",
   "metadata": {},
   "outputs": [
    {
     "ename": "OperationalError",
     "evalue": "table emp already exists",
     "output_type": "error",
     "traceback": [
      "\u001b[1;31m---------------------------------------------------------------------------\u001b[0m",
      "\u001b[1;31mOperationalError\u001b[0m                          Traceback (most recent call last)",
      "\u001b[1;32m<ipython-input-5-b652e7a747c0>\u001b[0m in \u001b[0;36m<module>\u001b[1;34m\u001b[0m\n\u001b[0;32m     18\u001b[0m   \u001b[0mconnection\u001b[0m\u001b[1;33m.\u001b[0m\u001b[0mclose\u001b[0m\u001b[1;33m(\u001b[0m\u001b[1;33m)\u001b[0m\u001b[1;33m\u001b[0m\u001b[1;33m\u001b[0m\u001b[0m\n\u001b[0;32m     19\u001b[0m \u001b[1;33m\u001b[0m\u001b[0m\n\u001b[1;32m---> 20\u001b[1;33m \u001b[0mCreate_Table\u001b[0m\u001b[1;33m(\u001b[0m\u001b[1;33m)\u001b[0m\u001b[1;33m\u001b[0m\u001b[1;33m\u001b[0m\u001b[0m\n\u001b[0m",
      "\u001b[1;32m<ipython-input-5-b652e7a747c0>\u001b[0m in \u001b[0;36mCreate_Table\u001b[1;34m()\u001b[0m\n\u001b[0;32m     13\u001b[0m \u001b[1;33m\u001b[0m\u001b[0m\n\u001b[0;32m     14\u001b[0m   \u001b[1;31m# execute the statement\u001b[0m\u001b[1;33m\u001b[0m\u001b[1;33m\u001b[0m\u001b[1;33m\u001b[0m\u001b[0m\n\u001b[1;32m---> 15\u001b[1;33m   \u001b[0mcrsr\u001b[0m\u001b[1;33m.\u001b[0m\u001b[0mexecute\u001b[0m\u001b[1;33m(\u001b[0m\u001b[0msql_command\u001b[0m\u001b[1;33m)\u001b[0m\u001b[1;33m\u001b[0m\u001b[1;33m\u001b[0m\u001b[0m\n\u001b[0m\u001b[0;32m     16\u001b[0m \u001b[1;33m\u001b[0m\u001b[0m\n\u001b[0;32m     17\u001b[0m   \u001b[1;31m# close the connection\u001b[0m\u001b[1;33m\u001b[0m\u001b[1;33m\u001b[0m\u001b[1;33m\u001b[0m\u001b[0m\n",
      "\u001b[1;31mOperationalError\u001b[0m: table emp already exists"
     ]
    }
   ],
   "source": [
    "def Create_Table():\n",
    "  # connecting to the database\n",
    "  connection = sqlite3.connect(\"Demo_DataBase.db\")\n",
    "\n",
    "  # cursor\n",
    "  crsr = connection.cursor()\n",
    "  # SQL command to create a table in the database DDL\n",
    "\n",
    "  sql_command = \"\"\"CREATE TABLE emp (\n",
    "  staff_number INTEGER PRIMARY KEY,\n",
    "  fname VARCHAR(20),\n",
    "  lname VARCHAR(30));\"\"\"\n",
    "\n",
    "  # execute the statement\n",
    "  crsr.execute(sql_command)\n",
    "\n",
    "  # close the connection\n",
    "  connection.close()\n",
    "    \n",
    "Create_Table()"
   ]
  },
  {
   "cell_type": "code",
   "execution_count": 2,
   "id": "04883c85",
   "metadata": {},
   "outputs": [
    {
     "ename": "NameError",
     "evalue": "name 'sqlite3' is not defined",
     "output_type": "error",
     "traceback": [
      "\u001b[1;31m---------------------------------------------------------------------------\u001b[0m",
      "\u001b[1;31mNameError\u001b[0m                                 Traceback (most recent call last)",
      "\u001b[1;32m<ipython-input-2-37fb339389ef>\u001b[0m in \u001b[0;36m<module>\u001b[1;34m\u001b[0m\n\u001b[0;32m     26\u001b[0m   \u001b[0mconnection\u001b[0m\u001b[1;33m.\u001b[0m\u001b[0mclose\u001b[0m\u001b[1;33m(\u001b[0m\u001b[1;33m)\u001b[0m\u001b[1;33m\u001b[0m\u001b[1;33m\u001b[0m\u001b[0m\n\u001b[0;32m     27\u001b[0m \u001b[1;33m\u001b[0m\u001b[0m\n\u001b[1;32m---> 28\u001b[1;33m \u001b[0mInsert_Data\u001b[0m\u001b[1;33m(\u001b[0m\u001b[1;33m)\u001b[0m\u001b[1;33m\u001b[0m\u001b[1;33m\u001b[0m\u001b[0m\n\u001b[0m",
      "\u001b[1;32m<ipython-input-2-37fb339389ef>\u001b[0m in \u001b[0;36mInsert_Data\u001b[1;34m()\u001b[0m\n\u001b[0;32m      1\u001b[0m \u001b[1;32mdef\u001b[0m \u001b[0mInsert_Data\u001b[0m\u001b[1;33m(\u001b[0m\u001b[1;33m)\u001b[0m\u001b[1;33m:\u001b[0m\u001b[1;33m\u001b[0m\u001b[1;33m\u001b[0m\u001b[0m\n\u001b[0;32m      2\u001b[0m   \u001b[1;31m# connecting to the database\u001b[0m\u001b[1;33m\u001b[0m\u001b[1;33m\u001b[0m\u001b[1;33m\u001b[0m\u001b[0m\n\u001b[1;32m----> 3\u001b[1;33m   \u001b[0mconnection\u001b[0m \u001b[1;33m=\u001b[0m \u001b[0msqlite3\u001b[0m\u001b[1;33m.\u001b[0m\u001b[0mconnect\u001b[0m\u001b[1;33m(\u001b[0m\u001b[1;34m\"Demo_DataBase.db\"\u001b[0m\u001b[1;33m)\u001b[0m\u001b[1;33m\u001b[0m\u001b[1;33m\u001b[0m\u001b[0m\n\u001b[0m\u001b[0;32m      4\u001b[0m \u001b[1;33m\u001b[0m\u001b[0m\n\u001b[0;32m      5\u001b[0m   \u001b[1;31m# cursor\u001b[0m\u001b[1;33m\u001b[0m\u001b[1;33m\u001b[0m\u001b[1;33m\u001b[0m\u001b[0m\n",
      "\u001b[1;31mNameError\u001b[0m: name 'sqlite3' is not defined"
     ]
    }
   ],
   "source": [
    "def Insert_Data():\n",
    "  # connecting to the database\n",
    "  connection = sqlite3.connect(\"Demo_DataBase.db\")\n",
    "\n",
    "  # cursor\n",
    "  crsr = connection.cursor()\n",
    "\n",
    "  # SQL command to insert the data in the table\n",
    "  sql_command = \"\"\"INSERT INTO emp VALUES (23, \"Rishabh\",\"Bansal\");\"\"\"\n",
    "  crsr.execute(sql_command)\n",
    "\n",
    "  # another SQL command to insert the data in the table\n",
    "  sql_command = \"\"\"INSERT INTO emp VALUES (1, \"Bill\", \"Gates\");\"\"\"\n",
    "  crsr.execute(sql_command)\n",
    "\n",
    "  # To save the changes in the files. Never skip this.\n",
    "  # another SQL command to insert the data in the table\n",
    "  sql_command = \"\"\"INSERT INTO emp VALUES (3, \"Jeff\", \"Bezoz\");\"\"\"\n",
    "  crsr.execute(sql_command)\n",
    "\n",
    "  # To save the changes in the files. Never skip this.\n",
    "  # If we skip this, nothing will be saved in the database.\n",
    "  connection.commit()\n",
    "\n",
    "  # close the connection\n",
    "  connection.close()\n",
    "\n",
    "Insert_Data()"
   ]
  },
  {
   "cell_type": "code",
   "execution_count": 3,
   "id": "78e091a9",
   "metadata": {},
   "outputs": [
    {
     "ename": "NameError",
     "evalue": "name 'sqlite3' is not defined",
     "output_type": "error",
     "traceback": [
      "\u001b[1;31m---------------------------------------------------------------------------\u001b[0m",
      "\u001b[1;31mNameError\u001b[0m                                 Traceback (most recent call last)",
      "\u001b[1;32m<ipython-input-3-7b6dc03edc5b>\u001b[0m in \u001b[0;36m<module>\u001b[1;34m\u001b[0m\n\u001b[0;32m     16\u001b[0m   \u001b[0mconn\u001b[0m\u001b[1;33m.\u001b[0m\u001b[0mclose\u001b[0m\u001b[1;33m(\u001b[0m\u001b[1;33m)\u001b[0m\u001b[1;33m\u001b[0m\u001b[1;33m\u001b[0m\u001b[0m\n\u001b[0;32m     17\u001b[0m \u001b[1;33m\u001b[0m\u001b[0m\n\u001b[1;32m---> 18\u001b[1;33m \u001b[0mUpdate_Data\u001b[0m\u001b[1;33m(\u001b[0m\u001b[1;33m)\u001b[0m\u001b[1;33m\u001b[0m\u001b[1;33m\u001b[0m\u001b[0m\n\u001b[0m",
      "\u001b[1;32m<ipython-input-3-7b6dc03edc5b>\u001b[0m in \u001b[0;36mUpdate_Data\u001b[1;34m()\u001b[0m\n\u001b[0;32m      1\u001b[0m \u001b[1;32mdef\u001b[0m \u001b[0mUpdate_Data\u001b[0m\u001b[1;33m(\u001b[0m\u001b[1;33m)\u001b[0m\u001b[1;33m:\u001b[0m\u001b[1;33m\u001b[0m\u001b[1;33m\u001b[0m\u001b[0m\n\u001b[0;32m      2\u001b[0m   \u001b[1;31m# Connecting to sqlite\u001b[0m\u001b[1;33m\u001b[0m\u001b[1;33m\u001b[0m\u001b[1;33m\u001b[0m\u001b[0m\n\u001b[1;32m----> 3\u001b[1;33m   \u001b[0mconn\u001b[0m \u001b[1;33m=\u001b[0m \u001b[0msqlite3\u001b[0m\u001b[1;33m.\u001b[0m\u001b[0mconnect\u001b[0m\u001b[1;33m(\u001b[0m\u001b[1;34m'Demo_DataBase.db'\u001b[0m\u001b[1;33m)\u001b[0m\u001b[1;33m\u001b[0m\u001b[1;33m\u001b[0m\u001b[0m\n\u001b[0m\u001b[0;32m      4\u001b[0m \u001b[1;33m\u001b[0m\u001b[0m\n\u001b[0;32m      5\u001b[0m   \u001b[1;31m# Creating a cursor object using\u001b[0m\u001b[1;33m\u001b[0m\u001b[1;33m\u001b[0m\u001b[1;33m\u001b[0m\u001b[0m\n",
      "\u001b[1;31mNameError\u001b[0m: name 'sqlite3' is not defined"
     ]
    }
   ],
   "source": [
    "def Update_Data():\n",
    "  # Connecting to sqlite\n",
    "  conn = sqlite3.connect('Demo_DataBase.db')\n",
    "\n",
    "  # Creating a cursor object using\n",
    "  # the cursor() method\n",
    "  cursor = conn.cursor()\n",
    "\n",
    "  # Updating\n",
    "  cursor.execute('''UPDATE emp SET lname = \"Jyoti\" WHERE fname=\"Rishabh\";''')\n",
    "\n",
    "  # Commit your changes in the database\n",
    "  conn.commit()\n",
    "\n",
    "  # Closing the connection\n",
    "  conn.close()\n",
    "\n",
    "Update_Data()"
   ]
  },
  {
   "cell_type": "code",
   "execution_count": 24,
   "id": "94b16210",
   "metadata": {},
   "outputs": [],
   "source": [
    "def Delete_Data():\n",
    "  # Connecting to sqlite\n",
    "  conn = sqlite3.connect('Demo_DataBase.db')\n",
    "\n",
    "  # Creating a cursor object using\n",
    "  # the cursor() method\n",
    "  cursor = conn.cursor()\n",
    "\n",
    "  # Updating\n",
    "  cursor.execute('''DELETE FROM emp WHERE fname=\"Rishabh\";''')\n",
    "\n",
    "  # Commit your changes in the database\n",
    "  conn.commit()\n",
    "\n",
    "  # Closing the connection\n",
    "  conn.close()\n",
    "\n",
    "Delete_Data()"
   ]
  },
  {
   "cell_type": "code",
   "execution_count": 30,
   "id": "eddf5241",
   "metadata": {},
   "outputs": [],
   "source": [
    "def Display_Data():\n",
    "  # connect withe the myTable database\n",
    "  connection = sqlite3.connect(\"Demo_DataBase.db\")\n",
    "\n",
    "  # cursor object\n",
    "  crsr = connection.cursor()\n",
    "\n",
    "  # execute the command to fetch all the data from the table emp\n",
    "  crsr.execute(\"SELECT * FROM emp\")\n",
    " # store all the fetched data in the ans variable\n",
    "  ans = crsr.fetchall()\n",
    "\n",
    "  # Since we have already selected all the data entries\n",
    "  # using the \"SELECT *\" SQL command and stored them in\n",
    "  # the ans variable, all we need to do now is to print\n",
    "  # out the ans variable\n",
    "  for i in ans:\n",
    "    print(i)"
   ]
  },
  {
   "cell_type": "code",
   "execution_count": 31,
   "id": "5d0f911a",
   "metadata": {},
   "outputs": [
    {
     "name": "stdout",
     "output_type": "stream",
     "text": [
      "(1, 'Bill', 'Gates')\n",
      "(3, 'Jeff', 'Bezoz')\n",
      "(23, 'Rishabh', 'Jyoti')\n"
     ]
    }
   ],
   "source": [
    "Display_Data()"
   ]
  },
  {
   "cell_type": "code",
   "execution_count": null,
   "id": "dc21650b",
   "metadata": {},
   "outputs": [],
   "source": []
  }
 ],
 "metadata": {
  "kernelspec": {
   "display_name": "Python 3",
   "language": "python",
   "name": "python3"
  },
  "language_info": {
   "codemirror_mode": {
    "name": "ipython",
    "version": 3
   },
   "file_extension": ".py",
   "mimetype": "text/x-python",
   "name": "python",
   "nbconvert_exporter": "python",
   "pygments_lexer": "ipython3",
   "version": "3.8.8"
  }
 },
 "nbformat": 4,
 "nbformat_minor": 5
}
