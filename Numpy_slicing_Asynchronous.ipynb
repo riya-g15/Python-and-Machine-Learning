{
 "cells": [
  {
   "cell_type": "code",
   "execution_count": 38,
   "id": "ad752ff2",
   "metadata": {},
   "outputs": [
    {
     "name": "stdout",
     "output_type": "stream",
     "text": [
      "[1 2 3 4 5]\n",
      "1\n",
      "3\n"
     ]
    }
   ],
   "source": [
    "import numpy as np\n",
    "\n",
    "arr1 = np.array([1,2,3,4,5])\n",
    "\n",
    "print(arr1)  \n",
    "print(arr1[0])\n",
    "print(arr1[2]) "
   ]
  },
  {
   "cell_type": "code",
   "execution_count": 47,
   "id": "35ef58c9",
   "metadata": {},
   "outputs": [
    {
     "name": "stdout",
     "output_type": "stream",
     "text": [
      "(3, 3)\n",
      "\n",
      " [[ 3  1  4]\n",
      " [ 4 11  5]\n",
      " [ 8 67  9]]\n"
     ]
    }
   ],
   "source": [
    "arr2 = np.array([[3,1,4],\n",
    "              [4,11,5],\n",
    "              [8,67,9]])\n",
    "print(arr2.shape)\n",
    "print('\\n', arr2)"
   ]
  },
  {
   "cell_type": "code",
   "execution_count": 48,
   "id": "c0899f40",
   "metadata": {},
   "outputs": [
    {
     "name": "stdout",
     "output_type": "stream",
     "text": [
      "67\n",
      "4\n",
      "9\n"
     ]
    }
   ],
   "source": [
    "\n",
    "print(arr2[2, 1])\n",
    "print(arr2[1, 0])\n",
    "print(arr2[2, 2])"
   ]
  },
  {
   "cell_type": "code",
   "execution_count": null,
   "id": "f5d5e4d8",
   "metadata": {},
   "outputs": [],
   "source": []
  },
  {
   "cell_type": "code",
   "execution_count": 49,
   "id": "408e7ea2",
   "metadata": {},
   "outputs": [
    {
     "name": "stdout",
     "output_type": "stream",
     "text": [
      "[[11]\n",
      " [67]]\n"
     ]
    }
   ],
   "source": [
    "#slicing 2D array\n",
    "print(arr2[1:,1:2])\n"
   ]
  },
  {
   "cell_type": "code",
   "execution_count": 50,
   "id": "07c25071",
   "metadata": {},
   "outputs": [
    {
     "data": {
      "text/plain": [
       "array([[4],\n",
       "       [8]])"
      ]
     },
     "execution_count": 50,
     "metadata": {},
     "output_type": "execute_result"
    }
   ],
   "source": [
    "#negative slicing\n",
    "arr2[-2:,0:1]"
   ]
  },
  {
   "cell_type": "code",
   "execution_count": null,
   "id": "ec53b9fb",
   "metadata": {},
   "outputs": [],
   "source": []
  },
  {
   "cell_type": "code",
   "execution_count": 51,
   "id": "fe0eb6ff",
   "metadata": {},
   "outputs": [
    {
     "data": {
      "text/plain": [
       "array([[11],\n",
       "       [67]])"
      ]
     },
     "execution_count": 51,
     "metadata": {},
     "output_type": "execute_result"
    }
   ],
   "source": [
    "arr2[-2:,1:2]"
   ]
  },
  {
   "cell_type": "code",
   "execution_count": null,
   "id": "2c460838",
   "metadata": {},
   "outputs": [],
   "source": [
    " #NEGATIVE SLICING IS POSSIBLE IN N-DIMENSIONAL ARRAY"
   ]
  }
 ],
 "metadata": {
  "kernelspec": {
   "display_name": "Python 3",
   "language": "python",
   "name": "python3"
  },
  "language_info": {
   "codemirror_mode": {
    "name": "ipython",
    "version": 3
   },
   "file_extension": ".py",
   "mimetype": "text/x-python",
   "name": "python",
   "nbconvert_exporter": "python",
   "pygments_lexer": "ipython3",
   "version": "3.8.8"
  }
 },
 "nbformat": 4,
 "nbformat_minor": 5
}
