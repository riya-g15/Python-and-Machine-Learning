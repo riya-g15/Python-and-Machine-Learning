{
 "cells": [
  {
   "cell_type": "code",
   "execution_count": 15,
   "id": "c6818dae",
   "metadata": {},
   "outputs": [
    {
     "name": "stdout",
     "output_type": "stream",
     "text": [
      "This person has initials RG:  Riya Goyal\n",
      "Riya could be a possible murderer because the name started with Ri\n",
      "\n",
      "Rahil Khan cannot be a possile murderer \n",
      "\n",
      "Raina Malisha cannot be a possile murderer \n",
      "\n",
      "This person has initials RG:  Rohan Garg\n",
      "Rohan cannot be a possible murderer \n",
      "\n",
      "Rathipriya Mohan cannot be a possile murderer \n",
      "\n",
      "Reddy Fernandes cannot be a possile murderer \n",
      "\n",
      "This person has initials RG:  Rithika Gupta\n",
      "Rithika could be a possible murderer because the name started with Ri\n",
      "\n"
     ]
    }
   ],
   "source": [
    "#suppose we know that the murderer is person with initials RG\n",
    "#and the first name has letters 'Ri'\n",
    "#we search for the possible murderers\n",
    "\n",
    "import regex as re;\n",
    "\n",
    "list1 = [\"Riya Goyal\", \"Rahil Khan\", \"Raina Malisha\",\"Rohan Garg\", \"Rathipriya Mohan\", \"Reddy Fernandes\", \"Rithika Gupta\"]\n",
    "\n",
    "for element in list1:\n",
    "    z = re.match(\"(R\\w+)\\s(G\\w+)\", element)\n",
    "    if z:\n",
    "        print(\"This person has initials RG: \", z.group())\n",
    "        y= z.group(1)\n",
    "        x= re.match(\"(Ri\\w+)\",y)\n",
    "        if x:\n",
    "            print(x.group(), \"could be a possible murderer because the name started with Ri\\n\")\n",
    "        else:\n",
    "            print(z.group(1), \"cannot be a possible murderer \\n\")\n",
    "    else:\n",
    "        print(element, \"cannot be a possile murderer \\n\")"
   ]
  },
  {
   "cell_type": "code",
   "execution_count": 103,
   "id": "baac6c0d-2232-487a-ad4e-ad133befb0af",
   "metadata": {},
   "outputs": [
    {
     "name": "stdout",
     "output_type": "stream",
     "text": [
      "Original code received:  if89bbjt89bbifsf89bbup89bbljmm89bbnf.\n",
      "\n",
      " ['if', 'jt', 'ifsf', 'up', 'ljmm', 'nf.']\n",
      "\n",
      "\n",
      "if.jt.ifsf.up.ljmm.nf.\n",
      "\n",
      "The decoded sentence is:  he-is-here-to-kill-me-\n",
      "Refined decoded sentence:  he is here to kill me \n"
     ]
    }
   ],
   "source": [
    "#To split a paragraph into sentences where 89bb is printed instead of full stop\n",
    "\n",
    "str1 ='if89bbjt89bbifsf89bbup89bbljmm89bbnf.'\n",
    "print (\"Original code received: \", str1)\n",
    "\n",
    "#refining the string\n",
    "\n",
    "x = re.split(\"89bb\", str1)\n",
    "print('\\n',x)\n",
    "\n",
    "#To refine the code further\n",
    "print('\\n')\n",
    "y = re.sub('89bb',\".\", str1)\n",
    "print(y)\n",
    "\n",
    "#To decode the string\n",
    "new_string = ''.join(chr(ord(char)-1) for char in y) \n",
    "\n",
    "print('\\nThe decoded sentence is: ',new_string) \n",
    "\n",
    "#Refining further\n",
    "y = re.sub('-',\" \",new_string)\n",
    "print(\"Refined decoded sentence: \",y)"
   ]
  },
  {
   "cell_type": "code",
   "execution_count": 122,
   "id": "00cff093",
   "metadata": {},
   "outputs": [
    {
     "name": "stdout",
     "output_type": "stream",
     "text": [
      "riyagoyal\n",
      "hdfcbank\n",
      "This could be the UPI ID of the murderer:  riyagoyal@okhdfcbank \n",
      "\n",
      "rimin\n",
      "hdfcbank\n",
      "This could be the UPI ID of the murderer:  rimin@okhdfcbank \n",
      "\n"
     ]
    }
   ],
   "source": [
    "#For the final 2 names, we know that the murderer has a bank account in\n",
    "#hdfc bank because we found a bill near dead body\n",
    "#hence, let's get to the final killer\n",
    "\n",
    "list1=(\"riyagoyal@okhdfcbank\", \"rithika@okaxis\",\"ramesh@okunion\", \"rimin@okhdfcbank\", \"rashika@okaxis\")\n",
    "patt = \"(\\w+)@[ok]+(hdfcbank)\"\n",
    "for i in list1:\n",
    "    upi = re.match(patt,i)\n",
    "    if upi:\n",
    "        #for Printing name and bank name \n",
    "        patte = \"(?P<username>\\w+)@[ok]+(?P<bankname>hdfcbank|axis|union)\"\n",
    "        upi1=re.match(patte,i)\n",
    "        print(upi1.group('username'))\n",
    "        print(upi1.group('bankname'))\n",
    "        print(\"This could be the UPI ID of the murderer: \",upi.group(),'\\n')"
   ]
  },
  {
   "cell_type": "code",
   "execution_count": null,
   "id": "49eeaa08-b5d4-4a96-ac9c-e5f8df9ecefd",
   "metadata": {},
   "outputs": [],
   "source": []
  },
  {
   "cell_type": "code",
   "execution_count": null,
   "id": "85bc3a15",
   "metadata": {},
   "outputs": [],
   "source": []
  },
  {
   "cell_type": "code",
   "execution_count": 31,
   "id": "2c1f0698",
   "metadata": {},
   "outputs": [
    {
     "name": "stdout",
     "output_type": "stream",
     "text": [
      "3 ['ain', 'ain', 'ain']\n",
      "2 ['ain', 'ain']\n"
     ]
    }
   ],
   "source": [
    "# Compile() to repeat the search of a pattern in different inputs\n",
    "\n",
    "patt1 =re.compile('ain') \n",
    "result1=patt1.findall('The main plan was to train the brain to make it more smart')\n",
    "print(result1.count('ain'), result1)\n",
    "result2=patt1.findall('Bain consulting conpany plans to gain profit through its individuals')\n",
    "print(result2.count('ain'),result2)"
   ]
  },
  {
   "cell_type": "code",
   "execution_count": 101,
   "id": "5c86bf22",
   "metadata": {},
   "outputs": [
    {
     "name": "stdout",
     "output_type": "stream",
     "text": [
      "Original code received:  if89bbjt89bbifsf89bbup89bbljmm89bbnf.\n",
      "\n",
      " ['if', 'jt', 'ifsf', 'up', 'ljmm', 'nf.']\n",
      "\n",
      "\n",
      "if.jt.ifsf.up.ljmm.nf.\n",
      "\n",
      "The decoded sentence is:  he-is-here-to-kill-me-\n",
      "Refined decoded sentence:  he is here to kill me \n"
     ]
    }
   ],
   "source": [
    "\n",
    "    \n"
   ]
  },
  {
   "cell_type": "code",
   "execution_count": 97,
   "id": "ee340075",
   "metadata": {},
   "outputs": [
    {
     "name": "stdout",
     "output_type": "stream",
     "text": [
      "['all', 'all']\n",
      "Match found!\n"
     ]
    }
   ],
   "source": [
    "txt = \"print('\\nThe decoded sentence is: ',new_string) !\"\n",
    "\n",
    "#Check if the string contains \"a\" followed by exactly two \"l\" characters:\n",
    "\n",
    "x = re.findall(\"al{2}\", txt)\n",
    "\n",
    "print(x)\n",
    "\n",
    "if x:\n",
    "    print(\"Match found!\")\n",
    "else:\n",
    "    print(\"No match\")"
   ]
  },
  {
   "cell_type": "code",
   "execution_count": null,
   "id": "4371ab5f",
   "metadata": {},
   "outputs": [],
   "source": []
  }
 ],
 "metadata": {
  "kernelspec": {
   "display_name": "Python 3",
   "language": "python",
   "name": "python3"
  },
  "language_info": {
   "codemirror_mode": {
    "name": "ipython",
    "version": 3
   },
   "file_extension": ".py",
   "mimetype": "text/x-python",
   "name": "python",
   "nbconvert_exporter": "python",
   "pygments_lexer": "ipython3",
   "version": "3.8.8"
  }
 },
 "nbformat": 4,
 "nbformat_minor": 5
}
