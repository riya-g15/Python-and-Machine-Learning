{
 "cells": [
  {
   "cell_type": "markdown",
   "id": "014b68d4",
   "metadata": {},
   "source": [
    "# Practice program:\n",
    "    \n",
    "    "
   ]
  },
  {
   "cell_type": "code",
   "execution_count": 2,
   "id": "49d97878",
   "metadata": {},
   "outputs": [
    {
     "name": "stdout",
     "output_type": "stream",
     "text": [
      "7\n",
      "6\n",
      "5\n",
      "4\n",
      "3\n",
      "2\n",
      "1\n"
     ]
    }
   ],
   "source": [
    "#recursive function 1\n",
    "\n",
    "def count_down(start):\n",
    "    #Count down from a number\n",
    "    print(start)\n",
    "    \n",
    "    # call the count_down if the next number is greater than 0\n",
    "    next = start - 1\n",
    "    if next > 0:\n",
    "        count_down(next)\n",
    "\n",
    "\n",
    "count_down(7)"
   ]
  },
  {
   "cell_type": "code",
   "execution_count": 11,
   "id": "2a5d35ed",
   "metadata": {},
   "outputs": [
    {
     "name": "stdout",
     "output_type": "stream",
     "text": [
      "96\n"
     ]
    }
   ],
   "source": [
    "# using lambda function to do the some operation 1 line of code\n",
    "f = lambda x,y,z: x**y+3*z\n",
    "print(f(3,4,5))"
   ]
  },
  {
   "cell_type": "code",
   "execution_count": 12,
   "id": "5ec31215",
   "metadata": {},
   "outputs": [
    {
     "name": "stdout",
     "output_type": "stream",
     "text": [
      "Names of your friends are:  Riya Priya Lara\n",
      "None\n"
     ]
    }
   ],
   "source": [
    "# using lambda function to do the some operation 1 line of code\n",
    "f = lambda x,y,z: print(\"Names of your friends are: \",  x,y,z)\n",
    "print(f(\"Riya\", \"Priya\", \"Lara\"))"
   ]
  },
  {
   "cell_type": "code",
   "execution_count": 43,
   "id": "85a77641",
   "metadata": {},
   "outputs": [
    {
     "data": {
      "text/plain": [
       "False"
      ]
     },
     "execution_count": 43,
     "metadata": {},
     "output_type": "execute_result"
    }
   ],
   "source": [
    "#recursive function 1\n",
    "def findpalindrome(s):\n",
    "    \n",
    " \n",
    "    i = 0\n",
    "    j = len(s) - 1\n",
    "    while i < j:\n",
    "        if s[i] != s[j]:\n",
    "            return False\n",
    "        i = i + 1\n",
    "        j = j - 1\n",
    " \n",
    "    return True\n",
    " \n",
    " \n",
    "findpalindrome(\"Riyayaya\")\n",
    "        "
   ]
  },
  {
   "cell_type": "code",
   "execution_count": 60,
   "id": "d771fe18",
   "metadata": {},
   "outputs": [
    {
     "name": "stdout",
     "output_type": "stream",
     "text": [
      "First item\n",
      "Second item\n",
      "Last item\n"
     ]
    },
    {
     "data": {
      "text/plain": [
       "30"
      ]
     },
     "execution_count": 60,
     "metadata": {},
     "output_type": "execute_result"
    }
   ],
   "source": [
    "def mygenerator():\n",
    "    print('First item')\n",
    "    yield 10\n",
    "\n",
    "    print('Second item')\n",
    "    yield 20\n",
    "\n",
    "    print('Last item')\n",
    "    yield 30\n",
    "    \n",
    "g=gen()\n",
    "next(g)\n",
    "next(g)\n",
    "next(g)"
   ]
  },
  {
   "cell_type": "code",
   "execution_count": 74,
   "id": "6932c4c8",
   "metadata": {},
   "outputs": [
    {
     "data": {
      "text/plain": [
       "2"
      ]
     },
     "execution_count": 74,
     "metadata": {},
     "output_type": "execute_result"
    }
   ],
   "source": [
    "def get_sequence_upto(x):\n",
    "    for i in range(x):\n",
    "        yield i\n",
    "        i+=1\n",
    "s= get_sequence_upto(6)\n",
    "next(s)\n",
    "next(s)\n",
    "next(s)"
   ]
  },
  {
   "cell_type": "code",
   "execution_count": null,
   "id": "b20e0c37",
   "metadata": {},
   "outputs": [],
   "source": []
  }
 ],
 "metadata": {
  "kernelspec": {
   "display_name": "Python 3",
   "language": "python",
   "name": "python3"
  },
  "language_info": {
   "codemirror_mode": {
    "name": "ipython",
    "version": 3
   },
   "file_extension": ".py",
   "mimetype": "text/x-python",
   "name": "python",
   "nbconvert_exporter": "python",
   "pygments_lexer": "ipython3",
   "version": "3.8.8"
  }
 },
 "nbformat": 4,
 "nbformat_minor": 5
}
