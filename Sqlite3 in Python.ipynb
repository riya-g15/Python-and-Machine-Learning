{
 "cells": [
  {
   "cell_type": "code",
   "execution_count": 30,
   "id": "bf75b008-8e8a-4c35-8699-267a32615599",
   "metadata": {},
   "outputs": [
    {
     "name": "stdout",
     "output_type": "stream",
     "text": [
      "Connected to the Fashion database\n"
     ]
    }
   ],
   "source": [
    "import sqlite3\n",
    "\n",
    "def connect():    \n",
    "    global connection \n",
    "    global crsr\n",
    "    # connecting to the database\n",
    "    connection = sqlite3.connect(\"Fashion.db\")\n",
    "    \n",
    "    # cursor\n",
    "    crsr = connection.cursor()\n",
    "\n",
    "    # print statement will execute if there are no errors\n",
    "    print(\"Connected to the Fashion database\")\n",
    "    \n",
    "connect()"
   ]
  },
  {
   "cell_type": "code",
   "execution_count": 14,
   "id": "5e9b827f-2db4-469b-b98d-091ee588c905",
   "metadata": {},
   "outputs": [],
   "source": [
    "def createtable():\n",
    "  \n",
    "    # SQL command to create a table in the database DDL\n",
    "\n",
    "    com1= \"\"\"CREATE TABLE VENDOR\n",
    "    (V_ID CHAR(6) CONSTRAINT PK1 PRIMARY KEY,\n",
    "    NAME VARCHAR(14) CONSTRAINT NN1 NOT NULL,\n",
    "    NO_OF_PRODUCTS NUMBER(4) CONSTRAINT CHNN1 CHECK (NO_OF_PRODUCTS >=1) NOT NULL,\n",
    "    ADHAAR_CARD_NO CHAR(12) CONSTRAINT NNU1 NOT NULL UNIQUE,\n",
    "    DATE_OF_JOINING DATE,\n",
    "    PINCODE VARCHAR(6) CONSTRAINT NN2 NOT NULL,\n",
    "    CITY VARCHAR(15) CONSTRAINT NN3 NOT NULL);\"\"\"\n",
    "\n",
    "    # execute the statement\n",
    "    crsr.execute(com1)\n",
    "\n",
    "    # close the connection\n",
    "    connection.close()\n",
    "    \n",
    "createtable()"
   ]
  },
  {
   "cell_type": "code",
   "execution_count": 16,
   "id": "f8b0b2eb-9f03-4f70-a62c-f0aead774dd8",
   "metadata": {},
   "outputs": [],
   "source": [
    "def Insert():\n",
    "    # connecting to the database\n",
    "    connection = sqlite3.connect(\"Fashion.db\")\n",
    "    \n",
    "    #cursor\n",
    "    crsr = connection.cursor()\n",
    "\n",
    "    # SQL command to insert the data in the table\n",
    "    com1 = \"\"\"INSERT INTO VENDOR VALUES('191804','Dhiraj',2,'976352436676', '12-FEB-2003' ,'201010','Delhi');\"\"\"\n",
    "    crsr.execute(com1)\n",
    "    \n",
    "    # another SQL command to insert the data in the table\n",
    "    com2 = \"\"\"INSERT INTO VENDOR VALUES('191805','Paresh',3,'976352436677', '22-MAR-2001' ,'201011','Kanpur')\"\"\"\n",
    "    crsr.execute(com2)\n",
    "\n",
    "    # another SQL command to insert the data in the table\n",
    "    com3 = \"\"\"INSERT INTO VENDOR VALUES('191806','Sunita',4,'976352436678', '5-NOV-2003' ,'201012','Alwar');\"\"\"\n",
    "    crsr.execute(com3)\n",
    "    \n",
    "    # another SQL command to insert the data in the table\n",
    "    com4= \"\"\"INSERT INTO VENDOR VALUES('191807','Raghvi',2,'976352436679', '9-DEC-2002' ,'201022','Ghaziabad');\"\"\"\n",
    "    crsr.execute(com4)\n",
    "    \n",
    "    # another SQL command to insert the data in the table\n",
    "    com5=\"\"\"INSERT INTO VENDOR VALUES('191808','Hrithik',1,'976352436670', '17-JAN-2004' ,'201010','Delhi');\"\"\"\n",
    "    crsr.execute(com5)\n",
    "\n",
    "    # To save the changes in the files.\n",
    "\n",
    "    connection.commit()\n",
    "\n",
    "    # close the connection\n",
    "    connection.close()\n",
    "\n",
    "Insert()\n"
   ]
  },
  {
   "cell_type": "code",
   "execution_count": 31,
   "id": "d6c322b6-9c57-4ef4-b30a-13ae2c4107b8",
   "metadata": {},
   "outputs": [
    {
     "ename": "OperationalError",
     "evalue": "database is locked",
     "output_type": "error",
     "traceback": [
      "\u001b[1;31m---------------------------------------------------------------------------\u001b[0m",
      "\u001b[1;31mOperationalError\u001b[0m                          Traceback (most recent call last)",
      "\u001b[1;32m<ipython-input-31-cc2e8bf0efed>\u001b[0m in \u001b[0;36m<module>\u001b[1;34m\u001b[0m\n\u001b[0;32m     13\u001b[0m     \u001b[0mconnection\u001b[0m\u001b[1;33m.\u001b[0m\u001b[0mcommit\u001b[0m\u001b[1;33m(\u001b[0m\u001b[1;33m)\u001b[0m\u001b[1;33m\u001b[0m\u001b[1;33m\u001b[0m\u001b[0m\n\u001b[0;32m     14\u001b[0m \u001b[1;33m\u001b[0m\u001b[0m\n\u001b[1;32m---> 15\u001b[1;33m \u001b[0mUpdate_Data\u001b[0m\u001b[1;33m(\u001b[0m\u001b[1;33m)\u001b[0m\u001b[1;33m\u001b[0m\u001b[1;33m\u001b[0m\u001b[0m\n\u001b[0m",
      "\u001b[1;32m<ipython-input-31-cc2e8bf0efed>\u001b[0m in \u001b[0;36mUpdate_Data\u001b[1;34m()\u001b[0m\n\u001b[0;32m      8\u001b[0m \u001b[1;33m\u001b[0m\u001b[0m\n\u001b[0;32m      9\u001b[0m     \u001b[1;31m# Updating\u001b[0m\u001b[1;33m\u001b[0m\u001b[1;33m\u001b[0m\u001b[1;33m\u001b[0m\u001b[0m\n\u001b[1;32m---> 10\u001b[1;33m     \u001b[0mcrsr\u001b[0m\u001b[1;33m.\u001b[0m\u001b[0mexecute\u001b[0m\u001b[1;33m(\u001b[0m\u001b[1;34m'''UPDATE VENDOR SET  PINCODE='201012' AND CITY='Alwar' where NAME=\"Hrithik\";'''\u001b[0m\u001b[1;33m)\u001b[0m\u001b[1;33m\u001b[0m\u001b[1;33m\u001b[0m\u001b[0m\n\u001b[0m\u001b[0;32m     11\u001b[0m \u001b[1;33m\u001b[0m\u001b[0m\n\u001b[0;32m     12\u001b[0m     \u001b[1;31m#Commit your changes in the database\u001b[0m\u001b[1;33m\u001b[0m\u001b[1;33m\u001b[0m\u001b[1;33m\u001b[0m\u001b[0m\n",
      "\u001b[1;31mOperationalError\u001b[0m: database is locked"
     ]
    }
   ],
   "source": [
    "def Update_Data():\n",
    "    \n",
    "    # connecting to the database\n",
    "    connection = sqlite3.connect(\"Fashion.db\")\n",
    "    \n",
    "    #cursor\n",
    "    crsr = connection.cursor()\n",
    "\n",
    "    # Updating\n",
    "    crsr.execute('''UPDATE VENDOR SET  PINCODE='201012' AND CITY='Alwar' where NAME=\"Hrithik\";''')\n",
    "\n",
    "    #Commit your changes in the database\n",
    "    connection.commit()\n",
    "\n",
    "Update_Data()"
   ]
  },
  {
   "cell_type": "code",
   "execution_count": 5,
   "id": "d4c6e72c-79f5-489c-b410-f36f1f126dfd",
   "metadata": {},
   "outputs": [],
   "source": [
    "def Delete_Data():\n",
    "  # Connecting to sqlite\n",
    "  conn = sqlite3.connect('Demo_DataBase.db')\n",
    "\n",
    "  # Creating a cursor object using\n",
    "  # the cursor() method\n",
    "  cursor = conn.cursor()\n",
    "\n",
    "  # Updating\n",
    "  cursor.execute('''DELETE FROM emp1 WHERE fname=\"Rishabh\";''')\n",
    "\n",
    "  # Commit your changes in the database\n",
    "  conn.commit()\n",
    "\n",
    "  # Closing the connection\n",
    "  conn.close()\n",
    "\n",
    "Delete_Data()"
   ]
  },
  {
   "cell_type": "code",
   "execution_count": 23,
   "id": "79dc8aa3-fe46-44c4-a143-1ce71784294e",
   "metadata": {},
   "outputs": [
    {
     "name": "stdout",
     "output_type": "stream",
     "text": [
      "('191804', 'Dhiraj', 2, '976352436676', '12-FEB-2003', '201010', 'Delhi')\n",
      "('191805', 'Paresh', 3, '976352436677', '22-MAR-2001', '201011', 'Kanpur')\n",
      "('191806', 'Sunita', 4, '976352436678', '5-NOV-2003', '201012', 'Alwar')\n",
      "('191807', 'Raghvi', 2, '976352436679', '9-DEC-2002', '201022', 'Ghaziabad')\n",
      "('191808', 'Hrithik', 1, '976352436670', '17-JAN-2004', '201010', 'Delhi')\n"
     ]
    }
   ],
   "source": [
    "def Display_Data():\n",
    "    \n",
    "   # connecting to the database\n",
    "    connection = sqlite3.connect(\"Fashion.db\")\n",
    "    \n",
    "    #cursor\n",
    "    crsr = connection.cursor()\n",
    "\n",
    "    # execute the command to fetch all the data from the table emp\n",
    "    crsr.execute(\"SELECT * FROM VENDOR\")\n",
    "    \n",
    "    # store all the fetched data in the ans variable\n",
    "    ans = crsr.fetchall()\n",
    "\n",
    "    for i in ans:\n",
    "        print(i)\n",
    "\n",
    "Display_Data()"
   ]
  },
  {
   "cell_type": "code",
   "execution_count": null,
   "id": "c815509a-82ff-4924-823d-edc6fa90d369",
   "metadata": {},
   "outputs": [],
   "source": []
  },
  {
   "cell_type": "code",
   "execution_count": null,
   "id": "6ee86f89-1afa-4267-8fa0-ded36a18705f",
   "metadata": {},
   "outputs": [],
   "source": []
  }
 ],
 "metadata": {
  "kernelspec": {
   "display_name": "Python 3",
   "language": "python",
   "name": "python3"
  },
  "language_info": {
   "codemirror_mode": {
    "name": "ipython",
    "version": 3
   },
   "file_extension": ".py",
   "mimetype": "text/x-python",
   "name": "python",
   "nbconvert_exporter": "python",
   "pygments_lexer": "ipython3",
   "version": "3.8.8"
  },
  "toc-autonumbering": true
 },
 "nbformat": 4,
 "nbformat_minor": 5
}
