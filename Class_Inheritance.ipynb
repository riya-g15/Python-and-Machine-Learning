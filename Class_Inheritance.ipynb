{
 "cells": [
  {
   "cell_type": "code",
   "execution_count": null,
   "id": "d699edfd",
   "metadata": {},
   "outputs": [],
   "source": []
  },
  {
   "cell_type": "code",
   "execution_count": 17,
   "id": "43f87345",
   "metadata": {},
   "outputs": [],
   "source": [
    "import numpy as np  #importing numpy\n",
    "\n",
    "class Lab_Test(): \n",
    "     \n",
    "    list1=[]\n",
    "    \n",
    "    def __init__(self, n,r,c, date='5-OCT-2021'): \n",
    "       \n",
    "        self.student=n\n",
    "        self.reg_no=r\n",
    "        self.sclass=c\n",
    "        print(\"\\n This is the result of : {} with Register Number: {} of class {} \".format (self.student,self.reg_no,self.sclass))   \n",
    "    \n",
    "    def inputsubject(self,n):\n",
    "        self.d={}\n",
    "        self.n=n\n",
    "        for i in range(self.n):\n",
    "            self.keys = input(\"Enter subjects: \") \n",
    "            self.values = int(input(\"Enter marks: \")) \n",
    "            Lab_Test.list1.append(self.values)\n",
    "            self.d[self.keys]=self.values\n",
    "            print(Lab_Test.list1)\n",
    "        print(self.d)        \n",
    "                        \n",
    "    def result(self):\n",
    "        self.res=dic1\n",
    "        print(\" The subject wise marks are as follows : {}\". format(df))\n",
    "        \n",
    "    \n",
    "\n",
    "class Student(Lab_Test):\n",
    "    name= \" \"\n",
    "    sregno= \" \"\n",
    "    sclass= \" \"\n",
    "    \n",
    "    def __init__(self):\n",
    "        name=input(\"Enter student name: \")\n",
    "        sregno=input('Enter register number: ')\n",
    "        sclass=input('Enter class code: ')\n",
    "        Lab_Test.__init__(self,name,sregno,sclass)\n",
    "\n",
    "\n",
    "class SubjectM(Lab_Test):\n",
    "    \n",
    "    number=5\n",
    "    tot=0\n",
    "    \n",
    "    def __init__(self):\n",
    "        Lab_Test.inputsubject(self,SubjectM.number)\n",
    "    \n",
    "    def total(self):\n",
    "        \n",
    "        for i in range(SubjectM.number):\n",
    "            SubjectM.tot=Lab_Test.list1[i]+SubjectM.tot\n",
    "            print(SubjectM.tot)\n",
    "        \n",
    "class grades(Student,SubjectM):\n",
    "    \n",
    "    def __init__(self):\n",
    "        SubjectM.total(self)\n",
    "        print(\"Total marks are: \", self.tot)\n",
    "        self.average= self.tot/SubjectM.number\n",
    "        print(\"Total average is: \", self.average)\n",
    "\n",
    "    def displayGrade(self):\n",
    "        if self.average>= 16 and self.average<=20:\n",
    "            print(\"Your grade is A\")\n",
    "        elif self.average>=13 and self.average<16:\n",
    "            print(\"Your grade is B\")\n",
    "        elif self.average>=8 and self.average<13:\n",
    "            print(\"Your grade is C\")\n",
    "        elif self.average >0 and self.average<8:\n",
    "            print(\"Your grade is FAIL\")\n",
    "        else:\n",
    "            print(\"Absent, Better luck for retest\")\n",
    "            \n",
    "    \n"
   ]
  },
  {
   "cell_type": "code",
   "execution_count": 28,
   "id": "70cc8fa1",
   "metadata": {},
   "outputs": [
    {
     "name": "stdout",
     "output_type": "stream",
     "text": [
      "Enter student name: Riya\n",
      "Enter register number: Goyal\n",
      "Enter class code: 2148054\n",
      "\n",
      " This is the result of : Riya with Register Number: Goyal of class 2148054 \n"
     ]
    }
   ],
   "source": [
    "s1=Student()"
   ]
  },
  {
   "cell_type": "code",
   "execution_count": 19,
   "id": "9a3ad57c",
   "metadata": {},
   "outputs": [
    {
     "name": "stdout",
     "output_type": "stream",
     "text": [
      "Enter subjects: ewf\n",
      "Enter marks: 2\n",
      "[2]\n",
      "Enter subjects: erv\n",
      "Enter marks: 2\n",
      "[2, 2]\n",
      "Enter subjects: erv\n",
      "Enter marks: 3\n",
      "[2, 2, 3]\n",
      "Enter subjects: erg\n",
      "Enter marks: 3\n",
      "[2, 2, 3, 3]\n",
      "Enter subjects: vrbhy\n",
      "Enter marks: 6\n",
      "[2, 2, 3, 3, 6]\n",
      "{'ewf': 2, 'erv': 3, 'erg': 3, 'vrbhy': 6}\n"
     ]
    }
   ],
   "source": [
    "s2=SubjectM()\n"
   ]
  },
  {
   "cell_type": "markdown",
   "id": "9f32113b",
   "metadata": {},
   "source": [
    "## "
   ]
  },
  {
   "cell_type": "code",
   "execution_count": 20,
   "id": "75eb2268",
   "metadata": {},
   "outputs": [
    {
     "name": "stdout",
     "output_type": "stream",
     "text": [
      "2\n",
      "4\n",
      "7\n",
      "10\n",
      "16\n",
      "Total marks are:  16\n",
      "Total average is:  3.2\n"
     ]
    }
   ],
   "source": [
    "g=grades()\n",
    "g.displayGrade()"
   ]
  },
  {
   "cell_type": "code",
   "execution_count": 21,
   "id": "38df6475",
   "metadata": {},
   "outputs": [
    {
     "name": "stdout",
     "output_type": "stream",
     "text": [
      "Your grade is FAIL\n"
     ]
    }
   ],
   "source": [
    "g.displayGrade()"
   ]
  },
  {
   "cell_type": "code",
   "execution_count": null,
   "id": "5ccbb537",
   "metadata": {},
   "outputs": [],
   "source": []
  }
 ],
 "metadata": {
  "kernelspec": {
   "display_name": "Python 3",
   "language": "python",
   "name": "python3"
  },
  "language_info": {
   "codemirror_mode": {
    "name": "ipython",
    "version": 3
   },
   "file_extension": ".py",
   "mimetype": "text/x-python",
   "name": "python",
   "nbconvert_exporter": "python",
   "pygments_lexer": "ipython3",
   "version": "3.8.8"
  }
 },
 "nbformat": 4,
 "nbformat_minor": 5
}
