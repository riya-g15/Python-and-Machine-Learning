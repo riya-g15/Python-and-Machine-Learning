{
 "cells": [
  {
   "cell_type": "code",
   "execution_count": null,
   "metadata": {
    "_cell_guid": "b1076dfc-b9ad-4769-8c92-a6c4dae69d19",
    "_uuid": "8f2839f25d086af736a60e9eeb907d3b93b6e0e5",
    "id": "pQFlNfki3xhS"
   },
   "outputs": [],
   "source": [
    "import numpy as np # linear algebra\n",
    "import pandas as pd # data processing, CSV file I/O (e.g. pd.read_csv)\n"
   ]
  },
  {
   "cell_type": "code",
   "execution_count": null,
   "metadata": {
    "_cell_guid": "79c7e3d0-c299-4dcb-8224-4455121ee9b0",
    "_uuid": "d629ff2d2480ee46fbb7e2d37f6b5fab8052498a",
    "id": "DLFMoNsD3xhV"
   },
   "outputs": [],
   "source": [
    "import matplotlib.pyplot as plt\n",
    "import seaborn as sns\n",
    "import plotly as px"
   ]
  },
  {
   "cell_type": "code",
   "execution_count": null,
   "metadata": {
    "id": "OMrTrtzU3xhW"
   },
   "outputs": [],
   "source": [
    "data=pd.read_csv('/players_stats_by_season_full_details.csv')"
   ]
  },
  {
   "cell_type": "code",
   "execution_count": null,
   "metadata": {
    "colab": {
     "base_uri": "https://localhost:8080/",
     "height": 374
    },
    "id": "gDfyleOU3xhX",
    "outputId": "f0fc4c7c-f8a2-41ad-b1e2-bd37eb5c5790"
   },
   "outputs": [
    {
     "data": {
      "text/html": [
       "<div>\n",
       "<style scoped>\n",
       "    .dataframe tbody tr th:only-of-type {\n",
       "        vertical-align: middle;\n",
       "    }\n",
       "\n",
       "    .dataframe tbody tr th {\n",
       "        vertical-align: top;\n",
       "    }\n",
       "\n",
       "    .dataframe thead th {\n",
       "        text-align: right;\n",
       "    }\n",
       "</style>\n",
       "<table border=\"1\" class=\"dataframe\">\n",
       "  <thead>\n",
       "    <tr style=\"text-align: right;\">\n",
       "      <th></th>\n",
       "      <th>League</th>\n",
       "      <th>Season</th>\n",
       "      <th>Stage</th>\n",
       "      <th>Player</th>\n",
       "      <th>Team</th>\n",
       "      <th>GP</th>\n",
       "      <th>MIN</th>\n",
       "      <th>FGM</th>\n",
       "      <th>FGA</th>\n",
       "      <th>3PM</th>\n",
       "      <th>3PA</th>\n",
       "      <th>FTM</th>\n",
       "      <th>FTA</th>\n",
       "      <th>TOV</th>\n",
       "      <th>PF</th>\n",
       "      <th>ORB</th>\n",
       "      <th>DRB</th>\n",
       "      <th>REB</th>\n",
       "      <th>AST</th>\n",
       "      <th>STL</th>\n",
       "      <th>BLK</th>\n",
       "      <th>PTS</th>\n",
       "      <th>birth_year</th>\n",
       "      <th>birth_month</th>\n",
       "      <th>birth_date</th>\n",
       "      <th>height</th>\n",
       "      <th>height_cm</th>\n",
       "      <th>weight</th>\n",
       "      <th>weight_kg</th>\n",
       "      <th>nationality</th>\n",
       "      <th>high_school</th>\n",
       "    </tr>\n",
       "  </thead>\n",
       "  <tbody>\n",
       "    <tr>\n",
       "      <th>0</th>\n",
       "      <td>NBA</td>\n",
       "      <td>2009 - 2010</td>\n",
       "      <td>Regular_Season</td>\n",
       "      <td>Kevin Durant</td>\n",
       "      <td>OKC</td>\n",
       "      <td>82</td>\n",
       "      <td>3239.3</td>\n",
       "      <td>794</td>\n",
       "      <td>1668</td>\n",
       "      <td>128</td>\n",
       "      <td>351</td>\n",
       "      <td>756</td>\n",
       "      <td>840</td>\n",
       "      <td>271</td>\n",
       "      <td>171</td>\n",
       "      <td>105</td>\n",
       "      <td>518</td>\n",
       "      <td>623</td>\n",
       "      <td>231</td>\n",
       "      <td>112</td>\n",
       "      <td>84</td>\n",
       "      <td>2472</td>\n",
       "      <td>1988.0</td>\n",
       "      <td>Sep</td>\n",
       "      <td>Sep 29, 1988</td>\n",
       "      <td>6-9</td>\n",
       "      <td>206.0</td>\n",
       "      <td>240.0</td>\n",
       "      <td>109.0</td>\n",
       "      <td>United States</td>\n",
       "      <td>Montrose Christian School</td>\n",
       "    </tr>\n",
       "    <tr>\n",
       "      <th>1</th>\n",
       "      <td>NBA</td>\n",
       "      <td>2009 - 2010</td>\n",
       "      <td>Regular_Season</td>\n",
       "      <td>LeBron James</td>\n",
       "      <td>CLE</td>\n",
       "      <td>76</td>\n",
       "      <td>2965.6</td>\n",
       "      <td>768</td>\n",
       "      <td>1528</td>\n",
       "      <td>129</td>\n",
       "      <td>387</td>\n",
       "      <td>593</td>\n",
       "      <td>773</td>\n",
       "      <td>261</td>\n",
       "      <td>119</td>\n",
       "      <td>71</td>\n",
       "      <td>483</td>\n",
       "      <td>554</td>\n",
       "      <td>651</td>\n",
       "      <td>125</td>\n",
       "      <td>77</td>\n",
       "      <td>2258</td>\n",
       "      <td>1984.0</td>\n",
       "      <td>Dec</td>\n",
       "      <td>Dec 30, 1984</td>\n",
       "      <td>6-8</td>\n",
       "      <td>203.0</td>\n",
       "      <td>250.0</td>\n",
       "      <td>113.0</td>\n",
       "      <td>United States</td>\n",
       "      <td>St. Vincent St. Mary High School</td>\n",
       "    </tr>\n",
       "    <tr>\n",
       "      <th>2</th>\n",
       "      <td>NBA</td>\n",
       "      <td>2009 - 2010</td>\n",
       "      <td>Regular_Season</td>\n",
       "      <td>Dwyane Wade</td>\n",
       "      <td>MIA</td>\n",
       "      <td>77</td>\n",
       "      <td>2792.4</td>\n",
       "      <td>719</td>\n",
       "      <td>1511</td>\n",
       "      <td>73</td>\n",
       "      <td>243</td>\n",
       "      <td>534</td>\n",
       "      <td>702</td>\n",
       "      <td>252</td>\n",
       "      <td>181</td>\n",
       "      <td>107</td>\n",
       "      <td>266</td>\n",
       "      <td>373</td>\n",
       "      <td>501</td>\n",
       "      <td>142</td>\n",
       "      <td>82</td>\n",
       "      <td>2045</td>\n",
       "      <td>1982.0</td>\n",
       "      <td>Jan</td>\n",
       "      <td>Jan 17, 1982</td>\n",
       "      <td>6-4</td>\n",
       "      <td>193.0</td>\n",
       "      <td>220.0</td>\n",
       "      <td>100.0</td>\n",
       "      <td>United States</td>\n",
       "      <td>Harold L. Richards High School</td>\n",
       "    </tr>\n",
       "    <tr>\n",
       "      <th>3</th>\n",
       "      <td>NBA</td>\n",
       "      <td>2009 - 2010</td>\n",
       "      <td>Regular_Season</td>\n",
       "      <td>Dirk Nowitzki</td>\n",
       "      <td>DAL</td>\n",
       "      <td>81</td>\n",
       "      <td>3038.8</td>\n",
       "      <td>720</td>\n",
       "      <td>1496</td>\n",
       "      <td>51</td>\n",
       "      <td>121</td>\n",
       "      <td>536</td>\n",
       "      <td>586</td>\n",
       "      <td>149</td>\n",
       "      <td>208</td>\n",
       "      <td>80</td>\n",
       "      <td>540</td>\n",
       "      <td>620</td>\n",
       "      <td>218</td>\n",
       "      <td>70</td>\n",
       "      <td>79</td>\n",
       "      <td>2027</td>\n",
       "      <td>1978.0</td>\n",
       "      <td>Jun</td>\n",
       "      <td>Jun 19, 1978</td>\n",
       "      <td>7-0</td>\n",
       "      <td>213.0</td>\n",
       "      <td>245.0</td>\n",
       "      <td>111.0</td>\n",
       "      <td>Germany</td>\n",
       "      <td>NaN</td>\n",
       "    </tr>\n",
       "    <tr>\n",
       "      <th>4</th>\n",
       "      <td>NBA</td>\n",
       "      <td>2009 - 2010</td>\n",
       "      <td>Regular_Season</td>\n",
       "      <td>Kobe Bryant</td>\n",
       "      <td>LAL</td>\n",
       "      <td>73</td>\n",
       "      <td>2835.4</td>\n",
       "      <td>716</td>\n",
       "      <td>1569</td>\n",
       "      <td>99</td>\n",
       "      <td>301</td>\n",
       "      <td>439</td>\n",
       "      <td>541</td>\n",
       "      <td>233</td>\n",
       "      <td>187</td>\n",
       "      <td>78</td>\n",
       "      <td>313</td>\n",
       "      <td>391</td>\n",
       "      <td>365</td>\n",
       "      <td>113</td>\n",
       "      <td>20</td>\n",
       "      <td>1970</td>\n",
       "      <td>1978.0</td>\n",
       "      <td>Aug</td>\n",
       "      <td>Aug 23, 1978</td>\n",
       "      <td>6-6</td>\n",
       "      <td>198.0</td>\n",
       "      <td>212.0</td>\n",
       "      <td>96.0</td>\n",
       "      <td>United States</td>\n",
       "      <td>Lower Merion High School</td>\n",
       "    </tr>\n",
       "  </tbody>\n",
       "</table>\n",
       "</div>"
      ],
      "text/plain": [
       "  League       Season  ...    nationality                       high_school\n",
       "0    NBA  2009 - 2010  ...  United States         Montrose Christian School\n",
       "1    NBA  2009 - 2010  ...  United States  St. Vincent St. Mary High School\n",
       "2    NBA  2009 - 2010  ...  United States    Harold L. Richards High School\n",
       "3    NBA  2009 - 2010  ...        Germany                               NaN\n",
       "4    NBA  2009 - 2010  ...  United States          Lower Merion High School\n",
       "\n",
       "[5 rows x 31 columns]"
      ]
     },
     "execution_count": 57,
     "metadata": {},
     "output_type": "execute_result"
    }
   ],
   "source": [
    "data.head()"
   ]
  },
  {
   "cell_type": "markdown",
   "metadata": {
    "id": "p15H0Kmy3xhX"
   },
   "source": [
    "\n",
    "The main feature for all the players in the basketball is height so let's check out the height of most of the players."
   ]
  },
  {
   "cell_type": "code",
   "execution_count": null,
   "metadata": {
    "id": "H4FggmEx3xhY"
   },
   "outputs": [],
   "source": [
    "sns.catplot?"
   ]
  },
  {
   "cell_type": "code",
   "execution_count": null,
   "metadata": {
    "colab": {
     "base_uri": "https://localhost:8080/",
     "height": 214
    },
    "id": "Xns6wf4Z3xhZ",
    "outputId": "0acace4e-0551-4ac0-e63d-5c7393e37486"
   },
   "outputs": [
    {
     "data": {
      "text/plain": [
       "<seaborn.axisgrid.FacetGrid at 0x7ff6a08cedd0>"
      ]
     },
     "execution_count": 58,
     "metadata": {},
     "output_type": "execute_result"
    },
    {
     "data": {
      "image/png": "[encoded data removed]",
      "text/plain": [
       "<Figure size 1296x216 with 1 Axes>"
      ]
     },
     "metadata": {
      "needs_background": "light"
     },
     "output_type": "display_data"
    }
   ],
   "source": [
    "sns.catplot(kind='count',x='height_cm',data=data,aspect=6,height=3)"
   ]
  },
  {
   "cell_type": "markdown",
   "metadata": {
    "id": "N8_mcXgk3xhb"
   },
   "source": [
    "From this data, we can see that basketball players usually have a height between 185 to 208 cm!"
   ]
  },
  {
   "cell_type": "markdown",
   "metadata": {
    "id": "C7Xvu8Zp3xhc"
   },
   "source": [
    "There is also a player with height of 229 cm. Let's look at him."
   ]
  },
  {
   "cell_type": "code",
   "execution_count": null,
   "metadata": {
    "colab": {
     "base_uri": "https://localhost:8080/",
     "height": 117
    },
    "id": "hWLjKAiS3xhd",
    "outputId": "b455a878-9c23-421b-9887-7db13535208d"
   },
   "outputs": [
    {
     "data": {
      "text/html": [
       "<div>\n",
       "<style scoped>\n",
       "    .dataframe tbody tr th:only-of-type {\n",
       "        vertical-align: middle;\n",
       "    }\n",
       "\n",
       "    .dataframe tbody tr th {\n",
       "        vertical-align: top;\n",
       "    }\n",
       "\n",
       "    .dataframe thead th {\n",
       "        text-align: right;\n",
       "    }\n",
       "</style>\n",
       "<table border=\"1\" class=\"dataframe\">\n",
       "  <thead>\n",
       "    <tr style=\"text-align: right;\">\n",
       "      <th></th>\n",
       "      <th>League</th>\n",
       "      <th>Season</th>\n",
       "      <th>Stage</th>\n",
       "      <th>Player</th>\n",
       "      <th>Team</th>\n",
       "      <th>GP</th>\n",
       "      <th>MIN</th>\n",
       "      <th>FGM</th>\n",
       "      <th>FGA</th>\n",
       "      <th>3PM</th>\n",
       "      <th>3PA</th>\n",
       "      <th>FTM</th>\n",
       "      <th>FTA</th>\n",
       "      <th>TOV</th>\n",
       "      <th>PF</th>\n",
       "      <th>ORB</th>\n",
       "      <th>DRB</th>\n",
       "      <th>REB</th>\n",
       "      <th>AST</th>\n",
       "      <th>STL</th>\n",
       "      <th>BLK</th>\n",
       "      <th>PTS</th>\n",
       "      <th>birth_year</th>\n",
       "      <th>birth_month</th>\n",
       "      <th>birth_date</th>\n",
       "      <th>height</th>\n",
       "      <th>height_cm</th>\n",
       "      <th>weight</th>\n",
       "      <th>weight_kg</th>\n",
       "      <th>nationality</th>\n",
       "      <th>high_school</th>\n",
       "    </tr>\n",
       "  </thead>\n",
       "  <tbody>\n",
       "    <tr>\n",
       "      <th>3910</th>\n",
       "      <td>Euroleague</td>\n",
       "      <td>2009 - 2010</td>\n",
       "      <td>International</td>\n",
       "      <td>Slavko Vranes</td>\n",
       "      <td>PAR</td>\n",
       "      <td>22</td>\n",
       "      <td>398.9</td>\n",
       "      <td>34</td>\n",
       "      <td>72</td>\n",
       "      <td>0</td>\n",
       "      <td>0</td>\n",
       "      <td>19</td>\n",
       "      <td>31</td>\n",
       "      <td>32</td>\n",
       "      <td>42</td>\n",
       "      <td>30</td>\n",
       "      <td>71</td>\n",
       "      <td>101</td>\n",
       "      <td>4</td>\n",
       "      <td>1</td>\n",
       "      <td>33</td>\n",
       "      <td>87</td>\n",
       "      <td>1983.0</td>\n",
       "      <td>Jan</td>\n",
       "      <td>Jan 30, 1983</td>\n",
       "      <td>7-6</td>\n",
       "      <td>229.0</td>\n",
       "      <td>282.0</td>\n",
       "      <td>128.0</td>\n",
       "      <td>Serbia / Montenegro</td>\n",
       "      <td>NaN</td>\n",
       "    </tr>\n",
       "  </tbody>\n",
       "</table>\n",
       "</div>"
      ],
      "text/plain": [
       "          League       Season  ...          nationality high_school\n",
       "3910  Euroleague  2009 - 2010  ...  Serbia / Montenegro         NaN\n",
       "\n",
       "[1 rows x 31 columns]"
      ]
     },
     "execution_count": 59,
     "metadata": {},
     "output_type": "execute_result"
    }
   ],
   "source": [
    "data[data['height_cm']==229.0]"
   ]
  },
  {
   "cell_type": "markdown",
   "metadata": {
    "id": "pU2Bxyn33xhe"
   },
   "source": [
    "Player name is Slavko Vranes and he playes in EuroLeague."
   ]
  },
  {
   "cell_type": "markdown",
   "metadata": {
    "id": "Vs_kwtgk3xhe"
   },
   "source": [
    "Let's find out how many players play in which Stage and if height is a matter."
   ]
  },
  {
   "cell_type": "markdown",
   "metadata": {
    "id": "wbcLhBSv3xhf"
   },
   "source": [
    "I'm really interested about NBA so let's explore the players who played NBA\n",
    "Let's look at the most popular league NBA.\n"
   ]
  },
  {
   "cell_type": "code",
   "execution_count": null,
   "metadata": {
    "id": "IcnowBot3xhf"
   },
   "outputs": [],
   "source": [
    "nba=data[data['League']=='NBA']"
   ]
  },
  {
   "cell_type": "code",
   "execution_count": null,
   "metadata": {
    "colab": {
     "base_uri": "https://localhost:8080/"
    },
    "id": "Bk8ChL1L3xhg",
    "outputId": "8e01e04c-e64c-446b-c8ea-9c0323638fdb"
   },
   "outputs": [
    {
     "name": "stdout",
     "output_type": "stream",
     "text": [
      "The teams of NBA are : ['OKC' 'CLE' 'MIA' 'DAL' 'LAL' 'DEN' 'PHX' 'MEM' 'TOR' 'CHA' 'NYK' 'GSW'\n",
      " 'ATL' 'CHI' 'HOU' 'NJN' 'NOP' 'UTA' 'ORL' 'IND' 'SAC' 'LAC' 'PHI' 'POR'\n",
      " 'SAS' 'BOS' 'MIN' 'MIL' 'DET' 'WAS' 'BRK']\n",
      "The number of teams are: 31\n"
     ]
    }
   ],
   "source": [
    "# No. of teams in NBA\n",
    "print('The teams of NBA are :',nba.Team.unique())\n",
    "print(\"The number of teams are:\", len(nba.Team.unique()))"
   ]
  },
  {
   "cell_type": "markdown",
   "metadata": {
    "id": "vL56nZZq3xhg"
   },
   "source": [
    "10 best teams of NBA that scored highest points during 2018-2019 season are"
   ]
  },
  {
   "cell_type": "code",
   "execution_count": null,
   "metadata": {
    "id": "NvYIpVom3xhh"
   },
   "outputs": [],
   "source": [
    "nba_2018=nba[nba['Season']=='2018 - 2019']"
   ]
  },
  {
   "cell_type": "code",
   "execution_count": null,
   "metadata": {
    "id": "pNBJqdyS3xhi"
   },
   "outputs": [],
   "source": [
    "scores={}\n",
    "for i in nba_2018.Team.unique():\n",
    "    scores[i]=sum(nba_2018[nba_2018['Team']==i]['PTS'].values)\n"
   ]
  },
  {
   "cell_type": "code",
   "execution_count": null,
   "metadata": {
    "id": "hXsM0jPW3xhi"
   },
   "outputs": [],
   "source": [
    "scores=sorted(scores.items(), key=lambda x: x[1], reverse=False)"
   ]
  },
  {
   "cell_type": "markdown",
   "metadata": {
    "id": "c7Bn6_Tc3xhj"
   },
   "source": [
    "Let's show the first 10 teams in NBA that scored the highest in the 2018-19 season"
   ]
  },
  {
   "cell_type": "code",
   "execution_count": null,
   "metadata": {
    "id": "CL7cLTfB3xhj"
   },
   "outputs": [],
   "source": [
    "scores=np.array(scores)"
   ]
  },
  {
   "cell_type": "code",
   "execution_count": null,
   "metadata": {
    "id": "s8x0e-pm3xhj"
   },
   "outputs": [],
   "source": [
    "x=scores[-10:,0]\n",
    "y=scores[-10:,1]\n"
   ]
  },
  {
   "cell_type": "code",
   "execution_count": null,
   "metadata": {
    "colab": {
     "base_uri": "https://localhost:8080/",
     "height": 282
    },
    "id": "qZ0vpAVy3xhk",
    "outputId": "d1a583de-9635-487f-da1a-d952f8ec4b06"
   },
   "outputs": [
    {
     "data": {
      "text/plain": [
       "<BarContainer object of 10 artists>"
      ]
     },
     "execution_count": 43,
     "metadata": {},
     "output_type": "execute_result"
    },
    {
     "data": {
      "image/png": "[encoded data removed]",
      "text/plain": [
       "<Figure size 432x288 with 1 Axes>"
      ]
     },
     "metadata": {
      "needs_background": "light"
     },
     "output_type": "display_data"
    }
   ],
   "source": [
    "plt.bar(x,y)"
   ]
  },
  {
   "cell_type": "markdown",
   "metadata": {
    "id": "e6OKY3lq3xhk"
   },
   "source": [
    "From this we can see that POR(Portland Trail Blazers) scored the highest points in the 2018-19 series"
   ]
  },
  {
   "cell_type": "markdown",
   "metadata": {
    "id": "xbYCMD2g3xhl"
   },
   "source": [
    "Let's find out if there was any school that is known to make Basketball Players (NBA)"
   ]
  },
  {
   "cell_type": "code",
   "execution_count": null,
   "metadata": {
    "id": "S34l3SM93xhl"
   },
   "outputs": [],
   "source": [
    "school={}\n",
    "for i in nba.high_school.unique():\n",
    "    school[i]=len(nba[nba['high_school']==i]['Player'].unique())"
   ]
  },
  {
   "cell_type": "code",
   "execution_count": null,
   "metadata": {
    "id": "hNlrByjV3xhl"
   },
   "outputs": [],
   "source": [
    "school=sorted(school.items(), key=lambda x: x[1], reverse=False)"
   ]
  },
  {
   "cell_type": "code",
   "execution_count": null,
   "metadata": {
    "colab": {
     "base_uri": "https://localhost:8080/"
    },
    "id": "uFnTuzxc3xhm",
    "outputId": "c7246c7c-b824-4053-eecd-b91e826abf9a"
   },
   "outputs": [
    {
     "data": {
      "text/plain": [
       "array([['nan', '0'],\n",
       "       ['St. Vincent St. Mary High School', '1'],\n",
       "       ['Harold L. Richards High School', '1'],\n",
       "       ['Lower Merion High School', '1'],\n",
       "       ['Cypress Creek High School', '1'],\n",
       "       ['Marion High School ', '1'],\n",
       "       ['Lincoln High School', '1'],\n",
       "       ['Lanier High School', '1'],\n",
       "       ['Little Rock Central High School', '1'],\n",
       "       ['Garner Magnet High School', '1'],\n",
       "       ['Juneau-Douglas High School', '1'],\n",
       "       ['Southwest Atlanta Christian Academy', '1'],\n",
       "       ['Grace King High School ', '1'],\n",
       "       ['American Christian Academy ', '1'],\n",
       "       ['George Washington High School', '1'],\n",
       "       ['The Colony High School', '1'],\n",
       "       ['Tri-unity Christian School', '1'],\n",
       "       ['Lanphier High School', '1'],\n",
       "       [\"St. Dunstan's Episcopal High School\", '1'],\n",
       "       ['Seagoville High School', '1'],\n",
       "       ['Fenwick High School', '1'],\n",
       "       ['Childersburg High School', '1'],\n",
       "       ['St. Michaels University School', '1'],\n",
       "       ['Prentiss High School', '1'],\n",
       "       ['Inglewood High School', '1'],\n",
       "       ['Plymouth-Whitemarsh High School', '1'],\n",
       "       ['Mainland High School', '1'],\n",
       "       ['Northwestern High School', '1'],\n",
       "       ['Arthur Hill High School ', '1'],\n",
       "       ['Providence High School', '1'],\n",
       "       ['Kentwood High School', '1'],\n",
       "       ['Grand Ledge High School', '1'],\n",
       "       ['Verbum Dei High School', '1'],\n",
       "       ['Crossroads School', '1'],\n",
       "       ['Instituto Alvaro Guiao', '1'],\n",
       "       ['Niagara Falls High School', '1'],\n",
       "       ['Murrah High School', '1'],\n",
       "       ['Portland High School', '1'],\n",
       "       ['Tara High School', '1'],\n",
       "       ['Delbarton School', '1'],\n",
       "       ['Alief Elsik High School', '1'],\n",
       "       ['Peekskill High School', '1'],\n",
       "       ['Moon Valley High School', '1'],\n",
       "       ['Farragut Career Academy', '1'],\n",
       "       ['Roman Catholic High School for Boys', '1'],\n",
       "       ['Latta High School', '1'],\n",
       "       ['Broad Ripple High School', '1'],\n",
       "       ['Lawrence North High School', '1'],\n",
       "       ['Grambling Laboratory High School', '1'],\n",
       "       ['Eau Claire High School', '1'],\n",
       "       ['Georgetown Preparatory School ', '1'],\n",
       "       ['Lenape High School', '1'],\n",
       "       ['Worcester Academy', '1'],\n",
       "       ['South Lakes High School', '1'],\n",
       "       ['Clarksville High School', '1'],\n",
       "       ['St. Thomas Aquinas Prep', '1'],\n",
       "       ['Blaine High School', '1'],\n",
       "       ['La Salle Academy', '1'],\n",
       "       ['Wilby High School', '1'],\n",
       "       ['St. Joseph Notre Dame High School', '1'],\n",
       "       ['Bremerton High School', '1'],\n",
       "       ['West High School ', '1'],\n",
       "       ['Perry High School', '1'],\n",
       "       ['Ozen High School', '1'],\n",
       "       ['Cave Spring High School', '1'],\n",
       "       ['Steinert High School', '1'],\n",
       "       ['Miami High School', '1'],\n",
       "       ['James Madison Memorial High School', '1'],\n",
       "       ['El Cerrito High School', '1'],\n",
       "       ['Artesia High School', '1'],\n",
       "       ['Strawberry Mansion High School', '1'],\n",
       "       ['Calvary Christian High School', '1'],\n",
       "       [\"Friends' Central School\", '1'],\n",
       "       ['Shadow Mountain High School', '1'],\n",
       "       ['Centennial High School ', '1'],\n",
       "       ['Del Campo High School', '1'],\n",
       "       ['Simon Gratz High School', '1'],\n",
       "       ['James B. Dudley High School', '1'],\n",
       "       ['East Side High School', '1'],\n",
       "       ['Horizon High School', '1'],\n",
       "       ['Myrtle Beach High School', '1'],\n",
       "       ['Compton High School', '1'],\n",
       "       ['La Costa Canyon High School', '1'],\n",
       "       ['Cleveland High School', '1'],\n",
       "       ['Schenley High School', '1'],\n",
       "       ['Cooley High School', '1'],\n",
       "       ['Skyline High School ', '1'],\n",
       "       ['Parkview Arts and Science Magnet High School', '1'],\n",
       "       ['Miami Christian School', '1'],\n",
       "       ['Naperville Central High School', '1'],\n",
       "       ['Hartford Public High School', '1'],\n",
       "       ['Eleanor Roosevelt High School', '1'],\n",
       "       ['Bartlett High School', '1'],\n",
       "       ['Newman Smith High School', '1'],\n",
       "       ['Our Lady of Good Counsel High School ', '1'],\n",
       "       ['Dupont High School', '1'],\n",
       "       ['Oak Ridge High School ', '1'],\n",
       "       ['Flint Southwestern Academy', '1'],\n",
       "       ['Concord High School', '1'],\n",
       "       ['Wichita Collegiate School', '1'],\n",
       "       ['Iola High School', '1'],\n",
       "       ['John Muir High School', '1'],\n",
       "       ['Quitman High School', '1'],\n",
       "       ['Iowa Falls High School', '1'],\n",
       "       ['Colegio Santiago Apostol', '1'],\n",
       "       ['Chicago Vocational Career Academy', '1'],\n",
       "       ['Chamberlin High School', '1'],\n",
       "       ['Hoke County High School', '1'],\n",
       "       ['Bloomington High School North', '1'],\n",
       "       ['Monarch High School', '1'],\n",
       "       ['Modesto Christian High School', '1'],\n",
       "       ['Coosa Central High School', '1'],\n",
       "       ['Brandon High School', '1'],\n",
       "       ['Clear Brook High School', '1'],\n",
       "       ['Dawson College', '1'],\n",
       "       ['John Carroll Catholic High School', '1'],\n",
       "       ['Riverdale High School', '1'],\n",
       "       ['Zanesville High School ', '1'],\n",
       "       ['Oklahoma Christian School', '1'],\n",
       "       ['Lake Oswego High School', '1'],\n",
       "       ['West Forsyth High School', '1'],\n",
       "       ['LeFlore Magnet High School', '1'],\n",
       "       ['Benton Harbor High School', '1'],\n",
       "       ['Wauwatosa East High School', '1'],\n",
       "       ['South Gwinnett High School', '1'],\n",
       "       ['Cardinal Dougherty High School', '1'],\n",
       "       ['Mount Vernon High School', '1'],\n",
       "       ['Jonesboro High School', '1'],\n",
       "       ['Capitol High School', '1'],\n",
       "       ['Hales Franciscan', '1'],\n",
       "       ['Los Alamitos High School', '1'],\n",
       "       ['Aberdeen High School', '1'],\n",
       "       ['Poplar Bluff High School', '1'],\n",
       "       ['Starkville High School', '1'],\n",
       "       ['Grant High School', '1'],\n",
       "       ['Helen Cox High School', '1'],\n",
       "       ['Hopkins High School', '1'],\n",
       "       ['Prince George High School', '1'],\n",
       "       ['South Oak Cliff High School', '1'],\n",
       "       ['Corsicana High School', '1'],\n",
       "       ['Pella High School', '1'],\n",
       "       ['Detroit Country Day School', '1'],\n",
       "       ['Dillard High School', '1'],\n",
       "       ['Parker High School', '1'],\n",
       "       ['Woodbridge High School', '1'],\n",
       "       ['Kenwood Academy', '1'],\n",
       "       ['Carmel High School ', '1'],\n",
       "       ['South Atlanta High School ', '1'],\n",
       "       ['Fayetteville High School ', '1'],\n",
       "       ['Potomac High School', '1'],\n",
       "       ['Peoria Central High School ', '1'],\n",
       "       ['American High School', '1'],\n",
       "       ['Brownsburg High School', '1'],\n",
       "       ['Washington Union High School', '1'],\n",
       "       ['Platte Valley High School', '1'],\n",
       "       ['Pine Crest School', '1'],\n",
       "       ['Santa Margarita Catholic High School', '1'],\n",
       "       ['Rice High School', '1'],\n",
       "       ['Pete Knight High School', '1'],\n",
       "       ['Charlotte Latin High School', '1'],\n",
       "       ['Tucker High School', '1'],\n",
       "       ['William T. Dwyer High School', '1'],\n",
       "       ['Lawrenceville School', '1'],\n",
       "       ['Canal Winchester High School', '1'],\n",
       "       ['La Mirada High School', '1'],\n",
       "       ['Cheyenne East High School', '1'],\n",
       "       ['Oak Park & River Forest High School', '1'],\n",
       "       ['Chaminade-Julienne High School', '1'],\n",
       "       ['Brown Deer High School', '1'],\n",
       "       ['Glen Falls High School', '1'],\n",
       "       ['Grandview High School', '1'],\n",
       "       ['Union High School', '1'],\n",
       "       ['Benedictine High School', '1'],\n",
       "       ['L.W. Fox Tech High School', '1'],\n",
       "       ['Santa Fe High School', '1'],\n",
       "       ['Benjamin Banneker Academy', '1'],\n",
       "       ['Cherokee High School', '1'],\n",
       "       ['Archbishop Molloy High School', '1'],\n",
       "       ['Midwest City High School', '1'],\n",
       "       ['Salmen High School', '1'],\n",
       "       ['Bryan Station High School', '1'],\n",
       "       ['Junction City High School', '1'],\n",
       "       ['Randolph High School', '1'],\n",
       "       ['Woodham High School', '1'],\n",
       "       ['Central-Haynesville High School', '1'],\n",
       "       ['Oakland High School', '1'],\n",
       "       ['Palo Alto High School', '1'],\n",
       "       ['Technology High School', '1'],\n",
       "       ['Jesuit High School', '1'],\n",
       "       ['South Medford High School', '1'],\n",
       "       ['Tomball High School', '1'],\n",
       "       ['Port St. Lucie High School', '1'],\n",
       "       ['East Chicago Central High School', '1'],\n",
       "       ['Father Michael Goetz Secondary School', '1'],\n",
       "       [\"St. John's High School\", '1'],\n",
       "       ['Enloe High School', '1'],\n",
       "       ['Hobbs High School', '1'],\n",
       "       ['Pennsbury High School', '1'],\n",
       "       ['Rahway High School', '1'],\n",
       "       ['Phoenix Westwind Academy', '1'],\n",
       "       ['Gulf Shores Academy', '1'],\n",
       "       ['Villa Rica High School', '1'],\n",
       "       ['Winter Park High School', '1'],\n",
       "       ['Palmer High School', '1'],\n",
       "       ['The Winchendon School', '1'],\n",
       "       ['Saginaw High School', '1'],\n",
       "       ['Jesuit High School ', '1'],\n",
       "       ['Cypress Christian School ', '1'],\n",
       "       ['Bertie High School', '1'],\n",
       "       ['National Institute of Physical Education', '1'],\n",
       "       [\"St. Andrew's High School \", '1'],\n",
       "       ['Life Center Academy', '1'],\n",
       "       ['Porter-Gaud High School', '1'],\n",
       "       ['Palmetto High School', '1'],\n",
       "       ['Sickles High School', '1'],\n",
       "       ['Kamloops High School', '1'],\n",
       "       ['De La Salle High School', '1'],\n",
       "       ['Greenville High School', '1'],\n",
       "       ['Loyola High School ', '1'],\n",
       "       ['Scots College', '1'],\n",
       "       ['Central Cabarrus High School', '1'],\n",
       "       ['Duncanville High School', '1'],\n",
       "       ['Episcopal School of Dallas', '1'],\n",
       "       ['Perspectives Charter Academy', '1'],\n",
       "       ['Proviso West High School', '1'],\n",
       "       ['Bothell High School', '1'],\n",
       "       ['Ehret High School', '1'],\n",
       "       ['Covenant Christian Academy', '1'],\n",
       "       ['Mount Saint Joseph College', '1'],\n",
       "       ['Brentwood Academy', '1'],\n",
       "       ['Marcus High School', '1'],\n",
       "       ['Kickapoo High School', '1'],\n",
       "       ['Cairns State High School', '1'],\n",
       "       ['Scott County Central High School', '1'],\n",
       "       [\"St. Mark's High School\", '1'],\n",
       "       ['Meridian High School', '1'],\n",
       "       ['Half Hollow Hills West High School', '1'],\n",
       "       ['Moss Point High School', '1'],\n",
       "       ['Hamilton Southeastern High School', '1'],\n",
       "       ['Prestonwood Christian Academy', '1'],\n",
       "       ['Biloxi High School', '1'],\n",
       "       ['Frederick K. C. Price III High School', '1'],\n",
       "       ['Archbishop Mitty High School', '1'],\n",
       "       ['Dnipropetrovsk Higher College', '1'],\n",
       "       ['Christian Life', '1'],\n",
       "       ['Benet Academy', '1'],\n",
       "       ['Mater Dei High School', '1'],\n",
       "       ['St. Jude High School', '1'],\n",
       "       ['INSEP Academy', '1'],\n",
       "       [\"St. John's School\", '1'],\n",
       "       ['Chartiers Valley High School', '1'],\n",
       "       ['Arsenal Technical High School', '1'],\n",
       "       ['St. Anthony High School', '1'],\n",
       "       ['Brookhaven High School', '1'],\n",
       "       ['Roseville High School', '1'],\n",
       "       ['North Central High School', '1'],\n",
       "       ['Trinity High School', '1'],\n",
       "       ['St. Francis High School', '1'],\n",
       "       ['Sunrise Christian Academy', '1'],\n",
       "       ['Greater Atlanta Christian School', '1'],\n",
       "       ['Orono High School', '1'],\n",
       "       ['Pleasant Grove High School', '1'],\n",
       "       ['Olathe Northwest High School', '1'],\n",
       "       ['William Fleming High School', '1'],\n",
       "       ['Germantown High School', '1'],\n",
       "       ['Sheboygan Lutheran High School', '1'],\n",
       "       ['Arlington Country Day School ', '1'],\n",
       "       ['Campus Magnet High School', '1'],\n",
       "       ['Smiley High School ', '1'],\n",
       "       ['Strake Jesuit College Preparatory', '1'],\n",
       "       ['Revere High School', '1'],\n",
       "       ['Marian Catholic High School', '1'],\n",
       "       ['Hall High School', '1'],\n",
       "       ['Ventura High School', '1'],\n",
       "       ['Fort Bend Travis High School', '1'],\n",
       "       ['Lake Central High School', '1'],\n",
       "       ['Robinson High School', '1'],\n",
       "       ['Lancaster High School', '1'],\n",
       "       ['Ridgeway High School', '1'],\n",
       "       ['Bishop Miege High School', '1'],\n",
       "       ['I.C. Norcom High School', '1'],\n",
       "       ['Galena High School', '1'],\n",
       "       ['New London High School', '1'],\n",
       "       ['Apple Valley High School', '1'],\n",
       "       ['Norfolk Christian', '1'],\n",
       "       ['Bloomington Jefferson High School', '1'],\n",
       "       ['The Rock High School', '1'],\n",
       "       ['Rise Academy', '1'],\n",
       "       ['Trinity Christian', '1'],\n",
       "       ['Edmond Santa Fe High School', '1'],\n",
       "       ['Helsinki Basketball Academy', '1'],\n",
       "       ['Prolific Prep', '1'],\n",
       "       ['Pickerington High School Central', '1'],\n",
       "       ['Chelan High School', '1'],\n",
       "       ['Cypress Lakes High School', '1'],\n",
       "       ['Cardinal Newman High School', '1'],\n",
       "       ['Auburn High School', '1'],\n",
       "       ['Charlestown High School', '1'],\n",
       "       ['Mason County High School', '1'],\n",
       "       [\"God's Academy\", '1'],\n",
       "       [\"St. Stephen's Episcopal School\", '1'],\n",
       "       ['Madison Prep Academy', '1'],\n",
       "       ['Franklin High School', '1'],\n",
       "       ['University City High School', '1'],\n",
       "       ['Grace Preparatory Academy', '1'],\n",
       "       ['Akademija Nikola Vujcic', '1'],\n",
       "       ['Reach Your Dreams Academy', '1'],\n",
       "       ['Sidwell Friends School', '1'],\n",
       "       ['High Point Christian Academy', '1'],\n",
       "       ['Homeschool Christian Youth Association', '1'],\n",
       "       ['The Village School', '1'],\n",
       "       [\"St. John's Prep\", '1'],\n",
       "       ['Jefferson City High School', '1'],\n",
       "       ['Bentonville High School', '1'],\n",
       "       ['John Horn High School', '1'],\n",
       "       ['Muskegon High School', '1'],\n",
       "       ['Harker Heights High School', '1'],\n",
       "       [\"St. Mary's Ryken High School\", '1'],\n",
       "       ['Alexander Hamilton High School', '1'],\n",
       "       ['Long Beach Polytechnic High School', '1'],\n",
       "       ['Our Savior New American School', '1'],\n",
       "       ['Spring Westfield High School', '1'],\n",
       "       ['Saint Francis High School', '1'],\n",
       "       ['Ottawa High School', '1'],\n",
       "       ['Prime Prep Academy', '1'],\n",
       "       ['Charles M. Russell High School', '1'],\n",
       "       ['Niles North High School', '1'],\n",
       "       ['Norman High School', '1'],\n",
       "       ['Pebblebrook High School', '1'],\n",
       "       ['Hillcrest Academy', '1'],\n",
       "       ['Tampa Catholic High School', '1'],\n",
       "       ['Sierra Canyon School', '1'],\n",
       "       ['Hamilton Heights Christian Academy', '1'],\n",
       "       ['Flint Beecher High School', '1'],\n",
       "       ['Yates High School', '1'],\n",
       "       ['Shenendehowa High School', '1'],\n",
       "       ['Park Hill High School', '1'],\n",
       "       ['Great Valley High School', '1'],\n",
       "       ['Stevenson High School', '1'],\n",
       "       ['Legend High School', '1'],\n",
       "       ['Lockport Township High School', '1'],\n",
       "       ['Shiloh High School', '1'],\n",
       "       ['Neshaminy High School', '1'],\n",
       "       ['King Philip Regional High School', '1'],\n",
       "       ['Chalmette High School', '1'],\n",
       "       [\"Lee's Summit High School\", '1'],\n",
       "       ['Chino Hills High School', '1'],\n",
       "       ['Pace Academy', '1'],\n",
       "       ['Great Falls High School', '1'],\n",
       "       ['Archbishop John Carroll High School', '1'],\n",
       "       ['Wesleyan Christian Academy', '1'],\n",
       "       ['Vermont Academy', '1'],\n",
       "       ['Westtown School', '1'],\n",
       "       ['Mission Viejo High School', '1'],\n",
       "       ['Foothills Christian', '1'],\n",
       "       ['Bakersfield High School', '1'],\n",
       "       ['Scotlandville High School', '1'],\n",
       "       ['Fordham Preparatory School', '1'],\n",
       "       ['Quakerdale Prep Academy', '1'],\n",
       "       ['Robert G. Cole High School ', '1'],\n",
       "       ['Bryan Adams High School', '1'],\n",
       "       ['McKinley Senior High School', '1'],\n",
       "       [\"The Governor's Academy\", '1'],\n",
       "       ['University of San Diego High School', '1'],\n",
       "       ['Lawrence County High School', '1'],\n",
       "       ['Amityville Memorial High School', '1'],\n",
       "       ['North College Hill High School', '1'],\n",
       "       ['Emmaus High School', '1'],\n",
       "       ['James Madison High School', '1'],\n",
       "       ['Coatesville Area High School', '1'],\n",
       "       ['Samuel J. Tilden High School', '1'],\n",
       "       ['Windward School', '1'],\n",
       "       ['Hermitage High School ', '1'],\n",
       "       ['Stone Mountain High School', '1'],\n",
       "       ['Cass Technical High School', '1'],\n",
       "       ['Simeon Career Academy ', '2'],\n",
       "       ['Benjamin Franklin High School', '2'],\n",
       "       ['Archbishop Spalding High School', '2'],\n",
       "       ['Huntington High School', '2'],\n",
       "       ['Charlotte Christian School', '2'],\n",
       "       ['Garfield High School', '2'],\n",
       "       ['Vincent High School', '2'],\n",
       "       ['Blair Academy', '2'],\n",
       "       ['Maine Central Institute', '2'],\n",
       "       ['Westchester High School', '2'],\n",
       "       ['Etiwanda High School', '2'],\n",
       "       ['Bellaire High School', '2'],\n",
       "       ['Chester High School', '2'],\n",
       "       ['Seattle Preparatory School', '2'],\n",
       "       ['Joseph Wheeler High School', '2'],\n",
       "       ['Whitney Young High School', '2'],\n",
       "       ['Towson Catholic High School', '2'],\n",
       "       ['William Howard Taft High School', '2'],\n",
       "       ['Campbell Hall School', '2'],\n",
       "       ['Fairfax High School', '2'],\n",
       "       ['New Hampton School', '2'],\n",
       "       ['Episcopal Academy', '2'],\n",
       "       ['Dr. Phillips High School', '2'],\n",
       "       ['Louisiana State University Laboratory School', '2'],\n",
       "       ['Christian Life Center', '2'],\n",
       "       ['Crane High School', '2'],\n",
       "       ['Dominguez High School', '2'],\n",
       "       ['Mitchell High School', '2'],\n",
       "       ['Lausanne Collegiate School', '2'],\n",
       "       ['The Patterson School', '2'],\n",
       "       ['Word of God Christian Academy', '2'],\n",
       "       ['Lake Howell High School', '2'],\n",
       "       ['Martin Luther King High School', '2'],\n",
       "       ['APEX Academy', '2'],\n",
       "       ['Dunbar High School ', '2'],\n",
       "       ['Stoneridge Prep', '2'],\n",
       "       ['Lincoln High School ', '2'],\n",
       "       ['Ames High School', '2'],\n",
       "       ['Glen Oak High School', '2'],\n",
       "       ['Jefferson High School', '2'],\n",
       "       ['St. Thomas More Prep', '2'],\n",
       "       ['Northland High School', '2'],\n",
       "       ['Christ School', '2'],\n",
       "       ['Laurinburg Institute', '2'],\n",
       "       ['Wagner High School', '2'],\n",
       "       ['John Marshall Metropolitan High School', '2'],\n",
       "       ['IMG Academy', '2'],\n",
       "       ['Athlete Institute Prep', '2'],\n",
       "       ['Kinston High School', '2'],\n",
       "       ['Lone Peak High School', '2'],\n",
       "       ['Warren High School', '2'],\n",
       "       ['JW Sexton High School', '2'],\n",
       "       ['Park Tudor School', '2'],\n",
       "       ['Harvard-Westlake School', '2'],\n",
       "       ['Chaminade College Preparatory School', '3'],\n",
       "       ['San Joaquin Memorial High School', '3'],\n",
       "       ['Leuzinger High School', '3'],\n",
       "       ['Hillcrest High School', '3'],\n",
       "       ['Notre Dame Preparatory', '3'],\n",
       "       [\"Saint Benedict's Preparatory School\", '3'],\n",
       "       ['South Kent School', '3'],\n",
       "       ['St. Joseph High School', '3'],\n",
       "       [\"St. Mary's High School\", '3'],\n",
       "       ['Pike High School', '3'],\n",
       "       ['Mt. Zion Christian Academy', '3'],\n",
       "       ['Proviso East High School', '3'],\n",
       "       ['Washington High School', '3'],\n",
       "       ['Hightower High School', '3'],\n",
       "       ['Montverde Academy', '3'],\n",
       "       ['Norcross High School', '3'],\n",
       "       ['Bishop Gorman High School', '3'],\n",
       "       ['Abraham Lincoln High School', '3'],\n",
       "       ['Huntington Prep', '3'],\n",
       "       ['Tilton School', '3'],\n",
       "       ['Montrose Christian School', '4'],\n",
       "       ['Rainier Beach High School', '4'],\n",
       "       ['St. Patrick High School', '5'],\n",
       "       ['DeMatha Catholic High School', '5'],\n",
       "       ['Australian Institute of Sport', '5'],\n",
       "       ['Brewster Academy', '6'],\n",
       "       ['Hargrave Military Academy ', '7'],\n",
       "       ['Findlay College Prep', '8'],\n",
       "       ['Oak Hill Academy', '10']], dtype='<U44')"
      ]
     },
     "execution_count": 32,
     "metadata": {},
     "output_type": "execute_result"
    }
   ],
   "source": [
    "school=np.array(school)\n",
    "school"
   ]
  },
  {
   "cell_type": "code",
   "execution_count": null,
   "metadata": {
    "colab": {
     "base_uri": "https://localhost:8080/",
     "height": 406
    },
    "id": "YWIUugnV3xhm",
    "outputId": "8b5fa746-a371-438d-fc35-68bda2bee4f0"
   },
   "outputs": [
    {
     "data": {
      "image/png": "[encoded data removed]",
      "text/plain": [
       "<Figure size 432x288 with 1 Axes>"
      ]
     },
     "metadata": {
      "needs_background": "light"
     },
     "output_type": "display_data"
    }
   ],
   "source": [
    "sc=school[-10:,0]\n",
    "sch=school[-10:,1]\n",
    "plt.bar(sc,sch)\n",
    "plt.xticks(rotation=90)\n",
    "plt.show()"
   ]
  },
  {
   "cell_type": "markdown",
   "metadata": {
    "id": "AmhtqxlQ3xhn"
   },
   "source": [
    "Well, Oak Hill Academy was the one which is known for producing NBA guys"
   ]
  },
  {
   "cell_type": "code",
   "execution_count": null,
   "metadata": {
    "id": "UVnpKYUA3xhn"
   },
   "outputs": [],
   "source": [
    "field_goals_made={}\n",
    "for i in nba_2018.Player.unique():\n",
    "    field_goals_made[i]=sum(nba_2018[nba_2018['Player']==i]['FGM'].values)"
   ]
  },
  {
   "cell_type": "code",
   "execution_count": null,
   "metadata": {
    "id": "PrBRFy15EXe0"
   },
   "outputs": [],
   "source": [
    "field_goals_made=sorted(field_goals_made.items(), key=lambda x: x[1], reverse=False)"
   ]
  },
  {
   "cell_type": "code",
   "execution_count": null,
   "metadata": {
    "id": "aQLGWdcdEhln"
   },
   "outputs": [],
   "source": [
    "field_goals_made=np.array(field_goals_made)"
   ]
  },
  {
   "cell_type": "code",
   "execution_count": null,
   "metadata": {
    "id": "xDOXIu0jEmJG"
   },
   "outputs": [],
   "source": [
    "a=field_goals_made[-10:,0]\n",
    "b=field_goals_made[-10:,1]"
   ]
  },
  {
   "cell_type": "code",
   "execution_count": null,
   "metadata": {
    "colab": {
     "base_uri": "https://localhost:8080/",
     "height": 392
    },
    "id": "tHRhjksZExHs",
    "outputId": "12c46fd9-345c-41e4-ebc8-9a76139dc0fa"
   },
   "outputs": [
    {
     "data": {
      "text/plain": [
       "([0, 1, 2, 3, 4, 5, 6, 7, 8, 9], <a list of 10 Text major ticklabel objects>)"
      ]
     },
     "execution_count": 64,
     "metadata": {},
     "output_type": "execute_result"
    },
    {
     "data": {
      "image/png": "[encoded data removed]",
      "text/plain": [
       "<Figure size 432x288 with 1 Axes>"
      ]
     },
     "metadata": {
      "needs_background": "light"
     },
     "output_type": "display_data"
    }
   ],
   "source": [
    "plt.bar(a,b)\n",
    "plt.xticks(rotation=90)"
   ]
  },
  {
   "cell_type": "markdown",
   "metadata": {
    "id": "V-VlvfjHH0bs"
   },
   "source": [
    "James Harden scored the most number of goals."
   ]
  },
  {
   "cell_type": "markdown",
   "metadata": {
    "id": "Bax2QT7yH3aa"
   },
   "source": [
    "Let's find out the team name of James Harden"
   ]
  },
  {
   "cell_type": "code",
   "execution_count": null,
   "metadata": {
    "colab": {
     "base_uri": "https://localhost:8080/",
     "height": 164
    },
    "id": "8sUuK_M3FWlo",
    "outputId": "974d01e5-2e39-4aa3-f0f2-2aef6ee6cc32"
   },
   "outputs": [
    {
     "data": {
      "text/html": [
       "<div>\n",
       "<style scoped>\n",
       "    .dataframe tbody tr th:only-of-type {\n",
       "        vertical-align: middle;\n",
       "    }\n",
       "\n",
       "    .dataframe tbody tr th {\n",
       "        vertical-align: top;\n",
       "    }\n",
       "\n",
       "    .dataframe thead th {\n",
       "        text-align: right;\n",
       "    }\n",
       "</style>\n",
       "<table border=\"1\" class=\"dataframe\">\n",
       "  <thead>\n",
       "    <tr style=\"text-align: right;\">\n",
       "      <th></th>\n",
       "      <th>League</th>\n",
       "      <th>Season</th>\n",
       "      <th>Stage</th>\n",
       "      <th>Player</th>\n",
       "      <th>Team</th>\n",
       "      <th>GP</th>\n",
       "      <th>MIN</th>\n",
       "      <th>FGM</th>\n",
       "      <th>FGA</th>\n",
       "      <th>3PM</th>\n",
       "      <th>3PA</th>\n",
       "      <th>FTM</th>\n",
       "      <th>FTA</th>\n",
       "      <th>TOV</th>\n",
       "      <th>PF</th>\n",
       "      <th>ORB</th>\n",
       "      <th>DRB</th>\n",
       "      <th>REB</th>\n",
       "      <th>AST</th>\n",
       "      <th>STL</th>\n",
       "      <th>BLK</th>\n",
       "      <th>PTS</th>\n",
       "      <th>birth_year</th>\n",
       "      <th>birth_month</th>\n",
       "      <th>birth_date</th>\n",
       "      <th>height</th>\n",
       "      <th>height_cm</th>\n",
       "      <th>weight</th>\n",
       "      <th>weight_kg</th>\n",
       "      <th>nationality</th>\n",
       "      <th>high_school</th>\n",
       "    </tr>\n",
       "  </thead>\n",
       "  <tbody>\n",
       "    <tr>\n",
       "      <th>2034</th>\n",
       "      <td>NBA</td>\n",
       "      <td>2018 - 2019</td>\n",
       "      <td>Regular_Season</td>\n",
       "      <td>James Harden</td>\n",
       "      <td>HOU</td>\n",
       "      <td>78</td>\n",
       "      <td>2866.7</td>\n",
       "      <td>843</td>\n",
       "      <td>1909</td>\n",
       "      <td>378</td>\n",
       "      <td>1028</td>\n",
       "      <td>754</td>\n",
       "      <td>858</td>\n",
       "      <td>387</td>\n",
       "      <td>244</td>\n",
       "      <td>66</td>\n",
       "      <td>452</td>\n",
       "      <td>518</td>\n",
       "      <td>586</td>\n",
       "      <td>158</td>\n",
       "      <td>58</td>\n",
       "      <td>2818</td>\n",
       "      <td>1989.0</td>\n",
       "      <td>Aug</td>\n",
       "      <td>Aug 26, 1989</td>\n",
       "      <td>6-5</td>\n",
       "      <td>196.0</td>\n",
       "      <td>220.0</td>\n",
       "      <td>100.0</td>\n",
       "      <td>United States</td>\n",
       "      <td>Artesia High School</td>\n",
       "    </tr>\n",
       "    <tr>\n",
       "      <th>3659</th>\n",
       "      <td>NBA</td>\n",
       "      <td>2018 - 2019</td>\n",
       "      <td>Playoffs</td>\n",
       "      <td>James Harden</td>\n",
       "      <td>HOU</td>\n",
       "      <td>11</td>\n",
       "      <td>424.2</td>\n",
       "      <td>109</td>\n",
       "      <td>264</td>\n",
       "      <td>48</td>\n",
       "      <td>137</td>\n",
       "      <td>82</td>\n",
       "      <td>98</td>\n",
       "      <td>51</td>\n",
       "      <td>41</td>\n",
       "      <td>9</td>\n",
       "      <td>67</td>\n",
       "      <td>76</td>\n",
       "      <td>73</td>\n",
       "      <td>24</td>\n",
       "      <td>10</td>\n",
       "      <td>348</td>\n",
       "      <td>1989.0</td>\n",
       "      <td>Aug</td>\n",
       "      <td>Aug 26, 1989</td>\n",
       "      <td>6-5</td>\n",
       "      <td>196.0</td>\n",
       "      <td>220.0</td>\n",
       "      <td>100.0</td>\n",
       "      <td>United States</td>\n",
       "      <td>Artesia High School</td>\n",
       "    </tr>\n",
       "  </tbody>\n",
       "</table>\n",
       "</div>"
      ],
      "text/plain": [
       "     League       Season  ...    nationality          high_school\n",
       "2034    NBA  2018 - 2019  ...  United States  Artesia High School\n",
       "3659    NBA  2018 - 2019  ...  United States  Artesia High School\n",
       "\n",
       "[2 rows x 31 columns]"
      ]
     },
     "execution_count": 53,
     "metadata": {},
     "output_type": "execute_result"
    }
   ],
   "source": [
    "nba_2018[nba_2018['Player']=='James Harden']"
   ]
  },
  {
   "cell_type": "markdown",
   "metadata": {
    "id": "4zhJ6P7nH61E"
   },
   "source": [
    "Team name is Houston Rockets(HOU)"
   ]
  }
 ],
 "metadata": {
  "colab": {
   "collapsed_sections": [],
   "name": "Basketball_2148069.ipynb",
   "provenance": []
  },
  "kernelspec": {
   "display_name": "Python 3",
   "language": "python",
   "name": "python3"
  },
  "language_info": {
   "codemirror_mode": {
    "name": "ipython",
    "version": 3
   },
   "file_extension": ".py",
   "mimetype": "text/x-python",
   "name": "python",
   "nbconvert_exporter": "python",
   "pygments_lexer": "ipython3",
   "version": "3.8.8"
  }
 },
 "nbformat": 4,
 "nbformat_minor": 1
}
