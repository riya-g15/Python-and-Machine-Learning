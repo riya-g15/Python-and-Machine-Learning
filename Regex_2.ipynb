{
 "cells": [
  {
   "cell_type": "code",
   "execution_count": 1,
   "id": "2598f515",
   "metadata": {},
   "outputs": [
    {
     "name": "stdout",
     "output_type": "stream",
     "text": [
      "[True, False, True, False, True]\n"
     ]
    }
   ],
   "source": [
    "print([k % 2 == 0 for k in range(5)])"
   ]
  },
  {
   "cell_type": "code",
   "execution_count": 5,
   "id": "8a7fb6ef",
   "metadata": {},
   "outputs": [
    {
     "ename": "SyntaxError",
     "evalue": "invalid syntax (<ipython-input-5-2e4b6868ecc3>, line 1)",
     "output_type": "error",
     "traceback": [
      "\u001b[1;36m  File \u001b[1;32m\"<ipython-input-5-2e4b6868ecc3>\"\u001b[1;36m, line \u001b[1;32m1\u001b[0m\n\u001b[1;33m    s =\"\"\"\"\"\"This is a triple-quoted string Will it throw an error?\"\"\"\"\"\"\u001b[0m\n\u001b[1;37m             ^\u001b[0m\n\u001b[1;31mSyntaxError\u001b[0m\u001b[1;31m:\u001b[0m invalid syntax\n"
     ]
    }
   ],
   "source": [
    "s =\"\"\"\"\"\"This is a triple-quoted string Will it throw an error?\"\"\"\"\"\"\n",
    "print(s)"
   ]
  },
  {
   "cell_type": "code",
   "execution_count": 6,
   "id": "2d285dd8",
   "metadata": {},
   "outputs": [
    {
     "name": "stdout",
     "output_type": "stream",
     "text": [
      "Will this string recognize \\t and \\n?\n"
     ]
    }
   ],
   "source": [
    "print (r\"Will this string recognize \\t and \\n?\")"
   ]
  },
  {
   "cell_type": "code",
   "execution_count": 7,
   "id": "dc075fce",
   "metadata": {},
   "outputs": [
    {
     "name": "stdout",
     "output_type": "stream",
     "text": [
      "False\n"
     ]
    }
   ],
   "source": [
    "print(4 in range(4))"
   ]
  },
  {
   "cell_type": "code",
   "execution_count": 8,
   "id": "39530a9b",
   "metadata": {},
   "outputs": [
    {
     "data": {
      "text/plain": [
       "['', ', ', ', ', '.']"
      ]
     },
     "execution_count": 8,
     "metadata": {},
     "output_type": "execute_result"
    }
   ],
   "source": [
    "import re\n",
    "re.split('\\w+', 'Hello, hi, howdy.')"
   ]
  },
  {
   "cell_type": "code",
   "execution_count": 9,
   "id": "e9fd0920",
   "metadata": {},
   "outputs": [
    {
     "name": "stdout",
     "output_type": "stream",
     "text": [
      "['P', 'y', 't', 'h', 'o', 'n']\n"
     ]
    }
   ],
   "source": [
    "print([character for character in \"Python\"])"
   ]
  },
  {
   "cell_type": "code",
   "execution_count": 15,
   "id": "4271eca9",
   "metadata": {},
   "outputs": [
    {
     "name": "stdout",
     "output_type": "stream",
     "text": [
      "[4, 5, 6]\n"
     ]
    }
   ],
   "source": [
    "l= []\n",
    "l.append(4)\n",
    "l.extend([5,6]) \n",
    "\n",
    "print(l) "
   ]
  },
  {
   "cell_type": "code",
   "execution_count": 16,
   "id": "a4fe10b1",
   "metadata": {},
   "outputs": [
    {
     "name": "stdout",
     "output_type": "stream",
     "text": [
      "True\n"
     ]
    }
   ],
   "source": [
    "print(\"ram\" in \"Programming is fun\")"
   ]
  },
  {
   "cell_type": "code",
   "execution_count": 18,
   "id": "423aecf3",
   "metadata": {},
   "outputs": [
    {
     "ename": "TypeError",
     "evalue": "'tuple' object does not support item assignment",
     "output_type": "error",
     "traceback": [
      "\u001b[1;31m---------------------------------------------------------------------------\u001b[0m",
      "\u001b[1;31mTypeError\u001b[0m                                 Traceback (most recent call last)",
      "\u001b[1;32m<ipython-input-18-ae54ad6e60e3>\u001b[0m in \u001b[0;36m<module>\u001b[1;34m\u001b[0m\n\u001b[0;32m      1\u001b[0m \u001b[0mt\u001b[0m \u001b[1;33m=\u001b[0m \u001b[1;33m(\u001b[0m\u001b[1;36m1\u001b[0m\u001b[1;33m,\u001b[0m \u001b[1;36m2\u001b[0m\u001b[1;33m,\u001b[0m \u001b[1;36m3\u001b[0m\u001b[1;33m)\u001b[0m\u001b[1;33m\u001b[0m\u001b[1;33m\u001b[0m\u001b[0m\n\u001b[1;32m----> 2\u001b[1;33m \u001b[0mt\u001b[0m\u001b[1;33m[\u001b[0m\u001b[1;36m1\u001b[0m\u001b[1;33m]\u001b[0m \u001b[1;33m=\u001b[0m \u001b[1;36m0\u001b[0m\u001b[1;33m\u001b[0m\u001b[1;33m\u001b[0m\u001b[0m\n\u001b[0m",
      "\u001b[1;31mTypeError\u001b[0m: 'tuple' object does not support item assignment"
     ]
    }
   ],
   "source": [
    "t = (1, 2, 3) \n",
    "t[1] = 0\n"
   ]
  },
  {
   "cell_type": "code",
   "execution_count": 19,
   "id": "93be6ea1",
   "metadata": {},
   "outputs": [
    {
     "name": "stdout",
     "output_type": "stream",
     "text": [
      "Is it a \ttab?\n"
     ]
    }
   ],
   "source": [
    "print (\"\"\"Is it a \\ttab?\"\"\") "
   ]
  },
  {
   "cell_type": "code",
   "execution_count": 20,
   "id": "fed56f71",
   "metadata": {},
   "outputs": [
    {
     "ename": "SyntaxError",
     "evalue": "invalid syntax (<ipython-input-20-b1e4b221c28f>, line 1)",
     "output_type": "error",
     "traceback": [
      "\u001b[1;36m  File \u001b[1;32m\"<ipython-input-20-b1e4b221c28f>\"\u001b[1;36m, line \u001b[1;32m1\u001b[0m\n\u001b[1;33m    print( \"\"%-8.3f\"\" % 10. + \"\"\\n\"\" + \"\"%-8.3f\"\" % 100)\u001b[0m\n\u001b[1;37m                  ^\u001b[0m\n\u001b[1;31mSyntaxError\u001b[0m\u001b[1;31m:\u001b[0m invalid syntax\n"
     ]
    }
   ],
   "source": [
    "print( \"\"%-8.3f\"\" % 10. + \"\"\\n\"\" + \"\"%-8.3f\"\" % 100)"
   ]
  },
  {
   "cell_type": "code",
   "execution_count": null,
   "id": "0efd284d",
   "metadata": {},
   "outputs": [],
   "source": []
  }
 ],
 "metadata": {
  "kernelspec": {
   "display_name": "Python 3",
   "language": "python",
   "name": "python3"
  },
  "language_info": {
   "codemirror_mode": {
    "name": "ipython",
    "version": 3
   },
   "file_extension": ".py",
   "mimetype": "text/x-python",
   "name": "python",
   "nbconvert_exporter": "python",
   "pygments_lexer": "ipython3",
   "version": "3.8.8"
  }
 },
 "nbformat": 4,
 "nbformat_minor": 5
}
